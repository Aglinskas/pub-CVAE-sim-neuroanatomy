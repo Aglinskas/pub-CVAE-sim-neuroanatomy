{
 "cells": [
  {
   "cell_type": "code",
   "execution_count": 1,
   "id": "7c82e668-c09e-4b9c-9791-3307974ab337",
   "metadata": {},
   "outputs": [
    {
     "name": "stdout",
     "output_type": "stream",
     "text": [
      "Thu Jan 25 07:49:14 EST 2024\n"
     ]
    }
   ],
   "source": [
    "!date"
   ]
  },
  {
   "cell_type": "code",
   "execution_count": 2,
   "id": "b5a656ea-96f4-4f6d-9a33-21493c35d087",
   "metadata": {},
   "outputs": [
    {
     "data": {
      "text/plain": [
       "'/mmfs1/data/aglinska/BC-sim/Code'"
      ]
     },
     "execution_count": 2,
     "metadata": {},
     "output_type": "execute_result"
    }
   ],
   "source": [
    "pwd"
   ]
  },
  {
   "cell_type": "code",
   "execution_count": 3,
   "id": "ba6bbdd4-f59e-4b49-80d4-68182adbfe16",
   "metadata": {},
   "outputs": [],
   "source": [
    "import os \n",
    "import numpy as np\n",
    "import pandas as pd\n",
    "from matplotlib import pyplot as plt\n",
    "import pickle\n",
    "from scipy.spatial.distance import pdist,squareform\n",
    "from rsa_funcs import fit_rsa,make_RDM,get_triu\n",
    "from tqdm import tqdm"
   ]
  },
  {
   "cell_type": "code",
   "execution_count": 4,
   "id": "b79bb468-9369-4d53-aaae-5f6a51d9f160",
   "metadata": {},
   "outputs": [
    {
     "name": "stdout",
     "output_type": "stream",
     "text": [
      "CVAE-3type-N500hmmrUxrGIt 43 13 0\n",
      "N200-fix-ecgLoaZUBd 46 20 0\n",
      "N200-fix-AzJewVzNDC 45 20 0\n",
      "N200-fix-DzsjKrsbze 42 20 0\n",
      "CVAE-3type-N500pAJEYZHjYj 49 20 0\n",
      "CVAE-3type-N500gYGEfcZxDC 48 20 0\n",
      "CVAE-3type-N500OoREXdpler 47 20 0\n",
      "CVAE-3type-N500XwLMaIGLLd 47 20 0\n",
      "N200-fix-tVSrAEvqkF 48 20 0\n",
      "N200-fix-eqsoMaLksq 46 20 0\n",
      "CVAE-3type-N1000CuxSbTjVjA 46 20 0\n",
      "CVAE-3type-N1000HNNuPmQGry 49 20 0\n",
      "CVAE-3type-N1000SVJIxTdsuB 47 20 0\n",
      "CVAE-3type-N1000CVtphxTUCn 46 20 0\n",
      "CVAE-3type-N1000eYIilgPIHN 40 20 0\n",
      "CVAE-3type-RpjbVewTkF 48 20 0\n",
      "CVAE-3type-COlRaiafwG 45 20 0\n",
      "CVAE-3type-rxbrpNgKNC 47 20 0\n",
      "CVAE-3type-cjDXIoxZHB 46 20 0\n",
      "CVAE-3type-YAjYFtDAep 44 20 0\n",
      "CVAE-5type-N1000-zHXfpElhZf 48 20 0\n",
      "CVAE-5type-N1000-bGwnoafftJ 46 20 0\n",
      "CVAE-5type-N1000-gYdpyQdCzh 48 20 0\n",
      "CVAE-5type-N1000-cleHmpYSXk 44 20 0\n",
      "CVAE-5type-N1000-bCxBTltyKJ 43 20 0\n",
      "2type-N1000-SsAkmZgMEg 44 20 0\n",
      "2type-N1000-jgaXcHvlrU 47 20 0\n",
      "2type-N1000-yVufeEzKhJ 46 20 0\n",
      "2type-N1000-lNlPUEKniS 47 20 0\n",
      "2type-N1000-RyexWBHBsC 45 20 0\n",
      "N200-FMhdEaqiXl 91 20 0\n",
      "N200-xwggkwclYz 96 20 0\n",
      "N200-rZcOPqFXWx 96 20 0\n",
      "N200-sITxhIXbJO 88 20 0\n",
      "N200-QveHRdrOUz 95 20 0\n",
      "N200-uLjLkoqrVM 0 0 0\n",
      "N200-DeSfUIZOXm 0 0 0\n",
      "CVAE-5type-dTkDjgdfxL 49 20 0\n",
      "CVAE-5type-iAiIvvxnyA 48 20 0\n",
      "CVAE-5type-HyABYkiDmv 46 20 0\n",
      "CVAE-5type-uLtXBzUGUc 43 20 0\n",
      "CVAE-5type-UpNRCErQyW 0 0 0\n",
      "2type-ImTsKjutaD 47 20 0\n",
      "2type-yvdvqaCvSX 48 20 0\n",
      "CVAE-5type-IFVZazjuWp 46 20 0\n",
      "VAE_1type_OCsgjPTPfX 50 20 0\n",
      "VAE_1type_kncnWVtQih 50 20 0\n",
      "VAE_1type_UgKpOQRkbT 50 20 0\n",
      "VAE_1type_kiVqSUuzPw 50 20 0\n",
      "VAE_1type_ZeaIiXVaJT 50 20 0\n",
      "DIM-4-UZbzMfpePr 18 18 0\n",
      "DIM-4-mdtshDkScC 20 20 0\n",
      "DIM-4-AgpwGmJQKx 18 18 0\n",
      "DIM-4-xjwGtzliuy 18 18 0\n",
      "DIM-4-aVMhIEvraC 19 19 0\n",
      "N500-RIxKgBtgMj 45 20 0\n",
      "N500-vHXUYIlWPw 47 20 0\n",
      "N500-yIIUviVmbl 49 20 0\n",
      "N500-knhKEbsyWA 44 20 0\n",
      "N500-InbUXvmqdK 47 20 0\n",
      "good-CIMgmCzfEA 49 20 0\n",
      "VAE_2type_dqgHKSXDPB 50 18 0\n",
      "VAE_2type_zEETSowiEi 50 18 0\n",
      "VAE_2type_IAVVVqCzhy 50 18 0\n",
      "VAE_2type_YsDhiVwbfr 50 18 0\n",
      "VAE_uHobWzHSMC 50 18 0\n",
      "VAE_xxVLVwfNvW 50 18 0\n",
      "N500-NdwxUsfOui 44 19 0\n",
      "VAE_RJxHdYbSCT 50 0 0\n",
      "N500-RvJSbvOXnQ 0 0 0\n",
      "2type-8DJABcJFCtwb 3 0 0\n",
      "VAE_TZhLdgkcdn 50 2 0\n",
      "2type-GCyPfzEyNN 47 20 0\n",
      "2type-odHQZhUYxZ 45 20 0\n",
      "2type-8DqULkbZtaFi 94 14 0\n",
      "2type-QzJmjkwddT 45 20 0\n",
      "DIM-8dVIawRUDpG 43 20 0\n",
      "DIM-8IgCIInpdyf 44 20 0\n",
      "DIM-8dTEcVhzcaN 45 20 0\n",
      "DIM-8CTVvqgoBiO 46 20 0\n",
      "DIM-4-long-NMvfQPpVOw 20 20 0\n",
      "DIM-8PONlzRTNFh 43 20 0\n",
      "DIM-4-long-VJGsPVXXnS 18 18 0\n",
      "DIM-4-long-eBDKfwmvyq 19 19 0\n",
      "DIM-4-long-OblcJUVjRE 18 18 0\n",
      "DIM-4-long-sAWqXEcvfB 15 15 0\n",
      "good-WGEYQtcZZJ 48 20 0\n",
      "good-mbKzlWMysG 46 20 0\n",
      "good-CfFxxcHpOS 46 20 0\n",
      "good-QQXNZRBSTz 46 20 0\n"
     ]
    }
   ],
   "source": [
    "analyses = [a for a in os.listdir('../scratch/') if not a.startswith('.')]\n",
    "analyses = np.array(analyses)\n",
    "created_date = np.array([os.stat((os.path.join('../scratch/',analysis))).st_mtime for analysis in analyses])\n",
    "created_date = np.argsort(created_date)[::-1]\n",
    "#analyses.sort()\n",
    "analyses = analyses[created_date]\n",
    "\n",
    "def check_done(analysis_name):\n",
    "    if os.path.exists(os.path.join('../scratch/',analysis_name,'stage_1')):\n",
    "        n1 = len([f for f in os.listdir(os.path.join('../scratch/',analysis_name,'stage_1')) if f.startswith('varexp_attmp')])\n",
    "    else:\n",
    "        n1 = 0\n",
    "    \n",
    "    if os.path.exists(os.path.join('../scratch/',analysis_name,'stage_2')):\n",
    "        n2 = len([f for f in os.listdir(os.path.join('../scratch/',analysis_name,'stage_2')) if f.startswith('varexp_attmp')])\n",
    "    else:\n",
    "        n2 = 0\n",
    "    \n",
    "    if os.path.exists(os.path.join('../scratch/',analysis_name,'stage_3')):\n",
    "        n3 = len([f for f in os.listdir(os.path.join('../scratch/',analysis_name,'stage_3')) if f.startswith('varexp_attmp')])\n",
    "    else:\n",
    "        n3 = 0\n",
    "    \n",
    "    print(f'{analysis_name} {n1} {n2} {n3}')\n",
    "\n",
    "[check_done(analysis_name) for analysis_name in analyses];\n"
   ]
  },
  {
   "cell_type": "code",
   "execution_count": 5,
   "id": "62671f21-0711-408e-9e57-ba0dc16df797",
   "metadata": {},
   "outputs": [],
   "source": [
    "def get_descriptive(vec,decimals=2):\n",
    "    vec = np.array(vec)\n",
    "    if decimals==2:\n",
    "        print(f'M = {np.nanmean(vec):.2f}, SD = {np.nanstd(vec):.2f}, range {np.nanmin(vec):.2f}-{np.nanmax(vec):.2f}')\n",
    "    elif decimals==3:\n",
    "        print(f'M = {np.nanmean(vec):.3f}, SD = {np.nanstd(vec):.3f}, range {np.nanmin(vec):.3f}-{np.nanmax(vec):.3f}')"
   ]
  },
  {
   "cell_type": "code",
   "execution_count": null,
   "id": "c9da5946-8c53-42fc-a36d-da1a94a72cae",
   "metadata": {},
   "outputs": [],
   "source": []
  },
  {
   "cell_type": "code",
   "execution_count": 6,
   "id": "04bc1b8b-e95e-4228-a115-d4190bdf453f",
   "metadata": {},
   "outputs": [],
   "source": [
    "def pretty_t_1sample(vec,popmean):\n",
    "    from scipy.stats import ttest_1samp\n",
    "    t,p = ttest_1samp(vec,popmean,alternative='two-sided')\n",
    "    if p < .001:\n",
    "        print(f't({len(vec)-1}) = {t:.2f}, p < .001')\n",
    "    else:\n",
    "        print(f't({len(vec)-1}) = {t:.2f}, p = {p:.3f}')\n",
    "        \n",
    "def pretty_t_ind(vec1,vec2):\n",
    "    from scipy.stats import ttest_ind\n",
    "    t,p = ttest_ind(vec1,vec2)\n",
    "    if p < .001:\n",
    "        print(f't({len(vec1)+len(vec2)-2}) = {t:.2f}, p < .001')\n",
    "    else:\n",
    "        print(f't({len(vec1)+len(vec2)-2}) = {t:.2f}, p = {p:.3f}')"
   ]
  },
  {
   "cell_type": "code",
   "execution_count": null,
   "id": "f45a0319-5dc8-4f42-8c62-dc3a23c0b79a",
   "metadata": {},
   "outputs": [],
   "source": []
  },
  {
   "cell_type": "code",
   "execution_count": 7,
   "id": "9961c97c-23fb-4ebf-bfa4-89543afe29e9",
   "metadata": {},
   "outputs": [],
   "source": [
    "from numpy import arctanh as fisher_z # https://stats.stackexchange.com/questions/109028/fishers-z-transform-in-python"
   ]
  },
  {
   "cell_type": "code",
   "execution_count": 8,
   "id": "ffa26e05-aaa2-465b-b787-b545c9b893bb",
   "metadata": {},
   "outputs": [],
   "source": [
    "import numpy as np\n",
    "from scipy.spatial.distance import pdist\n",
    "from scipy.spatial.distance import squareform\n",
    "from scipy.stats import kendalltau\n",
    "\n",
    "def fit_rsa(rdm_data,rdm_model,metric='kendalltau'):\n",
    "    # Takes in two similarity matrices (n x n), has to be square, symmetrical, and either 1s or 0s on the diagonal\n",
    "    # vectorizes them \n",
    "    # Calculates a correlation between them\n",
    "    # returns r value (between -1 and 1)\n",
    "\n",
    "    if metric=='kendalltau':\n",
    "        #print('metric==kendalltau') \n",
    "        return kendalltau(get_triu(rdm_data),get_triu(rdm_model))[0]\n",
    "    elif metric=='pearsonr':\n",
    "        #print('metric==pearsonr') \n",
    "        return np.corrcoef(get_triu(rdm_data),get_triu(rdm_model))[0,1]\n",
    "    else:\n",
    "        print('not implemented, wtf')\n",
    "        return np.nan\n",
    "        \n",
    "def make_RDM(inVec,data_scale='ratio',metric='euclidean'):\n",
    "    # Makes an similarity matrix\n",
    "    # Takes in a data matrix (n x p), subjects as rows, and abitrary number of features \n",
    "    # Whether you give it a 5x2 or a 5x10000 matrix, will give back a 5x5 similarity matrix\n",
    "    # \n",
    "    vec = inVec # Takes whatever data you give it \n",
    "    vec = (vec - min(vec.flatten())) / (max(vec.flatten())-min(vec.flatten())) # Normalizes between 0 and 1\n",
    "    \n",
    "    if np.ndim(inVec)==1: # must be at least 2D\n",
    "        vec = np.vstack((vec,np.zeros(vec.shape))).transpose() # this is... just... magic. so beautiful. I mean really. \n",
    "        # ^ ok ok lemme explain \n",
    "        # pdist function below, works on >=2D data\n",
    "        # this is a hack in case you want to use it on 1D data\n",
    "        # in case you pass it a 1D vector, it adds a column of zeros\n",
    "        # which doesnt change the distances, \n",
    "                   \n",
    "    mat = squareform(pdist(vec,metric=metric).transpose()) # Takes in calcs the distances, turns into a dissimilarity matrix\n",
    "\n",
    "    if data_scale=='ordinal': # In case the data is ordinal, makes into a same or differnt matrix or ones and zeros\n",
    "        mat[mat!=0]=1 # Make into zeros and ones\n",
    "        \n",
    "    return mat\n",
    "\n",
    "def get_triu(inMat):\n",
    "    # Nifty function that takes in a similarity matrix (nxn) and vectorizes it (returns the upper triangle values)\n",
    "    \n",
    "    assert np.ndim(inMat)==2, 'not 2 dim, wtf' # Check if some dummy passed a nd array instead of a simmmat\n",
    "    assert inMat.shape[0]==inMat.shape[1], 'not a square' # make sure it's a square\n",
    "\n",
    "    n = inMat.shape[0]\n",
    "    triu_vec = inMat[np.triu_indices(n=n,k=1)] # Takes the upper triangle values\n",
    "    \n",
    "    return triu_vec"
   ]
  },
  {
   "cell_type": "code",
   "execution_count": 9,
   "id": "b334dec5-0481-4fa7-bca4-1668061084d2",
   "metadata": {},
   "outputs": [],
   "source": [
    "data_csv_fn = '../Data/synth-data-01.csv'\n",
    "#data_csv_fn = '../Data/synth-data-02.csv'\n",
    "#data_csv_fn = '../Data/synth-data-01-N500.csv'\n",
    "\n",
    "df = pd.read_csv(data_csv_fn)\n",
    "n = df.shape[0]\n",
    "patient_idx = np.nonzero(df['dx'].values==1)[0]\n",
    "control_idx = np.nonzero(df['dx'].values==0)[0]\n",
    "\n",
    "rdm_tx_s = make_RDM(df.iloc[df['dx'].values==1]['adhd_tx'].values,data_scale='ratio', metric='euclidean')\n",
    "rdm_tx_z = make_RDM(df.iloc[df['dx'].values==1]['td_tx'].values,data_scale='ratio', metric='euclidean')\n",
    "triu = np.triu_indices(rdm_tx_s.shape[0],1)\n",
    "vec_tx_s = rdm_tx_s[triu]\n",
    "vec_tx_z = rdm_tx_z[triu]"
   ]
  },
  {
   "cell_type": "code",
   "execution_count": null,
   "id": "ca2e8689-72c9-4ad4-8371-cbc4690f1b42",
   "metadata": {},
   "outputs": [],
   "source": []
  },
  {
   "cell_type": "code",
   "execution_count": null,
   "id": "b4029549-9120-4ddb-90cf-f5fa51310b2f",
   "metadata": {},
   "outputs": [],
   "source": []
  },
  {
   "cell_type": "code",
   "execution_count": null,
   "id": "355548a7-047c-4b43-99bc-34e6544ffe62",
   "metadata": {},
   "outputs": [],
   "source": []
  },
  {
   "cell_type": "code",
   "execution_count": 10,
   "id": "591d3bc2-dfa1-4990-8529-39d0770ca800",
   "metadata": {},
   "outputs": [],
   "source": [
    "analyses = ['VAE_1type_kncnWVtQih','VAE_1type_UgKpOQRkbT','VAE_1type_kiVqSUuzPw','VAE_1type_ZeaIiXVaJT','VAE_1type_OCsgjPTPfX']\n",
    "\n",
    "vae_varexps = []\n",
    "vae_varexps_m = []\n",
    "latents = []\n",
    "for analysis in analyses:\n",
    "    training_logs_fns = [f for f in os.listdir(f'../scratch/{analysis}/stage_2/') if f.startswith('training_log_')]\n",
    "    training_logs = [np.load(os.path.join(f'../scratch/{analysis}/stage_2/',training_log)) for training_log in training_logs_fns]\n",
    "    varexp = [training_log['varExps'][-1] for training_log in training_logs]\n",
    "    varexp = np.array(varexp)\n",
    "    \n",
    "    vae_varexps.append( varexp )\n",
    "    vae_varexps_m.append( varexp.mean() )\n",
    "    latents.append( [training_log['l_patients'] for training_log in training_logs] )\n",
    "\n",
    "vae_rsa_z_indiv = []\n",
    "for i in range(len(latents)):\n",
    "    vae_rsa_z_indiv.append( [fit_rsa(make_RDM(latents[i][j]),rdm_tx_z) for j in range(len(latents[i]))] )\n",
    "\n",
    "vae_rsa_s_indiv = []\n",
    "for i in range(len(latents)):\n",
    "    vae_rsa_s_indiv.append( [fit_rsa(make_RDM(latents[i][j]),rdm_tx_s) for j in range(len(latents[i]))] )\n",
    "\n",
    "res_vae = {}\n",
    "res_vae['vae_varexp_indiv'] = np.array(vae_varexps)\n",
    "res_vae['vae_varexp_ens'] = np.array(vae_varexps_m)\n",
    "res_vae['latents'] = np.array(latents)\n",
    "res_vae['rsa_z_indiv'] = np.array(vae_rsa_z_indiv)\n",
    "res_vae['rsa_s_indiv'] = np.array(vae_rsa_s_indiv)\n",
    "res_vae['rsa_s_ens'] = res_vae['rsa_s_indiv'].mean(axis=1)\n",
    "res_vae['rsa_z_ens'] = res_vae['rsa_z_indiv'].mean(axis=1)"
   ]
  },
  {
   "cell_type": "code",
   "execution_count": null,
   "id": "e3f83f35-eda3-4f80-b100-4fc9b2dda371",
   "metadata": {},
   "outputs": [],
   "source": []
  },
  {
   "cell_type": "code",
   "execution_count": 11,
   "id": "b5fc49a5-6c4c-4590-bbcf-e6370ac60303",
   "metadata": {},
   "outputs": [
    {
     "name": "stdout",
     "output_type": "stream",
     "text": [
      "VAE: individual models variance explained:\n",
      "M = 0.88, SD = 0.06, range 0.63-0.95\n"
     ]
    }
   ],
   "source": [
    "# Individual models\n",
    "print('VAE: individual models variance explained:')\n",
    "get_descriptive(res_vae['vae_varexp_indiv'].flatten().flatten())"
   ]
  },
  {
   "cell_type": "code",
   "execution_count": 12,
   "id": "56ae0d14-3f7e-4403-9101-9fd5c5dbb539",
   "metadata": {},
   "outputs": [
    {
     "name": "stdout",
     "output_type": "stream",
     "text": [
      "VAE: ensemble models variance explained:\n",
      "M = 0.88, SD = 0.01, range 0.85-0.89\n"
     ]
    }
   ],
   "source": [
    "# Ensemble model\n",
    "print('VAE: ensemble models variance explained:')\n",
    "get_descriptive(res_vae['vae_varexp_ens'].flatten())"
   ]
  },
  {
   "cell_type": "code",
   "execution_count": 13,
   "id": "fcf7459c-1ca6-44ad-a880-c76c1825fdde",
   "metadata": {},
   "outputs": [
    {
     "name": "stdout",
     "output_type": "stream",
     "text": [
      "VAE individual: correlation with shared effects:\n",
      "M = 0.46, SD = 0.03, range 0.41-0.52\n"
     ]
    }
   ],
   "source": [
    "print('VAE individual: correlation with shared effects:')\n",
    "get_descriptive(res_vae['rsa_z_indiv'].flatten())"
   ]
  },
  {
   "cell_type": "code",
   "execution_count": 14,
   "id": "08cd3a34-3e6f-458c-a2d4-cb017340ee51",
   "metadata": {},
   "outputs": [
    {
     "name": "stdout",
     "output_type": "stream",
     "text": [
      "VAE individual: correlation with disorder-related effects:\n",
      "M = 0.01, SD = 0.01, range 0.00-0.03\n"
     ]
    }
   ],
   "source": [
    "print('VAE individual: correlation with disorder-related effects:')\n",
    "get_descriptive(res_vae['rsa_s_indiv'].flatten())"
   ]
  },
  {
   "cell_type": "code",
   "execution_count": 15,
   "id": "01b0e339-317a-40ab-a76b-9fc5a09b2131",
   "metadata": {},
   "outputs": [
    {
     "name": "stdout",
     "output_type": "stream",
     "text": [
      "VAE ensemble: correlation with shared effects:\n",
      "M = 0.46, SD = 0.00, range 0.46-0.47\n"
     ]
    }
   ],
   "source": [
    "print('VAE ensemble: correlation with shared effects:')\n",
    "get_descriptive(res_vae['rsa_z_ens'])"
   ]
  },
  {
   "cell_type": "code",
   "execution_count": 16,
   "id": "74b94a41-fe25-440e-873f-4144ee17bd33",
   "metadata": {},
   "outputs": [
    {
     "name": "stdout",
     "output_type": "stream",
     "text": [
      "VAE ensemble: correlation with disorder-related effects:\n",
      "M = 0.01, SD = 0.00, range 0.01-0.01\n"
     ]
    }
   ],
   "source": [
    "print('VAE ensemble: correlation with disorder-related effects:')\n",
    "get_descriptive(res_vae['rsa_s_ens'])"
   ]
  },
  {
   "cell_type": "code",
   "execution_count": 17,
   "id": "48a42925-050b-4da3-a28c-a5bd052b11c2",
   "metadata": {},
   "outputs": [
    {
     "name": "stdout",
     "output_type": "stream",
     "text": [
      "t(4) = 14.98, p < .001\n"
     ]
    }
   ],
   "source": [
    "pretty_t_1sample(fisher_z(res_vae['rsa_s_ens']),popmean=0)"
   ]
  },
  {
   "cell_type": "code",
   "execution_count": 18,
   "id": "8ca3eef9-a43f-463b-a01f-251c9e4e88de",
   "metadata": {},
   "outputs": [],
   "source": [
    "def get_CVAE_res(analyses,data_csv_fn='../Data/synth-data-01.csv'):\n",
    "\n",
    "\n",
    "    df = pd.read_csv(data_csv_fn)\n",
    "    n = df.shape[0]\n",
    "    patient_idx = np.nonzero(df['dx'].values==1)[0]\n",
    "    control_idx = np.nonzero(df['dx'].values==0)[0]\n",
    "    \n",
    "    rdm_tx_s = make_RDM(df.iloc[df['dx'].values==1]['adhd_tx'].values,data_scale='ratio', metric='euclidean')\n",
    "    rdm_tx_z = make_RDM(df.iloc[df['dx'].values==1]['td_tx'].values,data_scale='ratio', metric='euclidean')\n",
    "    triu = np.triu_indices(rdm_tx_s.shape[0],1)\n",
    "    vec_tx_s = rdm_tx_s[triu]\n",
    "    vec_tx_z = rdm_tx_z[triu]\n",
    "    \n",
    "    s_latents = []\n",
    "    z_latents = []\n",
    "    cvae_varexps = []\n",
    "    cvae_varexps_m = []\n",
    "    \n",
    "    loss = []\n",
    "    loss_mse = []\n",
    "    loss_kl = []\n",
    "    loss_tc = []\n",
    "    loss_dc = []\n",
    "    mus = []\n",
    "    sigmas = []\n",
    "    c_sim = []\n",
    "    corr_z_s = []\n",
    "    for analysis in analyses:\n",
    "        training_logs_fns = [f for f in os.listdir(f'../scratch/{analysis}/stage_2/') if f.startswith('training_log_')]\n",
    "        training_logs = [np.load(os.path.join(f'../scratch/{analysis}/stage_2/',training_log)) for training_log in training_logs_fns]\n",
    "        varexp = [training_log['varExps'][-1] for training_log in training_logs]\n",
    "        varexp = np.array(varexp)\n",
    "        \n",
    "        cvae_varexps.append( varexp )\n",
    "        cvae_varexps_m.append( varexp.mean() )\n",
    "        s_latents.append( [training_log['s_patients'] for training_log in training_logs] )\n",
    "        z_latents.append( [training_log['z_patients'] for training_log in training_logs] )\n",
    "    \n",
    "        loss.append( [training_log['loss'][-1] for training_log in training_logs] )\n",
    "        loss_mse.append( [training_log['loss_mse'][-1] for training_log in training_logs] )\n",
    "        loss_kl.append( [training_log['loss_kl'][-1] for training_log in training_logs] )\n",
    "        loss_tc.append( [training_log['loss_tc'][-1] for training_log in training_logs] )\n",
    "        loss_dc.append( [training_log['loss_dc'][-1] for training_log in training_logs] )\n",
    "        \n",
    "    \n",
    "        mus.append( [training_log['mus'][-1] for training_log in training_logs] )\n",
    "        sigmas.append( [training_log['sigmas'][-1] for training_log in training_logs] )\n",
    "        c_sim.append( [training_log['c_sim'][-1] for training_log in training_logs] )\n",
    "        corr_z_s.append( [training_log['corr_z_s'][-1] for training_log in training_logs] )\n",
    "\n",
    "    cvae_rsa_z_indiv = []\n",
    "    cvae_rsa_zs_indiv = []\n",
    "    for i in range(len(z_latents)):\n",
    "            cvae_rsa_z_indiv.append( [fit_rsa(make_RDM(z_latents[i][j][-1,:,:]),rdm_tx_z) for j in range(len(z_latents[i]))] )\n",
    "            cvae_rsa_zs_indiv.append( [fit_rsa(make_RDM(z_latents[i][j][-1,:,:]),rdm_tx_s) for j in range(len(z_latents[i]))] )\n",
    "    \n",
    "    cvae_rsa_s_indiv = []\n",
    "    cvae_rsa_sz_indiv = []\n",
    "    for i in range(len(s_latents)):\n",
    "            cvae_rsa_s_indiv.append( [fit_rsa(make_RDM(s_latents[i][j][-1,:,:]),rdm_tx_s) for j in range(len(s_latents[i]))] )\n",
    "            cvae_rsa_sz_indiv.append( [fit_rsa(make_RDM(s_latents[i][j][-1,:,:]),rdm_tx_z) for j in range(len(s_latents[i]))] )\n",
    "        \n",
    "    res_cvae = {}\n",
    "    res_cvae['cvae_varexps'] = np.array(cvae_varexps)\n",
    "    res_cvae['cvae_varexps_m'] = np.array(cvae_varexps_m)\n",
    "    res_cvae['s_latents'] = np.array(s_latents)\n",
    "    res_cvae['z_latents'] = np.array(z_latents)\n",
    "    res_cvae['loss'] = np.array(loss)\n",
    "    res_cvae['loss_mse'] = np.array(loss_mse)\n",
    "    res_cvae['loss_kl'] = np.array(loss_kl)\n",
    "    res_cvae['loss_tc'] = np.array(loss_tc)\n",
    "    res_cvae['loss_dc'] = np.array(loss_dc)\n",
    "    res_cvae['mus'] = np.array(mus)\n",
    "    res_cvae['sigmas'] = np.array(sigmas)\n",
    "    res_cvae['c_sim'] = np.array(c_sim)\n",
    "    res_cvae['corr_z_s'] = np.array(corr_z_s)\n",
    "    res_cvae['rsa_z_indiv'] = np.array(cvae_rsa_z_indiv)\n",
    "    res_cvae['rsa_s_indiv'] = np.array(cvae_rsa_s_indiv)\n",
    "\n",
    "    res_cvae['rsa_zs_indiv'] = np.array(cvae_rsa_zs_indiv)\n",
    "    res_cvae['rsa_sz_indiv'] = np.array(cvae_rsa_sz_indiv)\n",
    "    \n",
    "    res_cvae['rsa_z_ens'] = np.nanmean(res_cvae['rsa_z_indiv'],axis=1)\n",
    "    res_cvae['rsa_s_ens'] = np.nanmean(res_cvae['rsa_s_indiv'],axis=1)\n",
    "    res_cvae['rsa_zs_ens'] = np.nanmean(res_cvae['rsa_zs_indiv'],axis=1)\n",
    "    res_cvae['rsa_sz_ens'] = np.nanmean(res_cvae['rsa_sz_indiv'],axis=1)\n",
    "    #res_cvae[''] = np.array()\n",
    "\n",
    "    [print(f'{key} | {res_cvae[key].shape}') for key in list(res_cvae.keys())];\n",
    "\n",
    "    return res_cvae"
   ]
  },
  {
   "cell_type": "code",
   "execution_count": 19,
   "id": "b080175d-43ee-4a74-bdcc-3aa12256b216",
   "metadata": {},
   "outputs": [
    {
     "name": "stdout",
     "output_type": "stream",
     "text": [
      "cvae_varexps | (5, 20)\n",
      "cvae_varexps_m | (5,)\n",
      "s_latents | (5, 20, 100, 500, 2)\n",
      "z_latents | (5, 20, 100, 500, 2)\n",
      "loss | (5, 20)\n",
      "loss_mse | (5, 20)\n",
      "loss_kl | (5, 20)\n",
      "loss_tc | (5, 20)\n",
      "loss_dc | (5, 20)\n",
      "mus | (5, 20)\n",
      "sigmas | (5, 20)\n",
      "c_sim | (5, 20)\n",
      "corr_z_s | (5, 20)\n",
      "rsa_z_indiv | (5, 20)\n",
      "rsa_s_indiv | (5, 20)\n",
      "rsa_zs_indiv | (5, 20)\n",
      "rsa_sz_indiv | (5, 20)\n",
      "rsa_z_ens | (5,)\n",
      "rsa_s_ens | (5,)\n",
      "rsa_zs_ens | (5,)\n",
      "rsa_sz_ens | (5,)\n"
     ]
    }
   ],
   "source": [
    "analyses = ['good-WGEYQtcZZJ','good-mbKzlWMysG','good-CfFxxcHpOS','good-QQXNZRBSTz','good-CIMgmCzfEA']\n",
    "res_cvae = get_CVAE_res(analyses)"
   ]
  },
  {
   "cell_type": "code",
   "execution_count": 20,
   "id": "7c08d2da-7dbf-4c23-b85c-535f865efc20",
   "metadata": {},
   "outputs": [
    {
     "name": "stdout",
     "output_type": "stream",
     "text": [
      "ens loss: 328-353\n",
      "ens loss mse: 5.71-6.39\n",
      "ens loss KL: 27.85-28.89\n"
     ]
    }
   ],
   "source": [
    "temp=res_cvae['loss'].mean(axis=1);print(f'ens loss: {temp.min():.0f}-{temp.max():.0f}')\n",
    "temp=res_cvae['loss_mse'].mean(axis=1);print(f'ens loss mse: {temp.min():.2f}-{temp.max():.2f}')\n",
    "temp=res_cvae['loss_kl'].mean(axis=1);print(f'ens loss KL: {temp.min():.2f}-{temp.max():.2f}')"
   ]
  },
  {
   "cell_type": "code",
   "execution_count": 21,
   "id": "279df7b2-bca4-40fb-9c03-13e69f41fbff",
   "metadata": {},
   "outputs": [
    {
     "name": "stdout",
     "output_type": "stream",
     "text": [
      "CVAE individual: Variance explained:\n",
      "M = 0.89, SD = 0.02, range 0.80-0.92\n"
     ]
    }
   ],
   "source": [
    "print('CVAE individual: Variance explained:')\n",
    "get_descriptive(res_cvae['cvae_varexps'].flatten())"
   ]
  },
  {
   "cell_type": "code",
   "execution_count": 22,
   "id": "de2c4256-ca7c-49f5-915a-a25cb78c1ce3",
   "metadata": {},
   "outputs": [
    {
     "name": "stdout",
     "output_type": "stream",
     "text": [
      "CVAE ensemble: Variance explained:\n",
      "M = 0.89, SD = 0.01, range 0.88-0.90\n"
     ]
    }
   ],
   "source": [
    "print('CVAE ensemble: Variance explained:')\n",
    "get_descriptive(res_cvae['cvae_varexps_m'])"
   ]
  },
  {
   "cell_type": "code",
   "execution_count": null,
   "id": "ea51737f-8b41-4966-a279-fdd80353139f",
   "metadata": {},
   "outputs": [],
   "source": []
  },
  {
   "cell_type": "code",
   "execution_count": 23,
   "id": "41fa9f0e-2909-4c68-9c82-2d9e6c11716b",
   "metadata": {
    "scrolled": true
   },
   "outputs": [
    {
     "name": "stdout",
     "output_type": "stream",
     "text": [
      "CVAE individual: correlation with shared effects:\n",
      "M = 0.48, SD = 0.03, range 0.41-0.53\n"
     ]
    }
   ],
   "source": [
    "print('CVAE individual: correlation with shared effects:')\n",
    "get_descriptive(res_cvae['rsa_z_indiv'].flatten())"
   ]
  },
  {
   "cell_type": "code",
   "execution_count": 24,
   "id": "7aa61570-aa71-4ca5-9a96-bd1feea37819",
   "metadata": {},
   "outputs": [
    {
     "name": "stdout",
     "output_type": "stream",
     "text": [
      "CVAE individual: correlation with disorder-related effects:\n",
      "M = 0.21, SD = 0.07, range 0.05-0.38\n"
     ]
    }
   ],
   "source": [
    "print('CVAE individual: correlation with disorder-related effects:')\n",
    "get_descriptive(res_cvae['rsa_s_indiv'].flatten())"
   ]
  },
  {
   "cell_type": "code",
   "execution_count": 25,
   "id": "8296519b-3573-4e8d-8e56-cd317c862ddf",
   "metadata": {},
   "outputs": [
    {
     "name": "stdout",
     "output_type": "stream",
     "text": [
      "CVAE ensemble: correlation with shared effects:\n",
      "M = 0.48, SD = 0.01, range 0.47-0.49\n"
     ]
    }
   ],
   "source": [
    "print('CVAE ensemble: correlation with shared effects:')\n",
    "get_descriptive(res_cvae['rsa_z_ens'])"
   ]
  },
  {
   "cell_type": "code",
   "execution_count": 26,
   "id": "36b375d3-10a3-4aa2-b6a4-d302eab0f31c",
   "metadata": {},
   "outputs": [
    {
     "name": "stdout",
     "output_type": "stream",
     "text": [
      "CVAE ensemble: correlation with disorder-related effects:\n",
      "M = 0.21, SD = 0.01, range 0.19-0.23\n"
     ]
    }
   ],
   "source": [
    "print('CVAE ensemble: correlation with disorder-related effects:')\n",
    "get_descriptive(res_cvae['rsa_s_ens'])"
   ]
  },
  {
   "cell_type": "code",
   "execution_count": 27,
   "id": "f6fc037b-7443-42b4-a03c-c8a2eadf6aff",
   "metadata": {},
   "outputs": [
    {
     "name": "stdout",
     "output_type": "stream",
     "text": [
      "CVAE ensemble cross-corr: correlation of shared features with disorder-related effects:\n",
      "M = 0.010, SD = 0.001, range 0.009-0.011\n"
     ]
    }
   ],
   "source": [
    "print('CVAE ensemble cross-corr: correlation of shared features with disorder-related effects:')\n",
    "get_descriptive(res_cvae['rsa_zs_ens'],decimals=3)"
   ]
  },
  {
   "cell_type": "code",
   "execution_count": 28,
   "id": "1bd8127e-8e3a-4de1-8dc6-ef92c50875fe",
   "metadata": {},
   "outputs": [
    {
     "name": "stdout",
     "output_type": "stream",
     "text": [
      "CVAE ensemble cross-corr: correlation of disorder-related features with shared effects:\n",
      "M = 0.15, SD = 0.01, range 0.13-0.15\n"
     ]
    }
   ],
   "source": [
    "print('CVAE ensemble cross-corr: correlation of disorder-related features with shared effects:')\n",
    "get_descriptive(res_cvae['rsa_sz_ens'])"
   ]
  },
  {
   "cell_type": "code",
   "execution_count": null,
   "id": "7c19d9c4-9cb0-4dbd-a3dc-168a619adcaa",
   "metadata": {},
   "outputs": [],
   "source": []
  },
  {
   "cell_type": "code",
   "execution_count": 29,
   "id": "859c033b-7c55-49f5-b16a-5a878afe9b63",
   "metadata": {},
   "outputs": [
    {
     "name": "stdout",
     "output_type": "stream",
     "text": [
      "Variance explained CVAE>VAE\n",
      "t(4) = -1.96, p = 0.121\n"
     ]
    }
   ],
   "source": [
    "print('Variance explained CVAE>VAE')\n",
    "pretty_t_1sample(fisher_z(res_vae['vae_varexp_ens']-res_cvae['cvae_varexps_m']),0)"
   ]
  },
  {
   "cell_type": "code",
   "execution_count": 30,
   "id": "de61f454-3c65-4814-bd94-8e01201901bf",
   "metadata": {},
   "outputs": [
    {
     "name": "stdout",
     "output_type": "stream",
     "text": [
      "Correlation with shared. CVAE > VAE\n",
      "t(8) = 3.66, p = 0.006\n"
     ]
    }
   ],
   "source": [
    "print('Correlation with shared. CVAE > VAE')\n",
    "pretty_t_ind(fisher_z(res_cvae['rsa_z_ens']),fisher_z(res_vae['rsa_z_ens']))"
   ]
  },
  {
   "cell_type": "code",
   "execution_count": 31,
   "id": "358ea8fe-59ab-429c-bd43-2b39c3cdef69",
   "metadata": {},
   "outputs": [
    {
     "name": "stdout",
     "output_type": "stream",
     "text": [
      "Correlation with shared. CVAE > VAE\n",
      "t(8) = 30.59, p < .001\n"
     ]
    }
   ],
   "source": [
    "print('Correlation with shared. CVAE > VAE')\n",
    "pretty_t_ind(fisher_z(res_cvae['rsa_s_ens']),fisher_z(res_vae['rsa_s_ens']))"
   ]
  },
  {
   "cell_type": "code",
   "execution_count": 32,
   "id": "ad3dc716-bb88-4c1f-a8f7-48f47d9499ed",
   "metadata": {},
   "outputs": [
    {
     "name": "stdout",
     "output_type": "stream",
     "text": [
      "t(8) = 9.44, p < .001\n"
     ]
    }
   ],
   "source": [
    "pretty_t_ind(fisher_z(res_cvae['rsa_s_ens']),fisher_z(res_cvae['rsa_sz_ens']))"
   ]
  },
  {
   "cell_type": "code",
   "execution_count": 33,
   "id": "451cd9a7-eed0-47e7-ab4a-6149c148061f",
   "metadata": {},
   "outputs": [
    {
     "name": "stdout",
     "output_type": "stream",
     "text": [
      "t(8) = 121.57, p < .001\n"
     ]
    }
   ],
   "source": [
    "pretty_t_ind(fisher_z(res_cvae['rsa_z_ens']),fisher_z(res_cvae['rsa_zs_ens']))"
   ]
  },
  {
   "cell_type": "code",
   "execution_count": null,
   "id": "31eb806a-860e-4aae-9363-e84af2ba2ee6",
   "metadata": {},
   "outputs": [],
   "source": []
  },
  {
   "cell_type": "code",
   "execution_count": 34,
   "id": "4bca0d11-ec3c-4970-9d5d-1ab4a9e23836",
   "metadata": {},
   "outputs": [
    {
     "name": "stdout",
     "output_type": "stream",
     "text": [
      "M = 0.99, SD = 0.01, range 0.98-1.00\n",
      "M = 0.99, SD = 0.00, range 0.98-1.00\n"
     ]
    },
    {
     "data": {
      "image/png": "[encoded data removed]",
      "text/plain": [
       "<Figure size 1500x300 with 1 Axes>"
      ]
     },
     "metadata": {},
     "output_type": "display_data"
    },
    {
     "data": {
      "image/png": "[encoded data removed]",
      "text/plain": [
       "<Figure size 1500x300 with 1 Axes>"
      ]
     },
     "metadata": {},
     "output_type": "display_data"
    }
   ],
   "source": [
    "load_or_calc = 'load'\n",
    "\n",
    "if load_or_calc=='calc':\n",
    "    rsa_vec_s = np.zeros((5,20,100))\n",
    "    rsa_vec_z = np.zeros((5,20,100))\n",
    "    for ensemble in range(5):\n",
    "        for model in tqdm(range(20)):\n",
    "            for epoch in range(100):\n",
    "                rsa_vec_s[ensemble,model,epoch] = fit_rsa(make_RDM(s_latents[ensemble][model][epoch,:,:]),rdm_tx_s)\n",
    "                rsa_vec_z[ensemble,model,epoch] = fit_rsa(make_RDM(z_latents[ensemble][model][epoch,:,:]),rdm_tx_z)\n",
    "                \n",
    "    np.save(file='../Results/rsa_vec_s.npy', arr=rsa_vec_s)\n",
    "    np.save(file='../Results/rsa_vec_z.npy', arr=rsa_vec_z)\n",
    "else:\n",
    "\n",
    "    rsa_vec_s = np.load('../Results/rsa_vec_s.npy')\n",
    "    rsa_vec_z = np.load('../Results/rsa_vec_z.npy')\n",
    "\n",
    "\n",
    "plt.figure(figsize=(15,3))\n",
    "for i in range(5):\n",
    "    m = rsa_vec_s.mean(axis=1)[i,:]\n",
    "    se = rsa_vec_s.std(axis=1)[i,:] / np.sqrt(20)\n",
    "    xs = np.arange(100)\n",
    "    plt.plot(m,'k-')\n",
    "    plt.fill_between(xs,m+se,m-se,color=np.array([0,167,32])/255)\n",
    "\n",
    "\n",
    "plt.figure(figsize=(15,3))\n",
    "for i in range(5):\n",
    "    m = rsa_vec_z.mean(axis=1)[i,:]\n",
    "    se = rsa_vec_z.std(axis=1)[i,:] / np.sqrt(20)\n",
    "    xs = np.arange(100)\n",
    "    plt.plot(m,'k-')\n",
    "    plt.fill_between(xs,m+se,m-se,color=np.array([0,107,175])/255)\n",
    "\n",
    "triu = np.triu_indices(5,1)\n",
    "get_descriptive(np.corrcoef(np.nanmean(rsa_vec_s,axis=1))[triu])\n",
    "get_descriptive(np.corrcoef(np.nanmean(rsa_vec_z,axis=1))[triu])"
   ]
  },
  {
   "cell_type": "code",
   "execution_count": null,
   "id": "35fc8a5e-3c7e-4e05-927a-d179134d772a",
   "metadata": {},
   "outputs": [],
   "source": []
  },
  {
   "cell_type": "code",
   "execution_count": 35,
   "id": "d82e1f3b-01d1-4b01-8d8c-3e54a78f80ea",
   "metadata": {},
   "outputs": [],
   "source": [
    "# analyses = ['N500-RIxKgBtgMj','N500-vHXUYIlWPw','N500-yIIUviVmbl','N500-knhKEbsyWA','N500-InbUXvmqdK']\n",
    "\n",
    "# n_500_s_latents = []\n",
    "# n_500_z_latents = []\n",
    "# n_500_cvae_varexps = []\n",
    "# n_500_cvae_varexps_m = []\n",
    "\n",
    "# for analysis in analyses:\n",
    "#     training_logs_fns = [f for f in os.listdir(f'../scratch/{analysis}/stage_2/') if f.startswith('training_log_')]\n",
    "#     training_logs = [np.load(os.path.join(f'../scratch/{analysis}/stage_2/',training_log)) for training_log in training_logs_fns]\n",
    "#     varexp = [training_log['varExps'][-1] for training_log in training_logs]\n",
    "#     varexp = np.array(varexp)\n",
    "    \n",
    "#     n_500_cvae_varexps.append( varexp )\n",
    "#     n_500_cvae_varexps_m.append( varexp.mean() )\n",
    "#     n_500_s_latents.append( [training_log['s_patients'] for training_log in training_logs] )\n",
    "#     n_500_z_latents.append( [training_log['z_patients'] for training_log in training_logs] )\n",
    "\n",
    "# n_500_s_latents = np.array(n_500_s_latents)\n",
    "# n_500_z_latents = np.array(n_500_z_latents)\n",
    "# n_500_cvae_varexps = np.array(n_500_cvae_varexps)\n",
    "# n_500_cvae_varexps_m = np.array(n_500_cvae_varexps_m)\n",
    "\n",
    "# print(n_500_s_latents.shape)\n",
    "# print(n_500_z_latents.shape)\n",
    "# print(n_500_cvae_varexps.shape)\n",
    "# print(n_500_cvae_varexps_m.shape)"
   ]
  },
  {
   "cell_type": "code",
   "execution_count": null,
   "id": "1416c597-5e9f-4cb8-a0c4-1c247c50b5a1",
   "metadata": {},
   "outputs": [],
   "source": []
  },
  {
   "cell_type": "code",
   "execution_count": 36,
   "id": "f84fdce3-2a9f-468f-9e01-3caebb511c4c",
   "metadata": {},
   "outputs": [
    {
     "name": "stdout",
     "output_type": "stream",
     "text": [
      "cvae_varexps | (5, 20)\n",
      "cvae_varexps_m | (5,)\n",
      "s_latents | (5, 20, 100, 500, 8)\n",
      "z_latents | (5, 20, 100, 500, 8)\n",
      "loss | (5, 20)\n",
      "loss_mse | (5, 20)\n",
      "loss_kl | (5, 20)\n",
      "loss_tc | (5, 20)\n",
      "loss_dc | (5, 20)\n",
      "mus | (5, 20)\n",
      "sigmas | (5, 20)\n",
      "c_sim | (5, 20)\n",
      "corr_z_s | (5, 20)\n",
      "rsa_z_indiv | (5, 20)\n",
      "rsa_s_indiv | (5, 20)\n",
      "rsa_zs_indiv | (5, 20)\n",
      "rsa_sz_indiv | (5, 20)\n",
      "rsa_z_ens | (5,)\n",
      "rsa_s_ens | (5,)\n",
      "rsa_zs_ens | (5,)\n",
      "rsa_sz_ens | (5,)\n"
     ]
    }
   ],
   "source": [
    "res_cvae_8D = get_CVAE_res(['DIM-8dVIawRUDpG','DIM-8IgCIInpdyf','DIM-8dTEcVhzcaN','DIM-8CTVvqgoBiO','DIM-8PONlzRTNFh'],data_csv_fn='../Data/synth-data-01.csv')"
   ]
  },
  {
   "cell_type": "code",
   "execution_count": null,
   "id": "3702c660-8a0c-4649-b700-f301fc8348b4",
   "metadata": {},
   "outputs": [],
   "source": []
  },
  {
   "cell_type": "code",
   "execution_count": 37,
   "id": "35c8bfc5-a070-4fda-975c-a67bf8e6a9a3",
   "metadata": {},
   "outputs": [
    {
     "name": "stdout",
     "output_type": "stream",
     "text": [
      "M = 0.91, SD = 0.01, range 0.89-0.92\n"
     ]
    }
   ],
   "source": [
    "get_descriptive(res_cvae_8D['cvae_varexps_m'])"
   ]
  },
  {
   "cell_type": "code",
   "execution_count": 38,
   "id": "35a067cf-f9b7-413e-9467-84a30031faf9",
   "metadata": {},
   "outputs": [
    {
     "name": "stdout",
     "output_type": "stream",
     "text": [
      "M = 0.31, SD = 0.04, range 0.25-0.37\n"
     ]
    }
   ],
   "source": [
    "get_descriptive(res_cvae_8D['rsa_s_ens'])"
   ]
  },
  {
   "cell_type": "code",
   "execution_count": 39,
   "id": "7c48ab3f-06f1-4c1e-a676-88f5965cc62f",
   "metadata": {},
   "outputs": [
    {
     "name": "stdout",
     "output_type": "stream",
     "text": [
      "M = 0.47, SD = 0.01, range 0.46-0.48\n"
     ]
    }
   ],
   "source": [
    "get_descriptive(res_cvae_8D['rsa_z_ens'])"
   ]
  },
  {
   "cell_type": "code",
   "execution_count": 40,
   "id": "e13ab5b2-159d-4ec3-8ed3-64882c540f21",
   "metadata": {},
   "outputs": [
    {
     "name": "stdout",
     "output_type": "stream",
     "text": [
      "t(8) = -0.29, p = 0.782\n"
     ]
    }
   ],
   "source": [
    "pretty_t_ind(fisher_z(res_cvae_8D['rsa_z_ens']),fisher_z(res_cvae['rsa_z_ens']))"
   ]
  },
  {
   "cell_type": "code",
   "execution_count": 41,
   "id": "1f2acf13-5186-43d2-b305-1dff930d72c3",
   "metadata": {},
   "outputs": [
    {
     "name": "stdout",
     "output_type": "stream",
     "text": [
      "t(8) = 4.37, p = 0.002\n"
     ]
    }
   ],
   "source": [
    "pretty_t_ind(fisher_z(res_cvae_8D['rsa_s_ens']),fisher_z(res_cvae['rsa_s_ens']))"
   ]
  },
  {
   "cell_type": "code",
   "execution_count": 42,
   "id": "8db87c7f-0e29-4666-92f9-cfe3470a565c",
   "metadata": {},
   "outputs": [
    {
     "name": "stdout",
     "output_type": "stream",
     "text": [
      "Variance explained 8D > 2D\n",
      "t(4) = 4.07, p = 0.015\n"
     ]
    }
   ],
   "source": [
    "print('Variance explained 8D > 2D')\n",
    "pretty_t_1sample(fisher_z(res_cvae_8D['cvae_varexps_m'])-fisher_z(res_cvae['cvae_varexps_m']),0)"
   ]
  },
  {
   "cell_type": "code",
   "execution_count": 43,
   "id": "4a7453a8-2d19-4b12-982e-ae6be0173c64",
   "metadata": {},
   "outputs": [
    {
     "name": "stdout",
     "output_type": "stream",
     "text": [
      "RSA with Disorder-specific 8D > 2D\n",
      "t(8) = 4.37, p = 0.002\n"
     ]
    }
   ],
   "source": [
    "print('RSA with Disorder-specific 8D > 2D')\n",
    "pretty_t_ind(fisher_z(res_cvae_8D['rsa_s_ens']),fisher_z(res_cvae['rsa_s_ens']))"
   ]
  },
  {
   "cell_type": "code",
   "execution_count": null,
   "id": "208c434a-4eef-4497-88a7-ccb62e8dc57e",
   "metadata": {},
   "outputs": [],
   "source": []
  },
  {
   "cell_type": "code",
   "execution_count": null,
   "id": "ff6dbd5c-575d-460c-bfd5-5b1971485d35",
   "metadata": {},
   "outputs": [],
   "source": []
  },
  {
   "cell_type": "code",
   "execution_count": 44,
   "id": "c5fbcdd4-d8cc-4dc5-bdb1-b9656ba03c98",
   "metadata": {},
   "outputs": [
    {
     "name": "stdout",
     "output_type": "stream",
     "text": [
      "cvae_varexps | (5, 20)\n",
      "cvae_varexps_m | (5,)\n",
      "s_latents | (5, 20, 100, 250, 2)\n",
      "z_latents | (5, 20, 100, 250, 2)\n",
      "loss | (5, 20)\n",
      "loss_mse | (5, 20)\n",
      "loss_kl | (5, 20)\n",
      "loss_tc | (5, 20)\n",
      "loss_dc | (5, 20)\n",
      "mus | (5, 20)\n",
      "sigmas | (5, 20)\n",
      "c_sim | (5, 20)\n",
      "corr_z_s | (5, 20)\n",
      "rsa_z_indiv | (5, 20)\n",
      "rsa_s_indiv | (5, 20)\n",
      "rsa_zs_indiv | (5, 20)\n",
      "rsa_sz_indiv | (5, 20)\n",
      "rsa_z_ens | (5,)\n",
      "rsa_s_ens | (5,)\n",
      "rsa_zs_ens | (5,)\n",
      "rsa_sz_ens | (5,)\n"
     ]
    }
   ],
   "source": [
    "\n",
    "res_cvae_N500 = get_CVAE_res(['N500-RIxKgBtgMj','N500-vHXUYIlWPw','N500-yIIUviVmbl','N500-knhKEbsyWA','N500-InbUXvmqdK'],data_csv_fn='../Data/synth-data-01-N500.csv')\n"
   ]
  },
  {
   "cell_type": "code",
   "execution_count": 45,
   "id": "7882ee78-a164-46de-84eb-8bc244611208",
   "metadata": {},
   "outputs": [
    {
     "name": "stdout",
     "output_type": "stream",
     "text": [
      "N500 Variance explained\n",
      "M = 0.84, SD = 0.01, range 0.83-0.85\n",
      "\n",
      "\n",
      "N500 Shared RSA\n",
      "M = 0.47, SD = 0.01, range 0.47-0.48\n",
      "\n",
      "\n",
      "N500 Specific RSA\n",
      "M = 0.18, SD = 0.02, range 0.16-0.21\n",
      "\n",
      "\n",
      "Variance explained N1000>N500\n",
      "t(4) = 9.34, p < .001\n",
      "\n",
      "\n",
      "RSA shared N1000>N500\n",
      "t(8) = 0.69, p = 0.510\n",
      "\n",
      "\n",
      "RSA specific N1000>N500\n",
      "t(8) = 3.17, p = 0.013\n"
     ]
    }
   ],
   "source": [
    "print('N500 Variance explained')\n",
    "get_descriptive(res_cvae_N500['cvae_varexps_m'])\n",
    "print('\\n')\n",
    "\n",
    "print('N500 Shared RSA')\n",
    "get_descriptive(res_cvae_N500['rsa_z_ens'])\n",
    "print('\\n')\n",
    "\n",
    "print('N500 Specific RSA')\n",
    "get_descriptive(res_cvae_N500['rsa_s_ens'])\n",
    "print('\\n')\n",
    "\n",
    "print('Variance explained N1000>N500')\n",
    "pretty_t_1sample(fisher_z(res_cvae['cvae_varexps_m']-res_cvae_N500['cvae_varexps_m']),0)\n",
    "print('\\n')\n",
    "\n",
    "print('RSA shared N1000>N500')\n",
    "pretty_t_ind(fisher_z(res_cvae['rsa_z_ens']),fisher_z(res_cvae_N500['rsa_z_ens']))\n",
    "print('\\n')\n",
    "\n",
    "print('RSA specific N1000>N500')\n",
    "pretty_t_ind(fisher_z(res_cvae['rsa_s_ens']),fisher_z(res_cvae_N500['rsa_s_ens']))"
   ]
  },
  {
   "cell_type": "code",
   "execution_count": null,
   "id": "05d31f9f-3ef0-4a98-806a-5461844a1961",
   "metadata": {},
   "outputs": [],
   "source": []
  },
  {
   "cell_type": "code",
   "execution_count": 47,
   "id": "49ccfe95-d545-4f06-a752-f03bab60bf4f",
   "metadata": {},
   "outputs": [
    {
     "name": "stdout",
     "output_type": "stream",
     "text": [
      "cvae_varexps | (5, 20)\n",
      "cvae_varexps_m | (5,)\n",
      "s_latents | (5, 20, 100, 100, 2)\n",
      "z_latents | (5, 20, 100, 100, 2)\n",
      "loss | (5, 20)\n",
      "loss_mse | (5, 20)\n",
      "loss_kl | (5, 20)\n",
      "loss_tc | (5, 20)\n",
      "loss_dc | (5, 20)\n",
      "mus | (5, 20)\n",
      "sigmas | (5, 20)\n",
      "c_sim | (5, 20)\n",
      "corr_z_s | (5, 20)\n",
      "rsa_z_indiv | (5, 20)\n",
      "rsa_s_indiv | (5, 20)\n",
      "rsa_zs_indiv | (5, 20)\n",
      "rsa_sz_indiv | (5, 20)\n",
      "rsa_z_ens | (5,)\n",
      "rsa_s_ens | (5,)\n",
      "rsa_zs_ens | (5,)\n",
      "rsa_sz_ens | (5,)\n"
     ]
    }
   ],
   "source": [
    "\n",
    "res_cvae_N200 = get_CVAE_res(['N200-fix-ecgLoaZUBd','N200-fix-AzJewVzNDC','N200-fix-DzsjKrsbze','N200-fix-tVSrAEvqkF','N200-fix-eqsoMaLksq'],data_csv_fn='../Data/synth-data-01-N200.csv')\n"
   ]
  },
  {
   "cell_type": "code",
   "execution_count": 48,
   "id": "460036eb-d9d4-49bc-8885-1ab6fcab1717",
   "metadata": {},
   "outputs": [
    {
     "name": "stdout",
     "output_type": "stream",
     "text": [
      "[0.15075382 0.08823828 0.1050694  0.16359489 0.10084108]\n",
      "[0.15743402 0.16536353 0.16898488 0.20741526 0.19288425]\n",
      "[0.22101163 0.23031779 0.21539991 0.21366337 0.19133894]\n"
     ]
    }
   ],
   "source": [
    "print(res_cvae_N200['rsa_s_ens'])\n",
    "print(res_cvae_N500['rsa_s_ens'])\n",
    "print(res_cvae['rsa_s_ens'])"
   ]
  },
  {
   "cell_type": "code",
   "execution_count": 49,
   "id": "d50659f1-f9bc-49e0-8e70-c0224f90d01b",
   "metadata": {},
   "outputs": [
    {
     "name": "stdout",
     "output_type": "stream",
     "text": [
      "[0.37197957 0.37395633 0.37220592 0.37508174 0.37475886]\n",
      "[0.47715777 0.46843714 0.47201902 0.46600674 0.47934879]\n",
      "[0.46596739 0.48607429 0.4747019  0.47392871 0.47636223]\n"
     ]
    }
   ],
   "source": [
    "print(res_cvae_N200['rsa_z_ens'])\n",
    "print(res_cvae_N500['rsa_z_ens'])\n",
    "print(res_cvae['rsa_z_ens'])"
   ]
  },
  {
   "cell_type": "code",
   "execution_count": null,
   "id": "0413d3e7-bfc9-42e0-9041-a2dc25aeba33",
   "metadata": {},
   "outputs": [],
   "source": []
  },
  {
   "cell_type": "code",
   "execution_count": null,
   "id": "3cb96877-1e1a-47a9-a156-ed60dfcb5f94",
   "metadata": {},
   "outputs": [],
   "source": []
  },
  {
   "cell_type": "code",
   "execution_count": 50,
   "id": "76682310-7571-44ce-8400-86c338d0af50",
   "metadata": {},
   "outputs": [
    {
     "name": "stdout",
     "output_type": "stream",
     "text": [
      "N200 Variance explained\n",
      "M = 0.70, SD = 0.00, range 0.69-0.71\n",
      "\n",
      "\n",
      "N200 Shared RSA\n",
      "M = 0.37, SD = 0.00, range 0.37-0.38\n",
      "\n",
      "\n",
      "2500 Specific RSA\n",
      "M = 0.12, SD = 0.03, range 0.09-0.16\n",
      "\n",
      "\n",
      "Variance explained N1000>N200\n",
      "t(4) = 47.25, p < .001\n",
      "\n",
      "\n",
      "RSA shared N1000>N200\n",
      "t(8) = 29.48, p < .001\n",
      "\n",
      "\n",
      "RSA specific N1000>N200\n",
      "t(8) = 5.75, p < .001\n"
     ]
    }
   ],
   "source": [
    "print('N200 Variance explained')\n",
    "get_descriptive(res_cvae_N200['cvae_varexps_m'])\n",
    "print('\\n')\n",
    "\n",
    "print('N200 Shared RSA')\n",
    "get_descriptive(res_cvae_N200['rsa_z_ens'])\n",
    "print('\\n')\n",
    "\n",
    "print('2500 Specific RSA')\n",
    "get_descriptive(res_cvae_N200['rsa_s_ens'])\n",
    "print('\\n')\n",
    "\n",
    "print('Variance explained N1000>N200')\n",
    "pretty_t_1sample(fisher_z(res_cvae['cvae_varexps_m']-res_cvae_N200['cvae_varexps_m']),0)\n",
    "print('\\n')\n",
    "\n",
    "print('RSA shared N1000>N200')\n",
    "pretty_t_ind(fisher_z(res_cvae['rsa_z_ens']),fisher_z(res_cvae_N200['rsa_z_ens']))\n",
    "print('\\n')\n",
    "\n",
    "print('RSA specific N1000>N200')\n",
    "pretty_t_ind(fisher_z(res_cvae['rsa_s_ens']),fisher_z(res_cvae_N200['rsa_s_ens']))"
   ]
  },
  {
   "cell_type": "code",
   "execution_count": 51,
   "id": "d817884e-cdec-4d69-bc57-bc755996cbba",
   "metadata": {},
   "outputs": [
    {
     "name": "stdout",
     "output_type": "stream",
     "text": [
      "M = 0.21, SD = 0.01, range 0.19-0.23\n"
     ]
    }
   ],
   "source": [
    "get_descriptive(res_cvae['rsa_s_ens'])"
   ]
  },
  {
   "cell_type": "code",
   "execution_count": 52,
   "id": "71a36afa-daf9-4168-a943-6673e49b5243",
   "metadata": {},
   "outputs": [
    {
     "data": {
      "text/plain": [
       "array([0.15075382, 0.08823828, 0.1050694 , 0.16359489, 0.10084108])"
      ]
     },
     "execution_count": 52,
     "metadata": {},
     "output_type": "execute_result"
    }
   ],
   "source": [
    "res_cvae_N200['rsa_s_ens']"
   ]
  },
  {
   "cell_type": "code",
   "execution_count": 55,
   "id": "7c8a5972-94e4-4fbf-bcfc-4b2c460a46a6",
   "metadata": {},
   "outputs": [
    {
     "data": {
      "text/plain": [
       "0.12169949434481535"
      ]
     },
     "execution_count": 55,
     "metadata": {},
     "output_type": "execute_result"
    }
   ],
   "source": [
    "res_cvae_N200['rsa_s_ens'].mean()"
   ]
  },
  {
   "cell_type": "code",
   "execution_count": null,
   "id": "d9493e94-17ab-4469-bd98-1b82b8fc159c",
   "metadata": {},
   "outputs": [],
   "source": []
  },
  {
   "cell_type": "code",
   "execution_count": null,
   "id": "430d2f99-c25b-4f56-8bc6-e03f848644ba",
   "metadata": {},
   "outputs": [],
   "source": []
  },
  {
   "cell_type": "code",
   "execution_count": null,
   "id": "b2941644-4980-441f-8243-f579c603c045",
   "metadata": {},
   "outputs": [],
   "source": []
  },
  {
   "cell_type": "code",
   "execution_count": null,
   "id": "b60b9ab4-6ca8-49ac-91f1-5c8d94417ddb",
   "metadata": {},
   "outputs": [],
   "source": []
  },
  {
   "cell_type": "code",
   "execution_count": null,
   "id": "319e5f29-a92f-4cd1-b3cc-4b37fe287840",
   "metadata": {},
   "outputs": [],
   "source": []
  },
  {
   "cell_type": "code",
   "execution_count": null,
   "id": "86270e61-3b07-48c6-9a0b-e0d98d199171",
   "metadata": {},
   "outputs": [],
   "source": []
  }
 ],
 "metadata": {
  "kernelspec": {
   "display_name": "Python 3 (ipykernel)",
   "language": "python",
   "name": "python3"
  },
  "language_info": {
   "codemirror_mode": {
    "name": "ipython",
    "version": 3
   },
   "file_extension": ".py",
   "mimetype": "text/x-python",
   "name": "python",
   "nbconvert_exporter": "python",
   "pygments_lexer": "ipython3",
   "version": "3.8.17"
  }
 },
 "nbformat": 4,
 "nbformat_minor": 5
}
