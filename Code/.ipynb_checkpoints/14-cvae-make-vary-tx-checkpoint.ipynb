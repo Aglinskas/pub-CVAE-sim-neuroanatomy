{
 "cells": [
  {
   "cell_type": "code",
   "execution_count": 3,
   "id": "f4a1ed09-a90f-4df5-ae49-c11ba6f94766",
   "metadata": {
    "editable": true,
    "slideshow": {
     "slide_type": ""
    },
    "tags": []
   },
   "outputs": [
    {
     "name": "stdout",
     "output_type": "stream",
     "text": [
      "Thu Oct  5 14:03:01 EDT 2023\n"
     ]
    }
   ],
   "source": [
    "!date"
   ]
  },
  {
   "cell_type": "code",
   "execution_count": 4,
   "id": "3b6d33fc-b117-4492-88ee-d0e7084518b4",
   "metadata": {
    "editable": true,
    "slideshow": {
     "slide_type": ""
    },
    "tags": []
   },
   "outputs": [
    {
     "data": {
      "text/plain": [
       "'/mmfs1/data/aglinska/BC-sim/Code'"
      ]
     },
     "execution_count": 4,
     "metadata": {},
     "output_type": "execute_result"
    }
   ],
   "source": [
    "pwd"
   ]
  },
  {
   "cell_type": "code",
   "execution_count": 5,
   "id": "2b076ec0-e70f-44fb-a1a7-10cf6570d121",
   "metadata": {
    "editable": true,
    "slideshow": {
     "slide_type": ""
    },
    "tags": []
   },
   "outputs": [
    {
     "name": "stdout",
     "output_type": "stream",
     "text": [
      "importing\n"
     ]
    },
    {
     "name": "stderr",
     "output_type": "stream",
     "text": [
      "/data/aglinska/anaconda3/lib/python3.8/site-packages/statsmodels/tsa/base/tsa_model.py:7: FutureWarning: pandas.Int64Index is deprecated and will be removed from pandas in a future version. Use pandas.Index with the appropriate dtype instead.\n",
      "  from pandas import (to_datetime, Int64Index, DatetimeIndex, Period,\n",
      "/data/aglinska/anaconda3/lib/python3.8/site-packages/statsmodels/tsa/base/tsa_model.py:7: FutureWarning: pandas.Float64Index is deprecated and will be removed from pandas in a future version. Use pandas.Index with the appropriate dtype instead.\n",
      "  from pandas import (to_datetime, Int64Index, DatetimeIndex, Period,\n",
      "/data/aglinska/anaconda3/lib/python3.8/site-packages/paramiko/transport.py:219: CryptographyDeprecationWarning: Blowfish has been deprecated\n",
      "  \"class\": algorithms.Blowfish,\n"
     ]
    },
    {
     "name": "stdout",
     "output_type": "stream",
     "text": [
      "CPU times: user 1.73 s, sys: 460 ms, total: 2.19 s\n",
      "Wall time: 20.1 s\n"
     ]
    }
   ],
   "source": [
    "%%time\n",
    "print('importing')\n",
    "import ants\n",
    "import numpy as np\n",
    "import pandas as pd\n",
    "import os\n",
    "from tqdm import tqdm\n",
    "from matplotlib import pyplot as plt\n",
    "from sklearn.decomposition import PCA"
   ]
  },
  {
   "cell_type": "code",
   "execution_count": 6,
   "id": "78f570fe-26a8-4f6b-9135-1d21a172c33d",
   "metadata": {
    "editable": true,
    "slideshow": {
     "slide_type": ""
    },
    "tags": []
   },
   "outputs": [],
   "source": [
    "def sphere(shape, radius, position):\n",
    "    \"\"\"Generate an n-dimensional spherical mask.\"\"\"\n",
    "    # assume shape and position have the same length and contain ints\n",
    "    # the units are pixels / voxels (px for short)\n",
    "    # radius is a int or float in px\n",
    "    assert len(position) == len(shape)\n",
    "    n = len(shape)\n",
    "    semisizes = (radius,) * len(shape)\n",
    "\n",
    "    # genereate the grid for the support points\n",
    "    # centered at the position indicated by position\n",
    "    grid = [slice(-x0, dim - x0) for x0, dim in zip(position, shape)]\n",
    "    position = np.ogrid[grid]\n",
    "    # calculate the distance of all points from `position` center\n",
    "    # scaled by the radius\n",
    "    arr = np.zeros(shape, dtype=float)\n",
    "    for x_i, semisize in zip(position, semisizes):\n",
    "        # this can be generalized for exponent != 2\n",
    "        # in which case `(x_i / semisize)`\n",
    "        # would become `np.abs(x_i / semisize)`\n",
    "        arr += (x_i / semisize) ** 2\n",
    "\n",
    "    # the inner part of the sphere will have distance below or equal to 1\n",
    "    return arr <= 1.0\n"
   ]
  },
  {
   "cell_type": "code",
   "execution_count": 7,
   "id": "fd28f989-fb55-4783-bfb4-bfd741bcbddd",
   "metadata": {
    "editable": true,
    "slideshow": {
     "slide_type": ""
    },
    "tags": []
   },
   "outputs": [],
   "source": [
    "def do_selective_tx(temp,coords = (32,32,50),sz1=10,sz2=2,do_plot=True,tmp_dir='/scratch/bergerar/'):\n",
    "\n",
    "    sphere_small = temp.new_image_like(sphere(shape=brain_size, radius=sz1, position=coords)*1.0)\n",
    "    sphere_big = temp.new_image_like(sphere(shape=brain_size, radius=sz2, position=coords)*1.0)\n",
    "\n",
    "    if do_plot==True:\n",
    "        temp.plot_ortho(sphere_small*3+sphere_big*7,overlay_cmap='flag',xyz=coords,flat=True,overlay_alpha=.5,title='Deformation Targets')\n",
    "\n",
    "    mytx = ants.registration(fixed=sphere_big, moving=sphere_small,mask=sphere_big+sphere_small,type_of_transform = 'SyNOnly',outprefix=tmp_dir) # learns a vector field from small to big sphere\n",
    "    #warpedBrain = ants.apply_transforms(fixed=temp, moving=temp,transformlist=mytx['fwdtransforms'][0],interpolator='bSpline') # applies the transformation\n",
    "    warpedBrain = ants.apply_transforms(fixed=temp, moving=temp,transformlist=mytx['fwdtransforms'][0])\n",
    "    #warpedBrain = ants.apply_transforms(fixed=temp, moving=temp,transformlist=mytx['fwdtransforms'][0],interpolator='nearestNeighbor')\n",
    "    #print(mytx['fwdtransforms'][0])\n",
    "    #warpedBrain.plot_ortho(flat=True,xyz=coords)\n",
    "\n",
    "    #mytx['warpedmovout'].plot_ortho(flat=True,xyz=coords)\n",
    "    if do_plot==True:\n",
    "        temp.plot_ortho_double(warpedBrain,xyz=coords,title='Before and After',title_dy=.22)\n",
    "        (warpedBrain-temp).plot_ortho(flat=True,cmap='bwr',xyz=coords,title='Difference Map')\n",
    "        \n",
    "    #temp.plot_ortho((temp-warpedBrain)>np.sort((temp-warpedBrain).numpy().flatten())[-250],flat=True,overlay_alpha=.5,overlay_cmap='hot',xyz=coords)\n",
    "    #temp.plot_ortho(warpedBrain-temp,flat=True,overlay_alpha=.5,overlay_cmap='bwr',xyz=coords)\n",
    "    \n",
    "    #J = ants.create_jacobian_determinant_image(domain_image=warpedBrain,tx=mytx['fwdtransforms'][0])\n",
    "    #J = J-1\n",
    "    #J[abs(J.numpy())<.25]=0\n",
    "    #if do_plot==True:\n",
    "    #    warpedBrain.plot_ortho(J,flat=True,overlay_alpha=.5,xyz=coords,title='Jacobian Map')\n",
    "    \n",
    "    return warpedBrain\n"
   ]
  },
  {
   "cell_type": "code",
   "execution_count": 8,
   "id": "3924bfdc-a916-4eaa-9ba4-f4cf6501865b",
   "metadata": {
    "editable": true,
    "slideshow": {
     "slide_type": ""
    },
    "tags": []
   },
   "outputs": [],
   "source": [
    "import numpy as np\n",
    "from scipy.spatial.distance import pdist\n",
    "from scipy.spatial.distance import squareform\n",
    "# import os\n",
    "# from matplotlib import pyplot as plt\n",
    "# import umap\n",
    "# from IPython import display\n",
    "# import time\n",
    "# import pandas as pd\n",
    "# from sklearn.metrics import silhouette_score\n",
    "\n",
    "# import seaborn as sns\n",
    "#from sklearn.decomposition import PCA\n",
    "#from umap import UMAP\n",
    "\n",
    "    \n",
    "\n",
    "def fit_rsa(rdm_data,rdm_model):\n",
    "    # Takes in two similarity matrices (n x n), has to be square, symmetrical, and either 1s or 0s on the diagonal\n",
    "    # vectorizes them \n",
    "    # Calculates a correlation between them\n",
    "    # returns r value (between -1 and 1)\n",
    "    \n",
    "    return np.corrcoef(get_triu(rdm_data),get_triu(rdm_model))[0,1]\n",
    "        \n",
    "def make_RDM(inVec,data_scale='ratio',metric='euclidean'):\n",
    "    # Makes an similarity matrix\n",
    "    # Takes in a data matrix (n x p), subjects as rows, and abitrary number of features \n",
    "    # Whether you give it a 5x2 or a 5x10000 matrix, will give back a 5x5 similarity matrix\n",
    "    # \n",
    "    vec = inVec # Takes whatever data you give it \n",
    "    vec = (vec - min(vec.flatten())) / (max(vec.flatten())-min(vec.flatten())) # Normalizes between 0 and 1\n",
    "    \n",
    "    if np.ndim(inVec)==1: # must be at least 2D\n",
    "        vec = np.vstack((vec,np.zeros(vec.shape))).transpose() # this is... just... magic. so beautiful. I mean really. \n",
    "        # ^ ok ok lemme explain \n",
    "        # pdist function below, works on >=2D data\n",
    "        # this is a hack in case you want to use it on 1D data\n",
    "        # in case you pass it a 1D vector, it adds a column of zeros\n",
    "        # which doesnt change the distances, \n",
    "                   \n",
    "    mat = squareform(pdist(vec,metric=metric).transpose()) # Takes in calcs the distances, turns into a dissimilarity matrix\n",
    "\n",
    "    if data_scale=='ordinal': # In case the data is ordinal, makes into a same or differnt matrix or ones and zeros\n",
    "        mat[mat!=0]=1 # Make into zeros and ones\n",
    "        \n",
    "    return mat\n",
    "\n",
    "def get_triu(inMat):\n",
    "    # Nifty function that takes in a similarity matrix (nxn) and vectorizes it (returns the upper triangle values)\n",
    "    \n",
    "    assert np.ndim(inMat)==2, 'not 2 dim, wtf' # Check if some dummy passed a nd array instead of a simmmat\n",
    "    assert inMat.shape[0]==inMat.shape[1], 'not a square' # make sure it's a square\n",
    "\n",
    "    n = inMat.shape[0]\n",
    "    triu_vec = inMat[np.triu_indices(n=n,k=1)] # Takes the upper triangle values\n",
    "    \n",
    "    return triu_vec\n",
    "\n",
    "def safe_mkdir(dirname):\n",
    "    if not os.path.exists(dirname):\n",
    "        os.mkdir(dirname)"
   ]
  },
  {
   "cell_type": "code",
   "execution_count": 9,
   "id": "07afa530-1b64-4a54-9ccb-7415ff2bd775",
   "metadata": {
    "editable": true,
    "slideshow": {
     "slide_type": ""
    },
    "tags": []
   },
   "outputs": [],
   "source": [
    "brain_size = (64,64,64)"
   ]
  },
  {
   "cell_type": "code",
   "execution_count": 10,
   "id": "931a20a9-631f-469c-94fd-378693b4249d",
   "metadata": {
    "editable": true,
    "slideshow": {
     "slide_type": ""
    },
    "tags": []
   },
   "outputs": [
    {
     "data": {
      "text/plain": [
       "1.0"
      ]
     },
     "execution_count": 10,
     "metadata": {},
     "output_type": "execute_result"
    }
   ],
   "source": [
    "temp = ants.image_read('../Misc/Atlas_brain_2mm.nii')\n",
    "temp = ants.resample_image(image=temp,resample_params=brain_size,use_voxels=True,interp_type=1)\n",
    "temp = temp.iMath_normalize()\n",
    "temp.max()"
   ]
  },
  {
   "cell_type": "code",
   "execution_count": 24,
   "id": "f1277fbb-3243-4fb1-8f2d-2cf5caaa4fa1",
   "metadata": {
    "editable": true,
    "slideshow": {
     "slide_type": ""
    },
    "tags": [
     "parameters"
    ]
   },
   "outputs": [],
   "source": [
    "# parameters cell (for papermill)\n",
    "job_id = 0"
   ]
  },
  {
   "cell_type": "code",
   "execution_count": 31,
   "id": "18cdcc66-32a3-4d04-8cc8-d76d100e4508",
   "metadata": {
    "editable": true,
    "slideshow": {
     "slide_type": ""
    },
    "tags": []
   },
   "outputs": [],
   "source": [
    "job_id = int(job_id)"
   ]
  },
  {
   "cell_type": "code",
   "execution_count": 29,
   "id": "b77b790a-52c7-40c8-bd0e-8e28989c5cb6",
   "metadata": {
    "editable": true,
    "slideshow": {
     "slide_type": ""
    },
    "tags": []
   },
   "outputs": [],
   "source": [
    "scales = [0.25,.5,.75,1,2]\n",
    "scales_collect = []\n",
    "for scale_td in scales:\n",
    "    for scale_adhd in scales:\n",
    "        scales_collect.append([scale_td,scale_adhd])"
   ]
  },
  {
   "cell_type": "code",
   "execution_count": 40,
   "id": "4827ef00-dcfb-433f-8f16-9957936c9b0b",
   "metadata": {
    "editable": true,
    "slideshow": {
     "slide_type": ""
    },
    "tags": []
   },
   "outputs": [],
   "source": [
    "ofdir = f'../synth-varyTx/synth-data-varTx-{job_id}'\n",
    "tmp_dir= f'/scratch/aglinska/temp_{job_id}'\n",
    "scale_td = scales_collect[job_id][0]\n",
    "scale_adhd =scales_collect[job_id][1]"
   ]
  },
  {
   "cell_type": "code",
   "execution_count": 41,
   "id": "88c280c3-2148-437e-bf83-ecc8870ab2a5",
   "metadata": {
    "editable": true,
    "slideshow": {
     "slide_type": ""
    },
    "tags": []
   },
   "outputs": [
    {
     "name": "stdout",
     "output_type": "stream",
     "text": [
      "../synth-varyTx/synth-data-varTx-0\n",
      "/scratch/aglinska/temp_0\n",
      "0.25\n",
      "0.25\n"
     ]
    }
   ],
   "source": [
    "print(ofdir)\n",
    "print(tmp_dir)\n",
    "print(scale_td)\n",
    "print(scale_adhd)"
   ]
  },
  {
   "cell_type": "code",
   "execution_count": 35,
   "id": "eb3bbc7b-ed56-4048-a92d-17f2dcfb95c6",
   "metadata": {
    "editable": true,
    "slideshow": {
     "slide_type": ""
    },
    "tags": []
   },
   "outputs": [],
   "source": [
    "safe_mkdir(ofdir)\n",
    "safe_mkdir(tmp_dir)"
   ]
  },
  {
   "cell_type": "code",
   "execution_count": 42,
   "id": "e3891dc5-e391-4423-9536-ddc4674a6a17",
   "metadata": {
    "editable": true,
    "slideshow": {
     "slide_type": ""
    },
    "tags": []
   },
   "outputs": [
    {
     "name": "stdout",
     "output_type": "stream",
     "text": [
      "6.25\n",
      "2.5\n",
      "2.5\n",
      "1.5\n"
     ]
    }
   ],
   "source": [
    "# td_sphere_range = (10.0,35.0)\n",
    "# td_sphere_diff_range = (-5.0,5.0)\n",
    "\n",
    "# adhd_sphere_range = (5.0,15.0)\n",
    "# adhd_sphere_diff_range = (-3.0,3.0)\n",
    "\n",
    "td_sphere_range = (10.0,35.0)\n",
    "td_sphere_diff_range = (-5.0,5.0)\n",
    "adhd_sphere_range = (5.0,15.0)\n",
    "adhd_sphere_diff_range = (-3.0,3.0)\n",
    "\n",
    "td_sphere_range = np.array(td_sphere_range)\n",
    "td_sphere_diff_range = np.array(td_sphere_diff_range)\n",
    "adhd_sphere_range = np.array(adhd_sphere_range)\n",
    "adhd_sphere_diff_range = np.array(adhd_sphere_diff_range)\n",
    "\n",
    "td_sphere_range *= scale_td\n",
    "td_sphere_diff_range *= scale_td\n",
    "\n",
    "adhd_sphere_range *= scale_adhd\n",
    "adhd_sphere_diff_range *= scale_adhd\n",
    "\n",
    "print(abs(td_sphere_range[0]-td_sphere_range[1]))\n",
    "print(abs(adhd_sphere_range[0]-adhd_sphere_range[1]))\n",
    "\n",
    "print(abs(td_sphere_diff_range[0]-td_sphere_diff_range[1]))\n",
    "print(abs(adhd_sphere_diff_range[0]-adhd_sphere_diff_range[1]))"
   ]
  },
  {
   "cell_type": "code",
   "execution_count": 14,
   "id": "bbf860cd-6d89-4116-98bb-86ab6f214177",
   "metadata": {
    "editable": true,
    "slideshow": {
     "slide_type": ""
    },
    "tags": []
   },
   "outputs": [],
   "source": [
    "n = 500"
   ]
  },
  {
   "cell_type": "code",
   "execution_count": 12,
   "id": "0cdeeca2-62dc-4228-8dba-b804e01a0a11",
   "metadata": {
    "editable": true,
    "slideshow": {
     "slide_type": ""
    },
    "tags": []
   },
   "outputs": [
    {
     "name": "stderr",
     "output_type": "stream",
     "text": [
      " 90%|██████████████████████████████████████▋    | 45/50 [02:53<00:18,  3.64s/it]WARNING: In /project/itksource/Modules/Core/Common/include/itkImageBase.hxx, line 87\n",
      "Image (0x162b28a0): Negative spacing is not supported and may result in undefined behavior.\n",
      "Proceeding to set spacing to [-inf, 0.00887206]\n",
      "\n",
      "/project/itksource/Modules/ThirdParty/VNL/src/vxl/core/vnl/algo/vnl_svd.hxx: suspicious return value (2) from SVDC\n",
      "/project/itksource/Modules/ThirdParty/VNL/src/vxl/core/vnl/algo/vnl_svd.hxx: M is 2x2\n",
      "M = [ ...\n",
      "            -inf                0 \n",
      "            -nan  0.0088720628992  ]\n",
      "WARNING: In /project/itksource/Modules/Core/Common/include/itkImageBase.hxx, line 87\n",
      "Image (0x15f8b770): Negative spacing is not supported and may result in undefined behavior.\n",
      "Proceeding to set spacing to [-inf, 0.00887206]\n",
      "\n",
      "/project/itksource/Modules/ThirdParty/VNL/src/vxl/core/vnl/algo/vnl_svd.hxx: suspicious return value (2) from SVDC\n",
      "/project/itksource/Modules/ThirdParty/VNL/src/vxl/core/vnl/algo/vnl_svd.hxx: M is 2x2\n",
      "M = [ ...\n",
      "            -inf                0 \n",
      "            -nan  0.0088720628992  ]\n",
      "WARNING: In /project/itksource/Modules/Core/Common/include/itkImageBase.hxx, line 87\n",
      "Image (0x15f92750): Negative spacing is not supported and may result in undefined behavior.\n",
      "Proceeding to set spacing to [-inf, 0.00887206]\n",
      "\n",
      "/project/itksource/Modules/ThirdParty/VNL/src/vxl/core/vnl/algo/vnl_svd.hxx: suspicious return value (2) from SVDC\n",
      "/project/itksource/Modules/ThirdParty/VNL/src/vxl/core/vnl/algo/vnl_svd.hxx: M is 2x2\n",
      "M = [ ...\n",
      "            -inf                0 \n",
      "            -nan  0.0088720628992  ]\n",
      "WARNING: In /project/itksource/Modules/Core/Common/include/itkImageBase.hxx, line 87\n",
      "Image (0x160e6c60): Negative spacing is not supported and may result in undefined behavior.\n",
      "Proceeding to set spacing to [-inf, 0.00887206]\n",
      "\n",
      "/project/itksource/Modules/ThirdParty/VNL/src/vxl/core/vnl/algo/vnl_svd.hxx: suspicious return value (2) from SVDC\n",
      "/project/itksource/Modules/ThirdParty/VNL/src/vxl/core/vnl/algo/vnl_svd.hxx: M is 2x2\n",
      "M = [ ...\n",
      "            -inf                0 \n",
      "            -nan  0.0088720628992  ]\n",
      "WARNING: In /project/itksource/Modules/Core/Common/include/itkImageBase.hxx, line 87\n",
      "Image (0x17886190): Negative spacing is not supported and may result in undefined behavior.\n",
      "Proceeding to set spacing to [-inf, 0.00887206]\n",
      "\n",
      "/project/itksource/Modules/ThirdParty/VNL/src/vxl/core/vnl/algo/vnl_svd.hxx: suspicious return value (2) from SVDC\n",
      "/project/itksource/Modules/ThirdParty/VNL/src/vxl/core/vnl/algo/vnl_svd.hxx: M is 2x2\n",
      "M = [ ...\n",
      "            -inf                0 \n",
      "            -nan  0.0088720628992  ]\n",
      "WARNING: In /project/itksource/Modules/Core/Common/include/itkImageBase.hxx, line 87\n",
      "Image (0x162a9bf0): Negative spacing is not supported and may result in undefined behavior.\n",
      "Proceeding to set spacing to [-inf, 0.00887206]\n",
      "\n",
      "/project/itksource/Modules/ThirdParty/VNL/src/vxl/core/vnl/algo/vnl_svd.hxx: suspicious return value (2) from SVDC\n",
      "/project/itksource/Modules/ThirdParty/VNL/src/vxl/core/vnl/algo/vnl_svd.hxx: M is 2x2\n",
      "M = [ ...\n",
      "            -inf                0 \n",
      "            -nan  0.0088720628992  ]\n",
      "WARNING: In /project/itksource/Modules/Core/Common/include/itkImageBase.hxx, line 87\n",
      "Image (0x1610d400): Negative spacing is not supported and may result in undefined behavior.\n",
      "Proceeding to set spacing to [-inf, 0.00887206]\n",
      "\n",
      "/project/itksource/Modules/ThirdParty/VNL/src/vxl/core/vnl/algo/vnl_svd.hxx: suspicious return value (2) from SVDC\n",
      "/project/itksource/Modules/ThirdParty/VNL/src/vxl/core/vnl/algo/vnl_svd.hxx: M is 2x2\n",
      "M = [ ...\n",
      "            -inf                0 \n",
      "            -nan  0.0088720628992  ]\n",
      "WARNING: In /project/itksource/Modules/Core/Common/include/itkImageBase.hxx, line 87\n",
      "Image (0x15ea3950): Negative spacing is not supported and may result in undefined behavior.\n",
      "Proceeding to set spacing to [-inf, 0.00887206]\n",
      "\n",
      "/project/itksource/Modules/ThirdParty/VNL/src/vxl/core/vnl/algo/vnl_svd.hxx: suspicious return value (2) from SVDC\n",
      "/project/itksource/Modules/ThirdParty/VNL/src/vxl/core/vnl/algo/vnl_svd.hxx: M is 2x2\n",
      "M = [ ...\n",
      "            -inf                0 \n",
      "            -nan  0.0088720628992  ]\n",
      "WARNING: In /project/itksource/Modules/Core/Common/include/itkImageBase.hxx, line 87\n",
      "Image (0x17889960): Negative spacing is not supported and may result in undefined behavior.\n",
      "Proceeding to set spacing to [-inf, 0.00887206]\n",
      "\n",
      "/project/itksource/Modules/ThirdParty/VNL/src/vxl/core/vnl/algo/vnl_svd.hxx: suspicious return value (2) from SVDC\n",
      "/project/itksource/Modules/ThirdParty/VNL/src/vxl/core/vnl/algo/vnl_svd.hxx: M is 2x2\n",
      "M = [ ...\n",
      "            -inf                0 \n",
      "            -nan  0.0088720628992  ]\n",
      "WARNING: In /project/itksource/Modules/Core/Common/include/itkImageBase.hxx, line 87\n",
      "Image (0x15f90ba0): Negative spacing is not supported and may result in undefined behavior.\n",
      "Proceeding to set spacing to [-inf, 0.00887206]\n",
      "\n",
      "/project/itksource/Modules/ThirdParty/VNL/src/vxl/core/vnl/algo/vnl_svd.hxx: suspicious return value (2) from SVDC\n",
      "/project/itksource/Modules/ThirdParty/VNL/src/vxl/core/vnl/algo/vnl_svd.hxx: M is 2x2\n",
      "M = [ ...\n",
      "            -inf                0 \n",
      "            -nan  0.0088720628992  ]\n",
      "WARNING: In /project/itksource/Modules/Core/Common/include/itkImageBase.hxx, line 87\n",
      "Image (0x15ea44a0): Negative spacing is not supported and may result in undefined behavior.\n",
      "Proceeding to set spacing to [-inf, 0.00887206]\n",
      "\n",
      "/project/itksource/Modules/ThirdParty/VNL/src/vxl/core/vnl/algo/vnl_svd.hxx: suspicious return value (2) from SVDC\n",
      "/project/itksource/Modules/ThirdParty/VNL/src/vxl/core/vnl/algo/vnl_svd.hxx: M is 2x2\n",
      "M = [ ...\n",
      "            -inf                0 \n",
      "            -nan  0.0088720628992  ]\n",
      "WARNING: In /project/itksource/Modules/Core/Common/include/itkImageBase.hxx, line 87\n",
      "Image (0x15f78b40): Negative spacing is not supported and may result in undefined behavior.\n",
      "Proceeding to set spacing to [-inf, 0.00887206]\n",
      "\n",
      "/project/itksource/Modules/ThirdParty/VNL/src/vxl/core/vnl/algo/vnl_svd.hxx: suspicious return value (2) from SVDC\n",
      "/project/itksource/Modules/ThirdParty/VNL/src/vxl/core/vnl/algo/vnl_svd.hxx: M is 2x2\n",
      "M = [ ...\n",
      "            -inf                0 \n",
      "            -nan  0.0088720628992  ]\n",
      "WARNING: In /project/itksource/Modules/Core/Common/include/itkImageBase.hxx, line 87\n",
      "Image (0x176c14e0): Negative spacing is not supported and may result in undefined behavior.\n",
      "Proceeding to set spacing to [-inf, 0.00887206]\n",
      "\n",
      "/project/itksource/Modules/ThirdParty/VNL/src/vxl/core/vnl/algo/vnl_svd.hxx: suspicious return value (2) from SVDC\n",
      "/project/itksource/Modules/ThirdParty/VNL/src/vxl/core/vnl/algo/vnl_svd.hxx: M is 2x2\n",
      "M = [ ...\n",
      "            -inf                0 \n",
      "            -nan  0.0088720628992  ]\n",
      "WARNING: In /project/itksource/Modules/Core/Common/include/itkImageBase.hxx, line 87\n",
      "Image (0x1622d380): Negative spacing is not supported and may result in undefined behavior.\n",
      "Proceeding to set spacing to [-inf, 0.00887206]\n",
      "\n",
      "/project/itksource/Modules/ThirdParty/VNL/src/vxl/core/vnl/algo/vnl_svd.hxx: suspicious return value (2) from SVDC\n",
      "/project/itksource/Modules/ThirdParty/VNL/src/vxl/core/vnl/algo/vnl_svd.hxx: M is 2x2\n",
      "M = [ ...\n",
      "            -inf                0 \n",
      "            -nan  0.0088720628992  ]\n",
      "WARNING: In /project/itksource/Modules/Core/Common/include/itkImageBase.hxx, line 87\n",
      "Image (0x16291800): Negative spacing is not supported and may result in undefined behavior.\n",
      "Proceeding to set spacing to [-inf, 0.00887206]\n",
      "\n",
      "/project/itksource/Modules/ThirdParty/VNL/src/vxl/core/vnl/algo/vnl_svd.hxx: suspicious return value (2) from SVDC\n",
      "/project/itksource/Modules/ThirdParty/VNL/src/vxl/core/vnl/algo/vnl_svd.hxx: M is 2x2\n",
      "M = [ ...\n",
      "            -inf                0 \n",
      "            -nan  0.0088720628992  ]\n",
      "WARNING: In /project/itksource/Modules/Core/Common/include/itkImageBase.hxx, line 87\n",
      "Image (0x178874b0): Negative spacing is not supported and may result in undefined behavior.\n",
      "Proceeding to set spacing to [-inf, 0.00887206]\n",
      "\n",
      "/project/itksource/Modules/ThirdParty/VNL/src/vxl/core/vnl/algo/vnl_svd.hxx: suspicious return value (2) from SVDC\n",
      "/project/itksource/Modules/ThirdParty/VNL/src/vxl/core/vnl/algo/vnl_svd.hxx: M is 2x2\n",
      "M = [ ...\n",
      "            -inf                0 \n",
      "            -nan  0.0088720628992  ]\n",
      "100%|███████████████████████████████████████████| 50/50 [03:13<00:00,  3.88s/it]\n"
     ]
    }
   ],
   "source": [
    "do_generate_data = True\n",
    "if do_generate_data:\n",
    "    tx_log_td = []\n",
    "    tx_log_adhd = []\n",
    "    for s in tqdm( range(n) ):\n",
    "        is_done = False\n",
    "\n",
    "        while not is_done:\n",
    "            try:\n",
    "                sub = f'sub-{s:04d}'\n",
    "            \n",
    "                td_sphere1 = np.random.uniform(low=td_sphere_range[0],high=td_sphere_range[1],size=1)\n",
    "                td_sphere_diff = np.random.uniform(low=td_sphere_diff_range[0],high=td_sphere_diff_range[1],size=1)\n",
    "                td_sphere2 = td_sphere1+td_sphere_diff\n",
    "                #tx_log_td.append( (td_sphere1,td_sphere2) )\n",
    "                #print((td_sphere1,td_sphere2))\n",
    "            \n",
    "                TD_brain = do_selective_tx(temp,coords = (32,32,32),sz1=td_sphere1,sz2=td_sphere2,do_plot=False,tmp_dir=tmp_dir)\n",
    "                #TD_brain.plot_ortho(flat=True)\n",
    "            \n",
    "                adhd_sphere1 = np.random.uniform(low=adhd_sphere_range[0],high=adhd_sphere_range[1],size=1)\n",
    "                adhd_sphere_diff = np.random.uniform(low=adhd_sphere_diff_range[0],high=adhd_sphere_diff_range[1],size=1)\n",
    "                adhd_sphere2 = adhd_sphere1+adhd_sphere_diff\n",
    "                #tx_log_adhd.append( (adhd_sphere1,adhd_sphere2) )\n",
    "                #print((adhd_sphere1,adhd_sphere2))\n",
    "            \n",
    "                ADHD_brain = do_selective_tx(TD_brain,coords = (32,48,25),sz1=adhd_sphere1,sz2=adhd_sphere2,do_plot=False,tmp_dir=tmp_dir)\n",
    "                #ADHD_brain.plot_ortho(flat=True)\n",
    "            \n",
    "                TD_brain.to_filename(os.path.join(ofdir,'TD-'+sub+'.nii.gz'))\n",
    "                ADHD_brain.to_filename(os.path.join(ofdir,'ADHD-'+sub+'.nii.gz'))\n",
    "\n",
    "                tx_log_adhd.append( (adhd_sphere1,adhd_sphere2) )\n",
    "                tx_log_td.append( (td_sphere1,td_sphere2) )\n",
    "                \n",
    "                is_done = True\n",
    "            except:\n",
    "                pass\n",
    "        \n",
    "    np.save(file=os.path.join(ofdir,'tx_log_adhd1.npy'),arr=np.array(tx_log_adhd)[:,:,0])\n",
    "    np.save(file=os.path.join(ofdir,'tx_log_td1.npy'),arr=np.array(tx_log_td)[:,:,0])"
   ]
  },
  {
   "cell_type": "code",
   "execution_count": 15,
   "id": "ad2864fb-fe13-440d-bf2e-93a4d791d30e",
   "metadata": {},
   "outputs": [
    {
     "data": {
      "text/plain": [
       "(array([7., 4., 5., 2., 5., 6., 5., 9., 4., 3.]),\n",
       " array([-2.5653302 , -2.01959043, -1.47385066, -0.92811089, -0.38237112,\n",
       "         0.16336865,  0.70910842,  1.25484819,  1.80058796,  2.34632773,\n",
       "         2.8920675 ]),\n",
       " <BarContainer object of 10 artists>)"
      ]
     },
     "execution_count": 15,
     "metadata": {},
     "output_type": "execute_result"
    },
    {
     "data": {
      "image/png": "[encoded data removed]",
      "text/plain": [
       "<Figure size 1500x500 with 3 Axes>"
      ]
     },
     "metadata": {},
     "output_type": "display_data"
    },
    {
     "data": {
      "image/png": "[encoded data removed]",
      "text/plain": [
       "<Figure size 1500x500 with 3 Axes>"
      ]
     },
     "metadata": {},
     "output_type": "display_data"
    }
   ],
   "source": [
    "plt.figure(figsize=(15,5))\n",
    "plt.subplot(1,3,1);plt.hist(np.array(tx_log_adhd)[:,0,0])\n",
    "plt.subplot(1,3,2);plt.hist(np.array(tx_log_adhd)[:,1,0])\n",
    "plt.subplot(1,3,3);plt.hist(np.array(tx_log_adhd)[:,0,0]-np.array(tx_log_adhd)[:,1,0])\n",
    "\n",
    "plt.figure(figsize=(15,5))\n",
    "plt.subplot(1,3,1);plt.hist(np.array(tx_log_adhd)[:,0,0])\n",
    "plt.subplot(1,3,2);plt.hist(np.array(tx_log_adhd)[:,1,0])\n",
    "plt.subplot(1,3,3);plt.hist(np.array(tx_log_adhd)[:,0,0]-np.array(tx_log_adhd)[:,1,0])"
   ]
  },
  {
   "cell_type": "code",
   "execution_count": 34,
   "id": "07051361-52cb-4e60-9143-deffdb7347c7",
   "metadata": {},
   "outputs": [
    {
     "name": "stderr",
     "output_type": "stream",
     "text": [
      "100%|██████████████████████████████████████████| 50/50 [00:00<00:00, 143.60it/s]\n",
      "100%|██████████████████████████████████████████| 50/50 [00:00<00:00, 167.78it/s]\n"
     ]
    },
    {
     "name": "stdout",
     "output_type": "stream",
     "text": [
      "(50, 64, 64, 64)\n",
      "(50, 64, 64, 64)\n"
     ]
    }
   ],
   "source": [
    "data_td = np.array([ants.image_read(os.path.join(ofdir,f'TD-sub-{s:04d}.nii.gz')).numpy() for s in tqdm(range(n))])\n",
    "data_adhd = np.array([ants.image_read(os.path.join(ofdir,f'ADHD-sub-{s:04d}.nii.gz')).numpy() for s in tqdm(range(n))])\n",
    "print(data_td.shape)\n",
    "print(data_adhd.shape)"
   ]
  },
  {
   "cell_type": "code",
   "execution_count": 23,
   "id": "9ff6c33e-bfcd-485d-9745-f672ccf6419f",
   "metadata": {},
   "outputs": [],
   "source": [
    "deform_adhd = np.load(os.path.join(ofdir,'tx_log_adhd1.npy'))\n",
    "deform_td = np.load(os.path.join(ofdir,'tx_log_td1.npy'))"
   ]
  },
  {
   "cell_type": "code",
   "execution_count": 42,
   "id": "5397ff09-eb82-4de3-8486-e8ed011784dd",
   "metadata": {},
   "outputs": [
    {
     "data": {
      "text/html": [
       "<div>\n",
       "<style scoped>\n",
       "    .dataframe tbody tr th:only-of-type {\n",
       "        vertical-align: middle;\n",
       "    }\n",
       "\n",
       "    .dataframe tbody tr th {\n",
       "        vertical-align: top;\n",
       "    }\n",
       "\n",
       "    .dataframe thead th {\n",
       "        text-align: right;\n",
       "    }\n",
       "</style>\n",
       "<table border=\"1\" class=\"dataframe\">\n",
       "  <thead>\n",
       "    <tr style=\"text-align: right;\">\n",
       "      <th></th>\n",
       "      <th>subID</th>\n",
       "      <th>dx</th>\n",
       "      <th>path</th>\n",
       "      <th>td_sphere_1</th>\n",
       "      <th>td_sphere_2</th>\n",
       "      <th>adhd_sphere_1</th>\n",
       "      <th>adhd_sphere_2</th>\n",
       "      <th>td_tx</th>\n",
       "      <th>adhd_tx</th>\n",
       "    </tr>\n",
       "  </thead>\n",
       "  <tbody>\n",
       "    <tr>\n",
       "      <th>0</th>\n",
       "      <td>sub-0000</td>\n",
       "      <td>1</td>\n",
       "      <td>../synth-data-01/ADHD-sub-0000.nii.gz</td>\n",
       "      <td>4.919430</td>\n",
       "      <td>3.827114</td>\n",
       "      <td>6.132388</td>\n",
       "      <td>8.548930</td>\n",
       "      <td>1.092316</td>\n",
       "      <td>-2.416542</td>\n",
       "    </tr>\n",
       "    <tr>\n",
       "      <th>1</th>\n",
       "      <td>sub-0001</td>\n",
       "      <td>1</td>\n",
       "      <td>../synth-data-01/ADHD-sub-0001.nii.gz</td>\n",
       "      <td>6.595641</td>\n",
       "      <td>5.878164</td>\n",
       "      <td>7.773975</td>\n",
       "      <td>5.369436</td>\n",
       "      <td>0.717477</td>\n",
       "      <td>2.404538</td>\n",
       "    </tr>\n",
       "    <tr>\n",
       "      <th>2</th>\n",
       "      <td>sub-0002</td>\n",
       "      <td>1</td>\n",
       "      <td>../synth-data-01/ADHD-sub-0002.nii.gz</td>\n",
       "      <td>3.578107</td>\n",
       "      <td>3.862876</td>\n",
       "      <td>5.773301</td>\n",
       "      <td>4.013994</td>\n",
       "      <td>-0.284769</td>\n",
       "      <td>1.759307</td>\n",
       "    </tr>\n",
       "    <tr>\n",
       "      <th>3</th>\n",
       "      <td>sub-0003</td>\n",
       "      <td>1</td>\n",
       "      <td>../synth-data-01/ADHD-sub-0003.nii.gz</td>\n",
       "      <td>7.046010</td>\n",
       "      <td>6.609510</td>\n",
       "      <td>6.115944</td>\n",
       "      <td>3.806332</td>\n",
       "      <td>0.436500</td>\n",
       "      <td>2.309612</td>\n",
       "    </tr>\n",
       "    <tr>\n",
       "      <th>4</th>\n",
       "      <td>sub-0004</td>\n",
       "      <td>1</td>\n",
       "      <td>../synth-data-01/ADHD-sub-0004.nii.gz</td>\n",
       "      <td>5.465794</td>\n",
       "      <td>4.784897</td>\n",
       "      <td>10.728485</td>\n",
       "      <td>9.116850</td>\n",
       "      <td>0.680896</td>\n",
       "      <td>1.611635</td>\n",
       "    </tr>\n",
       "    <tr>\n",
       "      <th>...</th>\n",
       "      <td>...</td>\n",
       "      <td>...</td>\n",
       "      <td>...</td>\n",
       "      <td>...</td>\n",
       "      <td>...</td>\n",
       "      <td>...</td>\n",
       "      <td>...</td>\n",
       "      <td>...</td>\n",
       "      <td>...</td>\n",
       "    </tr>\n",
       "    <tr>\n",
       "      <th>95</th>\n",
       "      <td>sub-0045</td>\n",
       "      <td>0</td>\n",
       "      <td>../synth-data-01/TD-sub-0045.nii.gz</td>\n",
       "      <td>7.388699</td>\n",
       "      <td>6.831226</td>\n",
       "      <td>0.000000</td>\n",
       "      <td>0.000000</td>\n",
       "      <td>0.557473</td>\n",
       "      <td>0.000000</td>\n",
       "    </tr>\n",
       "    <tr>\n",
       "      <th>96</th>\n",
       "      <td>sub-0046</td>\n",
       "      <td>0</td>\n",
       "      <td>../synth-data-01/TD-sub-0046.nii.gz</td>\n",
       "      <td>4.467073</td>\n",
       "      <td>4.765966</td>\n",
       "      <td>0.000000</td>\n",
       "      <td>0.000000</td>\n",
       "      <td>-0.298893</td>\n",
       "      <td>0.000000</td>\n",
       "    </tr>\n",
       "    <tr>\n",
       "      <th>97</th>\n",
       "      <td>sub-0047</td>\n",
       "      <td>0</td>\n",
       "      <td>../synth-data-01/TD-sub-0047.nii.gz</td>\n",
       "      <td>4.228592</td>\n",
       "      <td>3.329031</td>\n",
       "      <td>0.000000</td>\n",
       "      <td>0.000000</td>\n",
       "      <td>0.899561</td>\n",
       "      <td>0.000000</td>\n",
       "    </tr>\n",
       "    <tr>\n",
       "      <th>98</th>\n",
       "      <td>sub-0048</td>\n",
       "      <td>0</td>\n",
       "      <td>../synth-data-01/TD-sub-0048.nii.gz</td>\n",
       "      <td>4.957712</td>\n",
       "      <td>5.136527</td>\n",
       "      <td>0.000000</td>\n",
       "      <td>0.000000</td>\n",
       "      <td>-0.178816</td>\n",
       "      <td>0.000000</td>\n",
       "    </tr>\n",
       "    <tr>\n",
       "      <th>99</th>\n",
       "      <td>sub-0049</td>\n",
       "      <td>0</td>\n",
       "      <td>../synth-data-01/TD-sub-0049.nii.gz</td>\n",
       "      <td>4.592138</td>\n",
       "      <td>4.946559</td>\n",
       "      <td>0.000000</td>\n",
       "      <td>0.000000</td>\n",
       "      <td>-0.354421</td>\n",
       "      <td>0.000000</td>\n",
       "    </tr>\n",
       "  </tbody>\n",
       "</table>\n",
       "<p>100 rows × 9 columns</p>\n",
       "</div>"
      ],
      "text/plain": [
       "       subID  dx                                   path  td_sphere_1  \\\n",
       "0   sub-0000   1  ../synth-data-01/ADHD-sub-0000.nii.gz     4.919430   \n",
       "1   sub-0001   1  ../synth-data-01/ADHD-sub-0001.nii.gz     6.595641   \n",
       "2   sub-0002   1  ../synth-data-01/ADHD-sub-0002.nii.gz     3.578107   \n",
       "3   sub-0003   1  ../synth-data-01/ADHD-sub-0003.nii.gz     7.046010   \n",
       "4   sub-0004   1  ../synth-data-01/ADHD-sub-0004.nii.gz     5.465794   \n",
       "..       ...  ..                                    ...          ...   \n",
       "95  sub-0045   0    ../synth-data-01/TD-sub-0045.nii.gz     7.388699   \n",
       "96  sub-0046   0    ../synth-data-01/TD-sub-0046.nii.gz     4.467073   \n",
       "97  sub-0047   0    ../synth-data-01/TD-sub-0047.nii.gz     4.228592   \n",
       "98  sub-0048   0    ../synth-data-01/TD-sub-0048.nii.gz     4.957712   \n",
       "99  sub-0049   0    ../synth-data-01/TD-sub-0049.nii.gz     4.592138   \n",
       "\n",
       "    td_sphere_2  adhd_sphere_1  adhd_sphere_2     td_tx   adhd_tx  \n",
       "0      3.827114       6.132388       8.548930  1.092316 -2.416542  \n",
       "1      5.878164       7.773975       5.369436  0.717477  2.404538  \n",
       "2      3.862876       5.773301       4.013994 -0.284769  1.759307  \n",
       "3      6.609510       6.115944       3.806332  0.436500  2.309612  \n",
       "4      4.784897      10.728485       9.116850  0.680896  1.611635  \n",
       "..          ...            ...            ...       ...       ...  \n",
       "95     6.831226       0.000000       0.000000  0.557473  0.000000  \n",
       "96     4.765966       0.000000       0.000000 -0.298893  0.000000  \n",
       "97     3.329031       0.000000       0.000000  0.899561  0.000000  \n",
       "98     5.136527       0.000000       0.000000 -0.178816  0.000000  \n",
       "99     4.946559       0.000000       0.000000 -0.354421  0.000000  \n",
       "\n",
       "[100 rows x 9 columns]"
      ]
     },
     "execution_count": 42,
     "metadata": {},
     "output_type": "execute_result"
    }
   ],
   "source": [
    "df = pd.DataFrame()\n",
    "df['subID'] = np.hstack( ([f'sub-{s:04d}' for s in range(n)],[f'sub-{s:04d}' for s in range(n)]) )\n",
    "df['dx'] = np.hstack( (np.repeat(1,n),np.repeat(0,n)) )\n",
    "df['path'] = np.hstack( ([f'../synth-data-01/ADHD-sub-{s:04d}.nii.gz' for s in range(n)] , [f'../synth-data-01/TD-sub-{s:04d}.nii.gz' for s in range(n)]) )\n",
    "df['td_sphere_1'] = np.hstack( (deform_td[:,0],deform_td[:,0]) )\n",
    "df['td_sphere_2'] = np.hstack( (deform_td[:,1],deform_td[:,1]) )\n",
    "df['adhd_sphere_1'] = np.hstack( (deform_adhd[:,0],np.repeat(0,n)) )\n",
    "df['adhd_sphere_2'] = np.hstack( (deform_adhd[:,1],np.repeat(0,n)) )\n",
    "df['td_tx'] = df['td_sphere_1']-df['td_sphere_2']\n",
    "df['adhd_tx'] = df['adhd_sphere_1']-df['adhd_sphere_2']\n",
    "#df[''] = np.hstack( (,) )\n",
    "#df[''] = np.hstack( (,) )\n",
    "df.to_csv(os.path.join(ofdir,'data_csv.csv'))\n",
    "df"
   ]
  },
  {
   "cell_type": "code",
   "execution_count": 41,
   "id": "751dd376-72c6-47b5-8482-58c8285f8b13",
   "metadata": {},
   "outputs": [],
   "source": [
    "np.savez_compressed(os.path.join(ofdir,'data_arr.npy'),data_arr=np.concatenate((data_adhd,data_td),axis=0))"
   ]
  },
  {
   "cell_type": "code",
   "execution_count": null,
   "id": "a9ad65bf-2468-4013-97f5-f25f488f0cdf",
   "metadata": {},
   "outputs": [],
   "source": []
  },
  {
   "cell_type": "code",
   "execution_count": null,
   "id": "234268c7-6be0-4d9b-9ff0-c54a016a56f3",
   "metadata": {
    "editable": true,
    "slideshow": {
     "slide_type": ""
    },
    "tags": []
   },
   "outputs": [],
   "source": [
    "# Clear cache. \n",
    "os.system(f'rm -rf {tmp_dir}')\n",
    "#^I know it's a stupid way to do it, shut up >.<"
   ]
  },
  {
   "cell_type": "code",
   "execution_count": null,
   "id": "b3f0fd20-5873-4b04-a9ea-f0072c0d1805",
   "metadata": {
    "editable": true,
    "slideshow": {
     "slide_type": ""
    },
    "tags": []
   },
   "outputs": [],
   "source": []
  },
  {
   "cell_type": "code",
   "execution_count": null,
   "id": "d6e43325-4650-438e-b3a7-0910a5d59634",
   "metadata": {
    "editable": true,
    "slideshow": {
     "slide_type": ""
    },
    "tags": []
   },
   "outputs": [],
   "source": []
  },
  {
   "cell_type": "code",
   "execution_count": 43,
   "id": "0cb91e32-634b-46a6-af24-d556f73ce0fc",
   "metadata": {
    "editable": true,
    "slideshow": {
     "slide_type": ""
    },
    "tags": []
   },
   "outputs": [],
   "source": [
    "# for i in [0.25,0.5,.75,1,2]:\n",
    "#     for j in [0.25,0.5,.75,1,2]:\n",
    "#         print((i,j))"
   ]
  },
  {
   "cell_type": "code",
   "execution_count": null,
   "id": "46b08d55-51a6-49ec-98cc-c7b43aef42b7",
   "metadata": {
    "editable": true,
    "slideshow": {
     "slide_type": ""
    },
    "tags": []
   },
   "outputs": [],
   "source": []
  },
  {
   "cell_type": "code",
   "execution_count": null,
   "id": "baa90992-4a60-488a-8c94-7c9f03e7802d",
   "metadata": {
    "editable": true,
    "slideshow": {
     "slide_type": ""
    },
    "tags": []
   },
   "outputs": [],
   "source": []
  },
  {
   "cell_type": "code",
   "execution_count": null,
   "id": "3439130b-99f3-414d-8b67-3b2c897d6278",
   "metadata": {
    "editable": true,
    "slideshow": {
     "slide_type": ""
    },
    "tags": []
   },
   "outputs": [],
   "source": []
  }
 ],
 "metadata": {
  "kernelspec": {
   "display_name": "Python 3 (ipykernel)",
   "language": "python",
   "name": "python3"
  },
  "language_info": {
   "codemirror_mode": {
    "name": "ipython",
    "version": 3
   },
   "file_extension": ".py",
   "mimetype": "text/x-python",
   "name": "python",
   "nbconvert_exporter": "python",
   "pygments_lexer": "ipython3",
   "version": "3.8.17"
  }
 },
 "nbformat": 4,
 "nbformat_minor": 5
}
