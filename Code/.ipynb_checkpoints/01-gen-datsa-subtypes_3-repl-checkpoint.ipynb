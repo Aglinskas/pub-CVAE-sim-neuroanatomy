{
 "cells": [
  {
   "cell_type": "code",
   "execution_count": 1,
   "id": "4d818963-35d3-4f1d-8f74-205f537bb011",
   "metadata": {
    "papermill": {
     "duration": 0.162797,
     "end_time": "2023-10-23T16:56:58.511358",
     "exception": false,
     "start_time": "2023-10-23T16:56:58.348561",
     "status": "completed"
    },
    "tags": []
   },
   "outputs": [
    {
     "name": "stdout",
     "output_type": "stream",
     "text": [
      "Thu Jan 18 16:24:07 EST 2024\n"
     ]
    }
   ],
   "source": [
    "!date"
   ]
  },
  {
   "cell_type": "code",
   "execution_count": 2,
   "id": "393da3f0-42dc-4a62-bd8c-01caf80eb31c",
   "metadata": {
    "papermill": {
     "duration": 0.017282,
     "end_time": "2023-10-23T16:56:58.534453",
     "exception": false,
     "start_time": "2023-10-23T16:56:58.517171",
     "status": "completed"
    },
    "tags": []
   },
   "outputs": [
    {
     "data": {
      "text/plain": [
       "'/mmfs1/data/aglinska/BC-sim/Code'"
      ]
     },
     "execution_count": 2,
     "metadata": {},
     "output_type": "execute_result"
    }
   ],
   "source": [
    "pwd"
   ]
  },
  {
   "cell_type": "code",
   "execution_count": 3,
   "id": "f25adc5d-accf-4b34-a606-c03d0a2d2742",
   "metadata": {
    "papermill": {
     "duration": 15.424321,
     "end_time": "2023-10-23T16:57:13.964555",
     "exception": false,
     "start_time": "2023-10-23T16:56:58.540234",
     "status": "completed"
    },
    "tags": []
   },
   "outputs": [
    {
     "name": "stdout",
     "output_type": "stream",
     "text": [
      "importing\n"
     ]
    },
    {
     "name": "stderr",
     "output_type": "stream",
     "text": [
      "/data/aglinska/anaconda3/lib/python3.8/site-packages/statsmodels/tsa/base/tsa_model.py:7: FutureWarning: pandas.Int64Index is deprecated and will be removed from pandas in a future version. Use pandas.Index with the appropriate dtype instead.\n",
      "  from pandas import (to_datetime, Int64Index, DatetimeIndex, Period,\n",
      "/data/aglinska/anaconda3/lib/python3.8/site-packages/statsmodels/tsa/base/tsa_model.py:7: FutureWarning: pandas.Float64Index is deprecated and will be removed from pandas in a future version. Use pandas.Index with the appropriate dtype instead.\n",
      "  from pandas import (to_datetime, Int64Index, DatetimeIndex, Period,\n",
      "/data/aglinska/anaconda3/lib/python3.8/site-packages/paramiko/transport.py:219: CryptographyDeprecationWarning: Blowfish has been deprecated\n",
      "  \"class\": algorithms.Blowfish,\n"
     ]
    },
    {
     "name": "stdout",
     "output_type": "stream",
     "text": [
      "CPU times: user 2.06 s, sys: 622 ms, total: 2.68 s\n",
      "Wall time: 7.24 s\n"
     ]
    }
   ],
   "source": [
    "%%time\n",
    "print('importing')\n",
    "import ants\n",
    "import numpy as np\n",
    "import pandas as pd\n",
    "import os\n",
    "from tqdm import tqdm\n",
    "from matplotlib import pyplot as plt\n",
    "from sklearn.decomposition import PCA\n",
    "import shutil"
   ]
  },
  {
   "cell_type": "code",
   "execution_count": 4,
   "id": "5522b4eb-10c4-4e02-9d73-6ed327cf220c",
   "metadata": {
    "papermill": {
     "duration": 0.014869,
     "end_time": "2023-10-23T16:57:13.996120",
     "exception": false,
     "start_time": "2023-10-23T16:57:13.981251",
     "status": "completed"
    },
    "tags": []
   },
   "outputs": [],
   "source": [
    "def safe_mkdir(path):\n",
    "    if not os.path.exists(path):\n",
    "        os.mkdir(path)"
   ]
  },
  {
   "cell_type": "code",
   "execution_count": 5,
   "id": "d264391b-fc87-4e73-8efa-8c81cf96d980",
   "metadata": {
    "papermill": {
     "duration": 0.015072,
     "end_time": "2023-10-23T16:57:14.017172",
     "exception": false,
     "start_time": "2023-10-23T16:57:14.002100",
     "status": "completed"
    },
    "tags": []
   },
   "outputs": [],
   "source": [
    "def sphere(shape, radius, position):\n",
    "    \"\"\"Generate an n-dimensional spherical mask.\"\"\"\n",
    "    # assume shape and position have the same length and contain ints\n",
    "    # the units are pixels / voxels (px for short)\n",
    "    # radius is a int or float in px\n",
    "    assert len(position) == len(shape)\n",
    "    n = len(shape)\n",
    "    semisizes = (radius,) * len(shape)\n",
    "\n",
    "    # genereate the grid for the support points\n",
    "    # centered at the position indicated by position\n",
    "    grid = [slice(-x0, dim - x0) for x0, dim in zip(position, shape)]\n",
    "    position = np.ogrid[grid]\n",
    "    # calculate the distance of all points from `position` center\n",
    "    # scaled by the radius\n",
    "    arr = np.zeros(shape, dtype=float)\n",
    "    for x_i, semisize in zip(position, semisizes):\n",
    "        # this can be generalized for exponent != 2\n",
    "        # in which case `(x_i / semisize)`\n",
    "        # would become `np.abs(x_i / semisize)`\n",
    "        arr += (x_i / semisize) ** 2\n",
    "\n",
    "    # the inner part of the sphere will have distance below or equal to 1\n",
    "    return arr <= 1.0"
   ]
  },
  {
   "cell_type": "code",
   "execution_count": 33,
   "id": "8f339dea-06dd-49f8-80f5-6c3616ca1ee7",
   "metadata": {},
   "outputs": [
    {
     "data": {
      "text/plain": [
       "(33, 35, 53)"
      ]
     },
     "execution_count": 33,
     "metadata": {},
     "output_type": "execute_result"
    }
   ],
   "source": []
  },
  {
   "cell_type": "code",
   "execution_count": null,
   "id": "b6d541f6-f71d-4d16-ae99-7593ee99b8e1",
   "metadata": {},
   "outputs": [],
   "source": []
  },
  {
   "cell_type": "code",
   "execution_count": 6,
   "id": "b4f773a5-974c-47bb-9172-b3f1c0ed15f9",
   "metadata": {
    "papermill": {
     "duration": 0.016256,
     "end_time": "2023-10-23T16:57:14.039347",
     "exception": false,
     "start_time": "2023-10-23T16:57:14.023091",
     "status": "completed"
    },
    "tags": []
   },
   "outputs": [],
   "source": [
    "def do_selective_tx(temp,coords = (32,32,50),sz1=10,sz2=2,do_plot=True,tmp_dir='/scratch/bergerar/',wiggle_spheres=False):\n",
    "\n",
    "    \n",
    "    if wiggle_spheres==True:\n",
    "        ## Wiggle spheres hax\n",
    "        sphere_small = temp.new_image_like(sphere(shape=brain_size, radius=sz1, position=tuple(np.array(coords)+np.random.randint(low=-5,high=5,size=3)))*1.0)\n",
    "        sphere_big = temp.new_image_like(sphere(shape=brain_size, radius=sz2, position=tuple(np.array(coords)+np.random.randint(low=-5,high=5,size=3)))*1.0)\n",
    "    \n",
    "        sphere_small = temp.new_image_like(sphere(shape=brain_size, radius=sz1, position=coords)*1.0)\n",
    "        sphere_big = temp.new_image_like(sphere(shape=brain_size, radius=sz2, position=coords)*1.0)\n",
    "\n",
    "    if do_plot==True:\n",
    "        temp.plot_ortho(sphere_small*3+sphere_big*7,overlay_cmap='flag',xyz=coords,flat=True,overlay_alpha=.5,title='Deformation Targets',textfontcolor='black')\n",
    "\n",
    "    mytx = ants.registration(fixed=sphere_big, moving=sphere_small,mask=sphere_big+sphere_small,type_of_transform = 'SyNOnly',outprefix=tmp_dir) # learns a vector field from small to big sphere\n",
    "    #print(mytx)\n",
    "    #warpedBrain = ants.apply_transforms(fixed=temp, moving=temp,transformlist=mytx['fwdtransforms'][0],interpolator='bSpline') # applies the transformation\n",
    "    warpedBrain = ants.apply_transforms(fixed=temp, moving=temp,transformlist=mytx['fwdtransforms'][0])\n",
    "    #warpedBrain = ants.apply_transforms(fixed=temp, moving=temp,transformlist=mytx['fwdtransforms'][0],interpolator='nearestNeighbor')\n",
    "    #print(mytx['fwdtransforms'][0])\n",
    "    #warpedBrain.plot_ortho(flat=True,xyz=coords)\n",
    "\n",
    "    #mytx['warpedmovout'].plot_ortho(flat=True,xyz=coords)\n",
    "    if do_plot==True:\n",
    "        temp.plot_ortho_double(warpedBrain,xyz=coords,title='Before and After',title_dy=.22,textfontcolor='black')\n",
    "        (warpedBrain-temp).plot_ortho(flat=True,cmap='bwr',xyz=coords,title='Difference Map',textfontcolor='black')\n",
    "        \n",
    "    #temp.plot_ortho((temp-warpedBrain)>np.sort((temp-warpedBrain).numpy().flatten())[-250],flat=True,overlay_alpha=.5,overlay_cmap='hot',xyz=coords)\n",
    "    #temp.plot_ortho(warpedBrain-temp,flat=True,overlay_alpha=.5,overlay_cmap='bwr',xyz=coords)\n",
    "    \n",
    "    #J = ants.create_jacobian_determinant_image(domain_image=warpedBrain,tx=mytx['fwdtransforms'][0])\n",
    "    #J = J-1\n",
    "    #J[abs(J.numpy())<.25]=0\n",
    "    #if do_plot==True:\n",
    "    #    warpedBrain.plot_ortho(J,flat=True,overlay_alpha=.5,xyz=coords,title='Jacobian Map')\n",
    "    \n",
    "    return warpedBrain"
   ]
  },
  {
   "cell_type": "code",
   "execution_count": 7,
   "id": "3c810de1-ef30-42e0-877f-ee404ecfbd33",
   "metadata": {
    "papermill": {
     "duration": 0.016551,
     "end_time": "2023-10-23T16:57:14.061900",
     "exception": false,
     "start_time": "2023-10-23T16:57:14.045349",
     "status": "completed"
    },
    "tags": []
   },
   "outputs": [],
   "source": [
    "import numpy as np\n",
    "from scipy.spatial.distance import pdist\n",
    "from scipy.spatial.distance import squareform\n",
    "# import os\n",
    "# from matplotlib import pyplot as plt\n",
    "# import umap\n",
    "# from IPython import display\n",
    "# import time\n",
    "# import pandas as pd\n",
    "# from sklearn.metrics import silhouette_score\n",
    "\n",
    "# import seaborn as sns\n",
    "#from sklearn.decomposition import PCA\n",
    "#from umap import UMAP\n",
    "\n",
    "    \n",
    "\n",
    "def fit_rsa(rdm_data,rdm_model):\n",
    "    # Takes in two similarity matrices (n x n), has to be square, symmetrical, and either 1s or 0s on the diagonal\n",
    "    # vectorizes them \n",
    "    # Calculates a correlation between them\n",
    "    # returns r value (between -1 and 1)\n",
    "    \n",
    "    return np.corrcoef(get_triu(rdm_data),get_triu(rdm_model))[0,1]\n",
    "        \n",
    "def make_RDM(inVec,data_scale='ratio',metric='euclidean'):\n",
    "    # Makes an similarity matrix\n",
    "    # Takes in a data matrix (n x p), subjects as rows, and abitrary number of features \n",
    "    # Whether you give it a 5x2 or a 5x10000 matrix, will give back a 5x5 similarity matrix\n",
    "    # \n",
    "    vec = inVec # Takes whatever data you give it \n",
    "    vec = (vec - min(vec.flatten())) / (max(vec.flatten())-min(vec.flatten())) # Normalizes between 0 and 1\n",
    "    \n",
    "    if np.ndim(inVec)==1: # must be at least 2D\n",
    "        vec = np.vstack((vec,np.zeros(vec.shape))).transpose() # this is... just... magic. so beautiful. I mean really. \n",
    "        # ^ ok ok lemme explain \n",
    "        # pdist function below, works on >=2D data\n",
    "        # this is a hack in case you want to use it on 1D data\n",
    "        # in case you pass it a 1D vector, it adds a column of zeros\n",
    "        # which doesnt change the distances, \n",
    "                   \n",
    "    mat = squareform(pdist(vec,metric=metric).transpose()) # Takes in calcs the distances, turns into a dissimilarity matrix\n",
    "\n",
    "    if data_scale=='ordinal': # In case the data is ordinal, makes into a same or differnt matrix or ones and zeros\n",
    "        mat[mat!=0]=1 # Make into zeros and ones\n",
    "        \n",
    "    return mat\n",
    "\n",
    "def get_triu(inMat):\n",
    "    # Nifty function that takes in a similarity matrix (nxn) and vectorizes it (returns the upper triangle values)\n",
    "    \n",
    "    assert np.ndim(inMat)==2, 'not 2 dim, wtf' # Check if some dummy passed a nd array instead of a simmmat\n",
    "    assert inMat.shape[0]==inMat.shape[1], 'not a square' # make sure it's a square\n",
    "\n",
    "    n = inMat.shape[0]\n",
    "    triu_vec = inMat[np.triu_indices(n=n,k=1)] # Takes the upper triangle values\n",
    "    \n",
    "    return triu_vec\n",
    "\n"
   ]
  },
  {
   "cell_type": "code",
   "execution_count": 8,
   "id": "548eefc4-9e5a-4ea1-8c62-4c568a46099e",
   "metadata": {
    "papermill": {
     "duration": 0.012791,
     "end_time": "2023-10-23T16:57:14.080703",
     "exception": false,
     "start_time": "2023-10-23T16:57:14.067912",
     "status": "completed"
    },
    "tags": []
   },
   "outputs": [],
   "source": [
    "brain_size = (64,64,64)"
   ]
  },
  {
   "cell_type": "code",
   "execution_count": 9,
   "id": "0118095c-ec32-4da3-92ae-de7340c4dbdb",
   "metadata": {
    "papermill": {
     "duration": 0.181602,
     "end_time": "2023-10-23T16:57:14.268350",
     "exception": false,
     "start_time": "2023-10-23T16:57:14.086748",
     "status": "completed"
    },
    "tags": []
   },
   "outputs": [],
   "source": [
    "temp = ants.image_read('../Misc/Atlas_brain_2mm.nii',reorient=False)\n",
    "temp = ants.resample_image(image=temp,resample_params=brain_size,use_voxels=True,interp_type=1)\n",
    "temp = temp.iMath_normalize()\n",
    "temp.to_filename('../Misc/Atlas_brain_2mm_64iso.nii')"
   ]
  },
  {
   "cell_type": "code",
   "execution_count": null,
   "id": "3110ea76-cbad-429c-8cc4-6dd6f42d2a55",
   "metadata": {
    "papermill": {
     "duration": 0.005986,
     "end_time": "2023-10-23T16:57:14.280261",
     "exception": false,
     "start_time": "2023-10-23T16:57:14.274275",
     "status": "completed"
    },
    "tags": []
   },
   "outputs": [],
   "source": []
  },
  {
   "cell_type": "markdown",
   "id": "1d6a3935-25b8-4ca0-8448-20af97a12447",
   "metadata": {
    "papermill": {
     "duration": 0.006129,
     "end_time": "2023-10-23T16:57:14.292554",
     "exception": false,
     "start_time": "2023-10-23T16:57:14.286425",
     "status": "completed"
    },
    "tags": []
   },
   "source": [
    "## Generate Training description"
   ]
  },
  {
   "cell_type": "code",
   "execution_count": null,
   "id": "e6f0ade7-8216-4f06-bdf2-b151ce139bd5",
   "metadata": {},
   "outputs": [],
   "source": []
  },
  {
   "cell_type": "code",
   "execution_count": 10,
   "id": "6498e23d-b6f5-41eb-b522-55ebd333abe0",
   "metadata": {
    "papermill": {
     "duration": 0.012966,
     "end_time": "2023-10-23T16:57:14.324093",
     "exception": false,
     "start_time": "2023-10-23T16:57:14.311127",
     "status": "completed"
    },
    "tags": []
   },
   "outputs": [],
   "source": [
    "ofdir = 'synth-data-01-repl-change-Z'"
   ]
  },
  {
   "cell_type": "code",
   "execution_count": 11,
   "id": "abd5ffb1-2294-4f23-a3ea-3f78550fe6ef",
   "metadata": {
    "papermill": {
     "duration": 0.026051,
     "end_time": "2023-10-23T16:57:14.356184",
     "exception": false,
     "start_time": "2023-10-23T16:57:14.330133",
     "status": "completed"
    },
    "tags": []
   },
   "outputs": [],
   "source": [
    "generate_training_descr = True\n",
    "\n",
    "if generate_training_descr==True:\n",
    "    #shutil.rmtree(f'../{ofdir}')\n",
    "    safe_mkdir(f'../{ofdir}')\n",
    "    safe_mkdir(f'../{ofdir}/ims')\n",
    "    #adhd_locs = [(32,48,25),(32,22,37),(32,46,41),(32,20,18),(34,40,29)]\n",
    "    #adhd_locs = [(32,48,25),(32,46,41),(32,20,18)]\n",
    "    adhd_locs = [(32,48,25)]\n",
    "    td_locs = [(32,32,32)]\n",
    "    \n",
    "    n = 500\n",
    "    n_subtypes = 1\n",
    "    tx_log_td = []\n",
    "    tx_log_adhd = []\n",
    "    tx_log_subtype = []\n",
    "    tx_locs_td = []\n",
    "    tx_locs_adhd = []\n",
    "    subtypes = []\n",
    "    \n",
    "    for s in np.arange(n):\n",
    "        sub = f'sub-{s:04d}'\n",
    "        td_sphere1 = np.random.uniform(low=10.0,high=35,size=1)\n",
    "        td_sphere_diff = np.random.uniform(low=-5.0,high=5.0,size=1)\n",
    "        td_sphere2 = td_sphere1+td_sphere_diff\n",
    "        tx_log_td.append( (td_sphere1,td_sphere2) )\n",
    "        tx_locs_td.append(td_locs[0])\n",
    "        \n",
    "        subtype = np.mod(s,n_subtypes)\n",
    "        subtypes.append(subtype)\n",
    "        tx_locs_adhd.append(adhd_locs[subtype]) # For TD\n",
    "        if subtype==0:\n",
    "            adhd_sphere1 = np.random.uniform(low=5.0,high=15,size=1)\n",
    "            adhd_sphere_diff = np.random.uniform(low=-3.0,high=3.0,size=1)    \n",
    "            adhd_sphere2 = adhd_sphere1+adhd_sphere_diff\n",
    "        elif subtype==1:\n",
    "            adhd_sphere1 = np.random.uniform(low=6.0,high=15,size=1)\n",
    "            adhd_sphere_diff = np.random.uniform(low=-5.0,high=-1.0,size=1)    \n",
    "            adhd_sphere2 = adhd_sphere1+adhd_sphere_diff\n",
    "        elif subtype==3:\n",
    "            adhd_sphere1 = np.random.uniform(low=6.0,high=15,size=1)\n",
    "            adhd_sphere_diff = np.random.uniform(low=1.0,high=5.0,size=1)    \n",
    "            adhd_sphere2 = adhd_sphere1+adhd_sphere_diff\n",
    "        elif subtype==4:\n",
    "            adhd_sphere1 = np.random.uniform(low=6.0,high=15,size=1)\n",
    "            adhd_sphere_diff = np.random.uniform(low=-5.0,high=-1.0,size=1)    \n",
    "            adhd_sphere2 = adhd_sphere1+adhd_sphere_diff\n",
    "        \n",
    "        tx_log_adhd.append( (adhd_sphere1,adhd_sphere2) )\n",
    "        tx_log_subtype.append( int(np.mod(s,2)==0)+1 )\n",
    "\n",
    "    deform_adhd = np.array(tx_log_adhd)[:,:,0]\n",
    "    deform_td = np.array(tx_log_td)[:,:,0]\n",
    "    subtypes = np.array(subtypes)\n",
    "    \n",
    "    df = pd.DataFrame()\n",
    "    df['subID'] = np.hstack( ([f'sub-{s:04d}' for s in range(n)],[f'sub-{s:04d}' for s in range(n)]) )\n",
    "    df['dx'] = np.hstack( (np.repeat(1,n),np.repeat(0,n)) )\n",
    "    df['subtype'] = np.hstack((np.array([np.mod(s,n_subtypes)+1 for s in range(n)]),np.zeros(n))).astype(int)\n",
    "    df['path'] = np.hstack( ([f'../{ofdir}/ims/ADHD-sub-{s:04d}.nii.gz' for s in range(n)] , [f'../{ofdir}/ims/TD-sub-{s:04d}.nii.gz' for s in range(n)]) )\n",
    "    df['td_sphere_1'] = np.hstack( (deform_td[:,0],deform_td[:,0]) )\n",
    "    df['td_sphere_2'] = np.hstack( (deform_td[:,1],deform_td[:,1]) )\n",
    "    df['adhd_sphere_1'] = np.hstack( (deform_adhd[:,0],np.repeat(0,n)) )\n",
    "    df['adhd_sphere_2'] = np.hstack( (deform_adhd[:,1],np.repeat(0,n)) )\n",
    "    df['td_tx'] = df['td_sphere_1']-df['td_sphere_2']\n",
    "    df['adhd_tx'] = df['adhd_sphere_1']-df['adhd_sphere_2']\n",
    "    #df['loc_tx_td'] = [list(np.vstack( (tx_locs_td,tx_locs_td) )[i,:]) for i in range(n*2)]\n",
    "    df['loc_tx_td'] = [(32,32,32) for i in range(df.shape[0])]\n",
    "    #df['loc_tx_adhd'] = [(32,32,32) for i in range(df.shape[0])]\n",
    "    df['loc_tx_adhd'] = [(np.nan,np.nan,np.nan) for i in range(df.shape[0])]\n",
    "    df['loc_tx_adhd'].iloc[0:n] = tx_locs_adhd\n",
    "    df.to_csv(f'../{ofdir}/data_description.csv')\n",
    "    df"
   ]
  },
  {
   "cell_type": "code",
   "execution_count": 12,
   "id": "89508959-a71d-4d54-b0a8-4a8bf58b33c6",
   "metadata": {
    "papermill": {
     "duration": 0.028692,
     "end_time": "2023-10-23T16:57:14.415926",
     "exception": false,
     "start_time": "2023-10-23T16:57:14.387234",
     "status": "completed"
    },
    "tags": []
   },
   "outputs": [],
   "source": [
    "df = pd.read_csv(f'../{ofdir}/data_description.csv')\n",
    "n = int(df.shape[0]/2)"
   ]
  },
  {
   "cell_type": "code",
   "execution_count": 13,
   "id": "ab10f88b-ecde-4170-a7f0-a4cf258ee436",
   "metadata": {
    "papermill": {
     "duration": 0.026638,
     "end_time": "2023-10-23T16:57:14.448829",
     "exception": false,
     "start_time": "2023-10-23T16:57:14.422191",
     "status": "completed"
    },
    "tags": []
   },
   "outputs": [
    {
     "name": "stdout",
     "output_type": "stream",
     "text": [
      "/scratch/aglinska/ants_temp_99547/\n"
     ]
    }
   ],
   "source": [
    "tmp_dir = '/scratch/aglinska/' + 'ants_temp_'+str(np.random.randint(low=10000,high=110000))+'/'\n",
    "safe_mkdir(tmp_dir)\n",
    "print(tmp_dir)"
   ]
  },
  {
   "cell_type": "markdown",
   "id": "8dd7e0f5-5b2c-43f5-893a-5a28e8ef2906",
   "metadata": {
    "papermill": {
     "duration": 0.006047,
     "end_time": "2023-10-23T16:57:14.461121",
     "exception": false,
     "start_time": "2023-10-23T16:57:14.455074",
     "status": "completed"
    },
    "tags": []
   },
   "source": [
    "## Generate brains"
   ]
  },
  {
   "cell_type": "code",
   "execution_count": 14,
   "id": "301890ad-cf4f-4fda-ac4a-5bb7caaecb5a",
   "metadata": {
    "papermill": {
     "duration": 1979.260661,
     "end_time": "2023-10-23T17:30:13.728093",
     "exception": false,
     "start_time": "2023-10-23T16:57:14.467432",
     "status": "completed"
    },
    "tags": []
   },
   "outputs": [
    {
     "name": "stderr",
     "output_type": "stream",
     "text": [
      "100%|██████████████████████████████████████████████████| 500/500 [35:33<00:00,  4.27s/it]\n"
     ]
    },
    {
     "name": "stderr",
     "output_type": "stream",
     "text": [
      "\r",
      "  1%|          | 7/1000 [00:59<2:19:30,  8.43s/it]"
     ]
    },
    {
     "name": "stderr",
     "output_type": "stream",
     "text": [
      "\r",
      "  1%|          | 8/1000 [01:06<2:15:39,  8.20s/it]"
     ]
    },
    {
     "name": "stderr",
     "output_type": "stream",
     "text": [
      "\r",
      "  1%|          | 9/1000 [01:14<2:14:10,  8.12s/it]"
     ]
    },
    {
     "name": "stderr",
     "output_type": "stream",
     "text": [
      "\r",
      "  1%|          | 10/1000 [01:23<2:15:37,  8.22s/it]"
     ]
    },
    {
     "name": "stderr",
     "output_type": "stream",
     "text": [
      "\r",
      "  1%|          | 11/1000 [01:30<2:13:38,  8.11s/it]"
     ]
    },
    {
     "name": "stderr",
     "output_type": "stream",
     "text": [
      "\r",
      "  1%|          | 12/1000 [01:38<2:08:28,  7.80s/it]"
     ]
    },
    {
     "name": "stderr",
     "output_type": "stream",
     "text": [
      "\r",
      "  1%|▏         | 13/1000 [01:45<2:07:31,  7.75s/it]"
     ]
    },
    {
     "name": "stderr",
     "output_type": "stream",
     "text": [
      "\r",
      "  1%|▏         | 14/1000 [01:53<2:06:17,  7.68s/it]"
     ]
    },
    {
     "name": "stderr",
     "output_type": "stream",
     "text": [
      "\r",
      "  2%|▏         | 15/1000 [02:01<2:09:31,  7.89s/it]"
     ]
    },
    {
     "name": "stderr",
     "output_type": "stream",
     "text": [
      "\r",
      "  2%|▏         | 16/1000 [02:07<1:59:55,  7.31s/it]"
     ]
    },
    {
     "name": "stderr",
     "output_type": "stream",
     "text": [
      "\r",
      "  2%|▏         | 17/1000 [02:14<1:57:38,  7.18s/it]"
     ]
    },
    {
     "name": "stderr",
     "output_type": "stream",
     "text": [
      "\r",
      "  2%|▏         | 18/1000 [02:21<1:56:08,  7.10s/it]"
     ]
    },
    {
     "name": "stderr",
     "output_type": "stream",
     "text": [
      "\r",
      "  2%|▏         | 19/1000 [02:28<1:54:37,  7.01s/it]"
     ]
    },
    {
     "name": "stderr",
     "output_type": "stream",
     "text": [
      "\r",
      "  2%|▏         | 20/1000 [02:36<1:59:36,  7.32s/it]"
     ]
    },
    {
     "name": "stderr",
     "output_type": "stream",
     "text": [
      "\r",
      "  2%|▏         | 21/1000 [02:43<1:59:41,  7.34s/it]"
     ]
    },
    {
     "name": "stderr",
     "output_type": "stream",
     "text": [
      "\r",
      "  2%|▏         | 23/1000 [02:56<1:52:00,  6.88s/it]"
     ]
    },
    {
     "name": "stderr",
     "output_type": "stream",
     "text": [
      "\r",
      "  2%|▏         | 24/1000 [03:16<2:47:32, 10.30s/it]"
     ]
    },
    {
     "name": "stderr",
     "output_type": "stream",
     "text": [
      "\r",
      "  3%|▎         | 26/1000 [03:35<2:40:50,  9.91s/it]"
     ]
    },
    {
     "name": "stderr",
     "output_type": "stream",
     "text": [
      "\r",
      "  3%|▎         | 27/1000 [03:57<3:25:53, 12.70s/it]"
     ]
    },
    {
     "name": "stderr",
     "output_type": "stream",
     "text": [
      "\r",
      "  3%|▎         | 29/1000 [04:14<2:57:36, 10.97s/it]"
     ]
    },
    {
     "name": "stderr",
     "output_type": "stream",
     "text": [
      "\r",
      "  3%|▎         | 30/1000 [04:35<3:35:04, 13.30s/it]"
     ]
    },
    {
     "name": "stderr",
     "output_type": "stream",
     "text": [
      "\r",
      "  3%|▎         | 31/1000 [04:59<4:13:50, 15.72s/it]"
     ]
    },
    {
     "name": "stderr",
     "output_type": "stream",
     "text": [
      "\r",
      "  3%|▎         | 32/1000 [05:09<3:49:30, 14.23s/it]"
     ]
    },
    {
     "name": "stderr",
     "output_type": "stream",
     "text": [
      "\r",
      "  3%|▎         | 34/1000 [05:15<2:35:14,  9.64s/it]"
     ]
    },
    {
     "name": "stderr",
     "output_type": "stream",
     "text": [
      "\r",
      "  4%|▎         | 35/1000 [05:24<2:30:16,  9.34s/it]"
     ]
    },
    {
     "name": "stderr",
     "output_type": "stream",
     "text": [
      "\r",
      "  4%|▎         | 36/1000 [05:30<2:18:17,  8.61s/it]"
     ]
    },
    {
     "name": "stderr",
     "output_type": "stream",
     "text": [
      "\r",
      "  4%|▎         | 37/1000 [05:37<2:10:49,  8.15s/it]"
     ]
    },
    {
     "name": "stderr",
     "output_type": "stream",
     "text": [
      "\r",
      "  4%|▍         | 38/1000 [05:44<2:05:04,  7.80s/it]"
     ]
    },
    {
     "name": "stderr",
     "output_type": "stream",
     "text": [
      "\r",
      "  4%|▍         | 39/1000 [05:51<2:03:06,  7.69s/it]"
     ]
    },
    {
     "name": "stderr",
     "output_type": "stream",
     "text": [
      "\r",
      "  4%|▍         | 40/1000 [05:58<1:58:23,  7.40s/it]"
     ]
    },
    {
     "name": "stderr",
     "output_type": "stream",
     "text": [
      "\r",
      "  4%|▍         | 42/1000 [06:06<1:33:50,  5.88s/it]"
     ]
    },
    {
     "name": "stderr",
     "output_type": "stream",
     "text": [
      "\r",
      "  4%|▍         | 43/1000 [06:14<1:40:27,  6.30s/it]"
     ]
    },
    {
     "name": "stderr",
     "output_type": "stream",
     "text": [
      "\r",
      "  4%|▍         | 44/1000 [06:20<1:40:55,  6.33s/it]"
     ]
    },
    {
     "name": "stderr",
     "output_type": "stream",
     "text": [
      "\r",
      "  5%|▍         | 46/1000 [06:27<1:20:45,  5.08s/it]"
     ]
    },
    {
     "name": "stderr",
     "output_type": "stream",
     "text": [
      "\r",
      "  5%|▍         | 48/1000 [06:33<1:09:04,  4.35s/it]"
     ]
    },
    {
     "name": "stderr",
     "output_type": "stream",
     "text": [
      "\r",
      "  5%|▌         | 51/1000 [06:53<1:25:33,  5.41s/it]"
     ]
    },
    {
     "name": "stderr",
     "output_type": "stream",
     "text": [
      "\r",
      "  5%|▌         | 52/1000 [06:59<1:26:48,  5.49s/it]"
     ]
    },
    {
     "name": "stderr",
     "output_type": "stream",
     "text": [
      "\r",
      "  5%|▌         | 53/1000 [07:06<1:30:17,  5.72s/it]"
     ]
    },
    {
     "name": "stderr",
     "output_type": "stream",
     "text": [
      "\r",
      "  5%|▌         | 54/1000 [07:13<1:35:42,  6.07s/it]"
     ]
    },
    {
     "name": "stderr",
     "output_type": "stream",
     "text": [
      "\r",
      "  6%|▌         | 55/1000 [07:18<1:33:15,  5.92s/it]"
     ]
    },
    {
     "name": "stderr",
     "output_type": "stream",
     "text": [
      "\r",
      "  6%|▌         | 56/1000 [07:25<1:33:44,  5.96s/it]"
     ]
    },
    {
     "name": "stderr",
     "output_type": "stream",
     "text": [
      "\r",
      "  6%|▌         | 58/1000 [07:30<1:12:22,  4.61s/it]"
     ]
    },
    {
     "name": "stderr",
     "output_type": "stream",
     "text": [
      "\r",
      "  6%|▌         | 59/1000 [07:37<1:19:30,  5.07s/it]"
     ]
    },
    {
     "name": "stderr",
     "output_type": "stream",
     "text": [
      "\r",
      "  6%|▌         | 60/1000 [07:42<1:21:50,  5.22s/it]"
     ]
    },
    {
     "name": "stderr",
     "output_type": "stream",
     "text": [
      "\r",
      "  6%|▌         | 61/1000 [07:48<1:24:35,  5.41s/it]"
     ]
    },
    {
     "name": "stderr",
     "output_type": "stream",
     "text": [
      "\r",
      "  6%|▋         | 63/1000 [07:57<1:15:51,  4.86s/it]"
     ]
    },
    {
     "name": "stderr",
     "output_type": "stream",
     "text": [
      "\r",
      "  6%|▋         | 64/1000 [08:04<1:26:58,  5.58s/it]"
     ]
    },
    {
     "name": "stderr",
     "output_type": "stream",
     "text": [
      "\r",
      "  6%|▋         | 65/1000 [08:11<1:31:42,  5.89s/it]"
     ]
    },
    {
     "name": "stderr",
     "output_type": "stream",
     "text": [
      "\r",
      "  7%|▋         | 66/1000 [08:18<1:36:12,  6.18s/it]"
     ]
    },
    {
     "name": "stderr",
     "output_type": "stream",
     "text": [
      "\r",
      "  7%|▋         | 69/1000 [08:26<1:06:49,  4.31s/it]"
     ]
    },
    {
     "name": "stderr",
     "output_type": "stream",
     "text": [
      "\r",
      "  7%|▋         | 70/1000 [08:35<1:20:48,  5.21s/it]"
     ]
    },
    {
     "name": "stderr",
     "output_type": "stream",
     "text": [
      "\r",
      "  7%|▋         | 71/1000 [08:43<1:29:00,  5.75s/it]"
     ]
    },
    {
     "name": "stderr",
     "output_type": "stream",
     "text": [
      "\r",
      "  7%|▋         | 72/1000 [08:48<1:28:42,  5.74s/it]"
     ]
    },
    {
     "name": "stderr",
     "output_type": "stream",
     "text": [
      "\r",
      "  7%|▋         | 73/1000 [08:55<1:34:01,  6.09s/it]"
     ]
    },
    {
     "name": "stderr",
     "output_type": "stream",
     "text": [
      "\r",
      "  8%|▊         | 75/1000 [09:02<1:14:00,  4.80s/it]"
     ]
    },
    {
     "name": "stderr",
     "output_type": "stream",
     "text": [
      "\r",
      "  8%|▊         | 76/1000 [09:08<1:19:42,  5.18s/it]"
     ]
    },
    {
     "name": "stderr",
     "output_type": "stream",
     "text": [
      "\r",
      "  8%|▊         | 77/1000 [09:15<1:27:41,  5.70s/it]"
     ]
    },
    {
     "name": "stderr",
     "output_type": "stream",
     "text": [
      "\r",
      "  8%|▊         | 79/1000 [09:22<1:13:32,  4.79s/it]"
     ]
    },
    {
     "name": "stderr",
     "output_type": "stream",
     "text": [
      "\r",
      "  8%|▊         | 81/1000 [09:28<1:02:33,  4.08s/it]"
     ]
    },
    {
     "name": "stderr",
     "output_type": "stream",
     "text": [
      "\r",
      "  8%|▊         | 82/1000 [09:36<1:14:45,  4.89s/it]"
     ]
    },
    {
     "name": "stderr",
     "output_type": "stream",
     "text": [
      "\r",
      "  8%|▊         | 83/1000 [09:43<1:21:58,  5.36s/it]"
     ]
    },
    {
     "name": "stderr",
     "output_type": "stream",
     "text": [
      "\r",
      "  8%|▊         | 84/1000 [09:49<1:22:50,  5.43s/it]"
     ]
    },
    {
     "name": "stderr",
     "output_type": "stream",
     "text": [
      "\r",
      "  9%|▊         | 86/1000 [09:55<1:09:49,  4.58s/it]"
     ]
    },
    {
     "name": "stderr",
     "output_type": "stream",
     "text": [
      "\r",
      "  9%|▉         | 88/1000 [10:02<1:02:57,  4.14s/it]"
     ]
    },
    {
     "name": "stderr",
     "output_type": "stream",
     "text": [
      "\r",
      "  9%|▉         | 93/1000 [10:09<38:45,  2.56s/it]  "
     ]
    },
    {
     "name": "stderr",
     "output_type": "stream",
     "text": [
      "\r",
      "  9%|▉         | 94/1000 [10:16<48:35,  3.22s/it]"
     ]
    },
    {
     "name": "stderr",
     "output_type": "stream",
     "text": [
      "\r",
      " 10%|▉         | 96/1000 [10:24<51:14,  3.40s/it]"
     ]
    },
    {
     "name": "stderr",
     "output_type": "stream",
     "text": [
      "\r",
      " 10%|▉         | 98/1000 [10:31<51:51,  3.45s/it]"
     ]
    },
    {
     "name": "stderr",
     "output_type": "stream",
     "text": [
      "\r",
      " 10%|▉         | 99/1000 [10:37<57:13,  3.81s/it]"
     ]
    },
    {
     "name": "stderr",
     "output_type": "stream",
     "text": [
      "\r",
      " 10%|█         | 100/1000 [10:45<1:11:25,  4.76s/it]"
     ]
    },
    {
     "name": "stderr",
     "output_type": "stream",
     "text": [
      "\r",
      " 10%|█         | 101/1000 [10:52<1:17:13,  5.15s/it]"
     ]
    },
    {
     "name": "stderr",
     "output_type": "stream",
     "text": [
      "\r",
      " 11%|█         | 106/1000 [10:58<41:06,  2.76s/it]  "
     ]
    },
    {
     "name": "stderr",
     "output_type": "stream",
     "text": [
      "\r",
      " 11%|█         | 107/1000 [11:05<49:41,  3.34s/it]"
     ]
    },
    {
     "name": "stderr",
     "output_type": "stream",
     "text": [
      "\r",
      " 11%|█         | 109/1000 [11:11<49:27,  3.33s/it]"
     ]
    },
    {
     "name": "stderr",
     "output_type": "stream",
     "text": [
      "\r",
      " 11%|█         | 112/1000 [11:17<40:53,  2.76s/it]"
     ]
    },
    {
     "name": "stderr",
     "output_type": "stream",
     "text": [
      "\r",
      " 11%|█▏        | 114/1000 [11:25<46:50,  3.17s/it]"
     ]
    },
    {
     "name": "stderr",
     "output_type": "stream",
     "text": [
      "\r",
      " 12%|█▏        | 115/1000 [11:32<55:59,  3.80s/it]"
     ]
    },
    {
     "name": "stderr",
     "output_type": "stream",
     "text": [
      "\r",
      " 12%|█▏        | 116/1000 [11:39<1:03:57,  4.34s/it]"
     ]
    },
    {
     "name": "stderr",
     "output_type": "stream",
     "text": [
      "\r",
      " 12%|█▏        | 117/1000 [11:46<1:11:50,  4.88s/it]"
     ]
    },
    {
     "name": "stderr",
     "output_type": "stream",
     "text": [
      "\r",
      " 12%|█▏        | 118/1000 [11:52<1:15:10,  5.11s/it]"
     ]
    },
    {
     "name": "stderr",
     "output_type": "stream",
     "text": [
      "\r",
      " 12%|█▏        | 119/1000 [12:00<1:26:30,  5.89s/it]"
     ]
    },
    {
     "name": "stderr",
     "output_type": "stream",
     "text": [
      "\r",
      " 12%|█▏        | 120/1000 [12:07<1:29:31,  6.10s/it]"
     ]
    },
    {
     "name": "stderr",
     "output_type": "stream",
     "text": [
      "\r",
      " 12%|█▏        | 121/1000 [12:15<1:38:13,  6.70s/it]"
     ]
    },
    {
     "name": "stderr",
     "output_type": "stream",
     "text": [
      "\r",
      " 12%|█▏        | 124/1000 [12:21<1:00:08,  4.12s/it]"
     ]
    },
    {
     "name": "stderr",
     "output_type": "stream",
     "text": [
      "\r",
      " 12%|█▎        | 125/1000 [12:27<1:07:24,  4.62s/it]"
     ]
    },
    {
     "name": "stderr",
     "output_type": "stream",
     "text": [
      "\r",
      " 13%|█▎        | 126/1000 [12:35<1:15:56,  5.21s/it]"
     ]
    },
    {
     "name": "stderr",
     "output_type": "stream",
     "text": [
      "\r",
      " 13%|█▎        | 127/1000 [12:44<1:29:14,  6.13s/it]"
     ]
    },
    {
     "name": "stderr",
     "output_type": "stream",
     "text": [
      "\r",
      " 13%|█▎        | 128/1000 [12:50<1:29:43,  6.17s/it]"
     ]
    },
    {
     "name": "stderr",
     "output_type": "stream",
     "text": [
      "\r",
      " 13%|█▎        | 129/1000 [12:57<1:32:10,  6.35s/it]"
     ]
    },
    {
     "name": "stderr",
     "output_type": "stream",
     "text": [
      "\r",
      " 13%|█▎        | 133/1000 [13:04<52:05,  3.61s/it]  "
     ]
    },
    {
     "name": "stderr",
     "output_type": "stream",
     "text": [
      "\r",
      " 14%|█▎        | 136/1000 [13:11<43:47,  3.04s/it]"
     ]
    },
    {
     "name": "stderr",
     "output_type": "stream",
     "text": [
      "\r",
      " 14%|█▍        | 138/1000 [13:17<45:01,  3.13s/it]"
     ]
    },
    {
     "name": "stderr",
     "output_type": "stream",
     "text": [
      "\r",
      " 14%|█▍        | 139/1000 [13:25<54:55,  3.83s/it]"
     ]
    },
    {
     "name": "stderr",
     "output_type": "stream",
     "text": [
      "\r",
      " 14%|█▍        | 140/1000 [13:31<1:01:56,  4.32s/it]"
     ]
    },
    {
     "name": "stderr",
     "output_type": "stream",
     "text": [
      "\r",
      " 14%|█▍        | 141/1000 [13:38<1:10:38,  4.93s/it]"
     ]
    },
    {
     "name": "stderr",
     "output_type": "stream",
     "text": [
      "\r",
      " 14%|█▍        | 145/1000 [13:49<52:08,  3.66s/it]  "
     ]
    },
    {
     "name": "stderr",
     "output_type": "stream",
     "text": [
      "\r",
      " 15%|█▍        | 149/1000 [13:57<41:01,  2.89s/it]"
     ]
    },
    {
     "name": "stderr",
     "output_type": "stream",
     "text": [
      "\r",
      " 15%|█▌        | 150/1000 [14:03<48:21,  3.41s/it]"
     ]
    },
    {
     "name": "stderr",
     "output_type": "stream",
     "text": [
      "\r",
      " 15%|█▌        | 152/1000 [14:11<50:46,  3.59s/it]"
     ]
    },
    {
     "name": "stderr",
     "output_type": "stream",
     "text": [
      "\r",
      " 16%|█▌        | 156/1000 [14:19<40:09,  2.85s/it]"
     ]
    },
    {
     "name": "stderr",
     "output_type": "stream",
     "text": [
      "\r",
      " 16%|█▋        | 163/1000 [14:26<26:31,  1.90s/it]"
     ]
    },
    {
     "name": "stderr",
     "output_type": "stream",
     "text": [
      "\r",
      " 17%|█▋        | 167/1000 [14:36<28:26,  2.05s/it]"
     ]
    },
    {
     "name": "stderr",
     "output_type": "stream",
     "text": [
      "\r",
      " 17%|█▋        | 170/1000 [14:44<30:44,  2.22s/it]"
     ]
    },
    {
     "name": "stderr",
     "output_type": "stream",
     "text": [
      "\r",
      " 17%|█▋        | 171/1000 [14:51<37:34,  2.72s/it]"
     ]
    },
    {
     "name": "stderr",
     "output_type": "stream",
     "text": [
      "\r",
      " 17%|█▋        | 173/1000 [14:59<41:08,  2.98s/it]"
     ]
    },
    {
     "name": "stderr",
     "output_type": "stream",
     "text": [
      "\r",
      " 18%|█▊        | 178/1000 [15:11<37:19,  2.72s/it]"
     ]
    },
    {
     "name": "stderr",
     "output_type": "stream",
     "text": [
      "\r",
      " 18%|█▊        | 179/1000 [15:18<43:47,  3.20s/it]"
     ]
    },
    {
     "name": "stderr",
     "output_type": "stream",
     "text": [
      "\r",
      " 18%|█▊        | 180/1000 [15:24<49:05,  3.59s/it]"
     ]
    },
    {
     "name": "stderr",
     "output_type": "stream",
     "text": [
      "\r",
      " 18%|█▊        | 184/1000 [15:31<37:50,  2.78s/it]"
     ]
    },
    {
     "name": "stderr",
     "output_type": "stream",
     "text": [
      "\r",
      " 18%|█▊        | 185/1000 [15:41<50:27,  3.72s/it]"
     ]
    },
    {
     "name": "stderr",
     "output_type": "stream",
     "text": [
      "\r",
      " 19%|█▉        | 190/1000 [15:48<35:14,  2.61s/it]"
     ]
    },
    {
     "name": "stderr",
     "output_type": "stream",
     "text": [
      "\r",
      " 19%|█▉        | 192/1000 [15:54<36:34,  2.72s/it]"
     ]
    },
    {
     "name": "stderr",
     "output_type": "stream",
     "text": [
      "\r",
      " 20%|█▉        | 196/1000 [16:00<30:11,  2.25s/it]"
     ]
    },
    {
     "name": "stderr",
     "output_type": "stream",
     "text": [
      "\r",
      " 20%|██        | 201/1000 [16:07<24:36,  1.85s/it]"
     ]
    },
    {
     "name": "stderr",
     "output_type": "stream",
     "text": [
      "\r",
      " 20%|██        | 203/1000 [16:15<30:11,  2.27s/it]"
     ]
    },
    {
     "name": "stderr",
     "output_type": "stream",
     "text": [
      "\r",
      " 20%|██        | 204/1000 [16:22<37:48,  2.85s/it]"
     ]
    },
    {
     "name": "stderr",
     "output_type": "stream",
     "text": [
      "\r",
      " 21%|██        | 206/1000 [16:31<44:03,  3.33s/it]"
     ]
    },
    {
     "name": "stderr",
     "output_type": "stream",
     "text": [
      "\r",
      " 21%|██        | 207/1000 [16:49<1:13:58,  5.60s/it]"
     ]
    },
    {
     "name": "stderr",
     "output_type": "stream",
     "text": [
      "\r",
      " 21%|██        | 210/1000 [16:55<54:20,  4.13s/it]  "
     ]
    },
    {
     "name": "stderr",
     "output_type": "stream",
     "text": [
      "\r",
      " 21%|██        | 211/1000 [17:04<1:03:29,  4.83s/it]"
     ]
    },
    {
     "name": "stderr",
     "output_type": "stream",
     "text": [
      "\r",
      " 21%|██▏       | 213/1000 [17:12<1:01:34,  4.69s/it]"
     ]
    },
    {
     "name": "stderr",
     "output_type": "stream",
     "text": [
      "\r",
      " 22%|██▏       | 215/1000 [17:18<53:52,  4.12s/it]  "
     ]
    },
    {
     "name": "stderr",
     "output_type": "stream",
     "text": [
      "\r",
      " 22%|██▏       | 217/1000 [17:25<51:36,  3.95s/it]"
     ]
    },
    {
     "name": "stderr",
     "output_type": "stream",
     "text": [
      "\r",
      " 22%|██▏       | 223/1000 [17:34<32:28,  2.51s/it]"
     ]
    },
    {
     "name": "stderr",
     "output_type": "stream",
     "text": [
      "\r",
      " 22%|██▏       | 224/1000 [17:44<43:54,  3.39s/it]"
     ]
    },
    {
     "name": "stderr",
     "output_type": "stream",
     "text": [
      "\r",
      " 22%|██▎       | 225/1000 [17:50<49:10,  3.81s/it]"
     ]
    },
    {
     "name": "stderr",
     "output_type": "stream",
     "text": [
      "\r",
      " 23%|██▎       | 227/1000 [18:00<53:08,  4.13s/it]"
     ]
    },
    {
     "name": "stderr",
     "output_type": "stream",
     "text": [
      "\r",
      " 23%|██▎       | 230/1000 [18:07<44:24,  3.46s/it]"
     ]
    },
    {
     "name": "stderr",
     "output_type": "stream",
     "text": [
      "\r",
      " 23%|██▎       | 233/1000 [18:15<41:07,  3.22s/it]"
     ]
    },
    {
     "name": "stderr",
     "output_type": "stream",
     "text": [
      "\r",
      " 24%|██▎       | 235/1000 [18:22<42:19,  3.32s/it]"
     ]
    },
    {
     "name": "stderr",
     "output_type": "stream",
     "text": [
      "\r",
      " 24%|██▎       | 236/1000 [18:31<53:24,  4.19s/it]"
     ]
    },
    {
     "name": "stderr",
     "output_type": "stream",
     "text": [
      "\r",
      " 24%|██▎       | 237/1000 [18:38<59:12,  4.66s/it]"
     ]
    },
    {
     "name": "stderr",
     "output_type": "stream",
     "text": [
      "\r",
      " 24%|██▍       | 239/1000 [18:49<1:01:37,  4.86s/it]"
     ]
    },
    {
     "name": "stderr",
     "output_type": "stream",
     "text": [
      "\r",
      " 24%|██▍       | 243/1000 [18:57<44:04,  3.49s/it]  "
     ]
    },
    {
     "name": "stderr",
     "output_type": "stream",
     "text": [
      "\r",
      " 24%|██▍       | 244/1000 [19:05<53:03,  4.21s/it]"
     ]
    },
    {
     "name": "stderr",
     "output_type": "stream",
     "text": [
      "\r",
      " 25%|██▍       | 247/1000 [19:11<41:28,  3.30s/it]"
     ]
    },
    {
     "name": "stderr",
     "output_type": "stream",
     "text": [
      "\r",
      " 25%|██▍       | 248/1000 [19:21<54:06,  4.32s/it]"
     ]
    },
    {
     "name": "stderr",
     "output_type": "stream",
     "text": [
      "\r",
      " 25%|██▌       | 250/1000 [19:29<52:16,  4.18s/it]"
     ]
    },
    {
     "name": "stderr",
     "output_type": "stream",
     "text": [
      "\r",
      " 25%|██▌       | 252/1000 [19:37<52:48,  4.24s/it]"
     ]
    },
    {
     "name": "stderr",
     "output_type": "stream",
     "text": [
      "\r",
      " 25%|██▌       | 253/1000 [19:44<57:12,  4.60s/it]"
     ]
    },
    {
     "name": "stderr",
     "output_type": "stream",
     "text": [
      "\r",
      " 25%|██▌       | 254/1000 [19:51<1:05:08,  5.24s/it]"
     ]
    },
    {
     "name": "stderr",
     "output_type": "stream",
     "text": [
      "\r",
      " 26%|██▌       | 255/1000 [19:52<52:26,  4.22s/it]  "
     ]
    },
    {
     "name": "stderr",
     "output_type": "stream",
     "text": [
      "\r",
      " 26%|██▌       | 256/1000 [19:59<1:00:36,  4.89s/it]"
     ]
    },
    {
     "name": "stderr",
     "output_type": "stream",
     "text": [
      "\r",
      " 26%|██▌       | 260/1000 [20:14<51:45,  4.20s/it]  "
     ]
    },
    {
     "name": "stderr",
     "output_type": "stream",
     "text": [
      "\r",
      " 26%|██▌       | 262/1000 [20:25<57:21,  4.66s/it]"
     ]
    },
    {
     "name": "stderr",
     "output_type": "stream",
     "text": [
      "\r",
      " 26%|██▋       | 263/1000 [20:34<1:05:01,  5.29s/it]"
     ]
    },
    {
     "name": "stderr",
     "output_type": "stream",
     "text": [
      "\r",
      " 26%|██▋       | 265/1000 [20:41<57:18,  4.68s/it]  "
     ]
    },
    {
     "name": "stderr",
     "output_type": "stream",
     "text": [
      "\r",
      " 27%|██▋       | 271/1000 [20:49<33:19,  2.74s/it]"
     ]
    },
    {
     "name": "stderr",
     "output_type": "stream",
     "text": [
      "\r",
      " 27%|██▋       | 272/1000 [20:56<39:35,  3.26s/it]"
     ]
    },
    {
     "name": "stderr",
     "output_type": "stream",
     "text": [
      "\r",
      " 28%|██▊       | 275/1000 [21:04<37:04,  3.07s/it]"
     ]
    },
    {
     "name": "stderr",
     "output_type": "stream",
     "text": [
      "\r",
      " 29%|██▉       | 288/1000 [21:11<15:53,  1.34s/it]"
     ]
    },
    {
     "name": "stderr",
     "output_type": "stream",
     "text": [
      "\r",
      " 29%|██▉       | 289/1000 [21:18<20:40,  1.74s/it]"
     ]
    },
    {
     "name": "stderr",
     "output_type": "stream",
     "text": [
      "\r",
      " 30%|██▉       | 295/1000 [21:25<17:46,  1.51s/it]"
     ]
    },
    {
     "name": "stderr",
     "output_type": "stream",
     "text": [
      "\r",
      " 30%|██▉       | 298/1000 [21:31<19:09,  1.64s/it]"
     ]
    },
    {
     "name": "stderr",
     "output_type": "stream",
     "text": [
      "\r",
      " 30%|███       | 300/1000 [21:39<23:45,  2.04s/it]"
     ]
    },
    {
     "name": "stderr",
     "output_type": "stream",
     "text": [
      "\r",
      " 30%|███       | 305/1000 [21:47<21:57,  1.90s/it]"
     ]
    },
    {
     "name": "stderr",
     "output_type": "stream",
     "text": [
      "\r",
      " 31%|███       | 307/1000 [21:55<25:57,  2.25s/it]"
     ]
    },
    {
     "name": "stderr",
     "output_type": "stream",
     "text": [
      "\r",
      " 31%|███       | 308/1000 [22:03<33:39,  2.92s/it]"
     ]
    },
    {
     "name": "stderr",
     "output_type": "stream",
     "text": [
      "\r",
      " 31%|███       | 309/1000 [22:17<50:13,  4.36s/it]"
     ]
    },
    {
     "name": "stderr",
     "output_type": "stream",
     "text": [
      "\r",
      " 31%|███       | 310/1000 [22:37<1:19:17,  6.89s/it]"
     ]
    },
    {
     "name": "stderr",
     "output_type": "stream",
     "text": [
      "\r",
      " 31%|███       | 311/1000 [22:46<1:25:40,  7.46s/it]"
     ]
    },
    {
     "name": "stderr",
     "output_type": "stream",
     "text": [
      "\r",
      " 32%|███▏      | 316/1000 [22:59<52:45,  4.63s/it]  "
     ]
    },
    {
     "name": "stderr",
     "output_type": "stream",
     "text": [
      "\r",
      " 32%|███▏      | 319/1000 [23:06<43:52,  3.87s/it]"
     ]
    },
    {
     "name": "stderr",
     "output_type": "stream",
     "text": [
      "\r",
      " 34%|███▎      | 335/1000 [23:14<16:08,  1.46s/it]"
     ]
    },
    {
     "name": "stderr",
     "output_type": "stream",
     "text": [
      "\r",
      " 34%|███▍      | 340/1000 [23:30<20:28,  1.86s/it]"
     ]
    },
    {
     "name": "stderr",
     "output_type": "stream",
     "text": [
      "\r",
      " 34%|███▍      | 344/1000 [23:48<26:46,  2.45s/it]"
     ]
    },
    {
     "name": "stderr",
     "output_type": "stream",
     "text": [
      "\r",
      " 35%|███▌      | 352/1000 [24:04<24:40,  2.28s/it]"
     ]
    },
    {
     "name": "stderr",
     "output_type": "stream",
     "text": [
      "\r",
      " 36%|███▌      | 358/1000 [24:29<30:18,  2.83s/it]"
     ]
    },
    {
     "name": "stderr",
     "output_type": "stream",
     "text": [
      "\r",
      " 36%|███▌      | 359/1000 [24:38<34:04,  3.19s/it]"
     ]
    },
    {
     "name": "stderr",
     "output_type": "stream",
     "text": [
      "\r",
      " 36%|███▌      | 360/1000 [24:48<40:39,  3.81s/it]"
     ]
    },
    {
     "name": "stderr",
     "output_type": "stream",
     "text": [
      "\r",
      " 36%|███▌      | 362/1000 [24:58<43:19,  4.07s/it]"
     ]
    },
    {
     "name": "stderr",
     "output_type": "stream",
     "text": [
      "\r",
      " 36%|███▋      | 364/1000 [25:13<51:01,  4.81s/it]"
     ]
    },
    {
     "name": "stderr",
     "output_type": "stream",
     "text": [
      "\r",
      " 37%|███▋      | 373/1000 [25:28<30:40,  2.94s/it]"
     ]
    },
    {
     "name": "stderr",
     "output_type": "stream",
     "text": [
      "\r",
      " 38%|███▊      | 379/1000 [25:44<29:23,  2.84s/it]"
     ]
    },
    {
     "name": "stderr",
     "output_type": "stream",
     "text": [
      "\r",
      " 38%|███▊      | 383/1000 [26:04<35:15,  3.43s/it]"
     ]
    },
    {
     "name": "stderr",
     "output_type": "stream",
     "text": [
      "\r",
      " 38%|███▊      | 384/1000 [26:06<33:53,  3.30s/it]"
     ]
    },
    {
     "name": "stderr",
     "output_type": "stream",
     "text": [
      "\r",
      " 38%|███▊      | 385/1000 [26:25<50:22,  4.92s/it]"
     ]
    },
    {
     "name": "stderr",
     "output_type": "stream",
     "text": [
      "\r",
      " 39%|███▊      | 386/1000 [26:33<55:06,  5.39s/it]"
     ]
    },
    {
     "name": "stderr",
     "output_type": "stream",
     "text": [
      "\r",
      " 39%|███▊      | 387/1000 [26:39<55:44,  5.46s/it]"
     ]
    },
    {
     "name": "stderr",
     "output_type": "stream",
     "text": [
      "\r",
      " 39%|███▉      | 388/1000 [26:48<1:01:26,  6.02s/it]"
     ]
    },
    {
     "name": "stderr",
     "output_type": "stream",
     "text": [
      "\r",
      " 39%|███▉      | 391/1000 [26:58<49:33,  4.88s/it]  "
     ]
    },
    {
     "name": "stderr",
     "output_type": "stream",
     "text": [
      "\r",
      " 39%|███▉      | 393/1000 [27:05<45:16,  4.48s/it]"
     ]
    },
    {
     "name": "stderr",
     "output_type": "stream",
     "text": [
      "\r",
      " 40%|████      | 402/1000 [27:19<25:52,  2.60s/it]"
     ]
    },
    {
     "name": "stderr",
     "output_type": "stream",
     "text": [
      "\r",
      " 40%|████      | 404/1000 [27:28<28:32,  2.87s/it]"
     ]
    },
    {
     "name": "stderr",
     "output_type": "stream",
     "text": [
      "\r",
      " 41%|████      | 408/1000 [27:35<24:46,  2.51s/it]"
     ]
    },
    {
     "name": "stderr",
     "output_type": "stream",
     "text": [
      "\r",
      " 41%|████      | 409/1000 [27:42<29:56,  3.04s/it]"
     ]
    },
    {
     "name": "stderr",
     "output_type": "stream",
     "text": [
      "\r",
      " 42%|████▏     | 418/1000 [27:49<16:38,  1.72s/it]"
     ]
    },
    {
     "name": "stderr",
     "output_type": "stream",
     "text": [
      "\r",
      " 44%|████▎     | 435/1000 [27:56<08:40,  1.08it/s]"
     ]
    },
    {
     "name": "stderr",
     "output_type": "stream",
     "text": [
      "\r",
      " 44%|████▍     | 439/1000 [28:03<09:54,  1.06s/it]"
     ]
    },
    {
     "name": "stderr",
     "output_type": "stream",
     "text": [
      "\r",
      " 44%|████▍     | 440/1000 [28:09<12:47,  1.37s/it]"
     ]
    },
    {
     "name": "stderr",
     "output_type": "stream",
     "text": [
      "\r",
      " 44%|████▍     | 442/1000 [28:23<20:04,  2.16s/it]"
     ]
    },
    {
     "name": "stderr",
     "output_type": "stream",
     "text": [
      "\r",
      " 45%|████▍     | 446/1000 [28:24<14:17,  1.55s/it]"
     ]
    },
    {
     "name": "stderr",
     "output_type": "stream",
     "text": [
      "\r",
      " 45%|████▍     | 446/1000 [28:35<14:17,  1.55s/it]"
     ]
    },
    {
     "name": "stderr",
     "output_type": "stream",
     "text": [
      "\r",
      " 45%|████▍     | 448/1000 [28:39<23:47,  2.59s/it]"
     ]
    },
    {
     "name": "stderr",
     "output_type": "stream",
     "text": [
      "\r",
      " 46%|████▌     | 461/1000 [28:48<13:00,  1.45s/it]"
     ]
    },
    {
     "name": "stderr",
     "output_type": "stream",
     "text": [
      "\r",
      " 49%|████▉     | 492/1000 [29:01<06:18,  1.34it/s]"
     ]
    },
    {
     "name": "stderr",
     "output_type": "stream",
     "text": [
      "\r",
      " 51%|█████     | 509/1000 [29:26<08:10,  1.00it/s]"
     ]
    },
    {
     "name": "stderr",
     "output_type": "stream",
     "text": [
      "\r",
      " 52%|█████▏    | 515/1000 [29:37<09:04,  1.12s/it]"
     ]
    },
    {
     "name": "stderr",
     "output_type": "stream",
     "text": [
      "\r",
      " 52%|█████▎    | 525/1000 [29:58<10:56,  1.38s/it]"
     ]
    },
    {
     "name": "stderr",
     "output_type": "stream",
     "text": [
      "\r",
      " 53%|█████▎    | 526/1000 [30:06<12:36,  1.60s/it]"
     ]
    },
    {
     "name": "stderr",
     "output_type": "stream",
     "text": [
      "\r",
      " 53%|█████▎    | 527/1000 [30:16<15:53,  2.02s/it]"
     ]
    },
    {
     "name": "stderr",
     "output_type": "stream",
     "text": [
      "\r",
      " 55%|█████▌    | 553/1000 [30:31<08:07,  1.09s/it]"
     ]
    },
    {
     "name": "stderr",
     "output_type": "stream",
     "text": [
      "\r",
      " 56%|█████▌    | 562/1000 [30:57<11:12,  1.54s/it]"
     ]
    },
    {
     "name": "stderr",
     "output_type": "stream",
     "text": [
      "\r",
      " 56%|█████▋    | 563/1000 [31:00<11:37,  1.60s/it]"
     ]
    },
    {
     "name": "stderr",
     "output_type": "stream",
     "text": [
      "\r",
      " 57%|█████▋    | 568/1000 [31:15<13:25,  1.87s/it]"
     ]
    },
    {
     "name": "stderr",
     "output_type": "stream",
     "text": [
      "\r",
      " 61%|██████    | 606/1000 [31:15<03:45,  1.75it/s]"
     ]
    },
    {
     "name": "stderr",
     "output_type": "stream",
     "text": [
      "\r",
      " 61%|██████    | 606/1000 [31:49<03:45,  1.75it/s]"
     ]
    },
    {
     "name": "stderr",
     "output_type": "stream",
     "text": [
      "\r",
      " 63%|██████▎   | 629/1000 [31:49<05:38,  1.10it/s]"
     ]
    },
    {
     "name": "stderr",
     "output_type": "stream",
     "text": [
      "\r",
      " 64%|██████▍   | 644/1000 [32:00<05:08,  1.16it/s]"
     ]
    },
    {
     "name": "stderr",
     "output_type": "stream",
     "text": [
      "\r",
      " 65%|██████▍   | 649/1000 [32:12<06:04,  1.04s/it]"
     ]
    },
    {
     "name": "stderr",
     "output_type": "stream",
     "text": [
      "\r",
      " 65%|██████▌   | 650/1000 [32:16<06:35,  1.13s/it]"
     ]
    },
    {
     "name": "stderr",
     "output_type": "stream",
     "text": [
      "\r",
      " 65%|██████▌   | 650/1000 [32:27<06:35,  1.13s/it]"
     ]
    },
    {
     "name": "stderr",
     "output_type": "stream",
     "text": [
      "\r",
      " 67%|██████▋   | 669/1000 [32:30<05:10,  1.07it/s]"
     ]
    },
    {
     "name": "stderr",
     "output_type": "stream",
     "text": [
      "\r",
      " 68%|██████▊   | 676/1000 [32:40<05:34,  1.03s/it]"
     ]
    },
    {
     "name": "stderr",
     "output_type": "stream",
     "text": [
      "\r",
      " 73%|███████▎  | 728/1000 [32:40<01:32,  2.93it/s]"
     ]
    },
    {
     "name": "stderr",
     "output_type": "stream",
     "text": [
      "\r",
      " 77%|███████▋  | 770/1000 [32:40<00:44,  5.17it/s]"
     ]
    },
    {
     "name": "stderr",
     "output_type": "stream",
     "text": [
      "\r",
      " 81%|████████  | 807/1000 [32:40<00:24,  7.95it/s]"
     ]
    },
    {
     "name": "stderr",
     "output_type": "stream",
     "text": [
      "\r",
      " 84%|████████▍ | 838/1000 [32:49<00:29,  5.57it/s]"
     ]
    },
    {
     "name": "stderr",
     "output_type": "stream",
     "text": [
      "\r",
      " 86%|████████▌ | 860/1000 [32:58<00:32,  4.31it/s]"
     ]
    },
    {
     "name": "stderr",
     "output_type": "stream",
     "text": [
      "\r",
      " 90%|████████▉ | 899/1000 [32:58<00:14,  6.79it/s]"
     ]
    },
    {
     "name": "stderr",
     "output_type": "stream",
     "text": [
      "\r",
      " 94%|█████████▍| 938/1000 [32:59<00:06, 10.29it/s]"
     ]
    },
    {
     "name": "stderr",
     "output_type": "stream",
     "text": [
      "\r",
      " 98%|█████████▊| 981/1000 [32:59<00:01, 15.69it/s]"
     ]
    },
    {
     "name": "stderr",
     "output_type": "stream",
     "text": [
      "\r",
      "100%|██████████| 1000/1000 [32:59<00:00,  1.98s/it]"
     ]
    },
    {
     "name": "stderr",
     "output_type": "stream",
     "text": [
      "\n"
     ]
    }
   ],
   "source": [
    "do_plot = False\n",
    "do_generate = True\n",
    "\n",
    "if do_generate==True:\n",
    "    for s in tqdm( np.random.permutation(np.arange(n)) ):\n",
    "        sub = df['subID'].values[s]\n",
    "        \n",
    "        td_sphere1 = df['td_sphere_1'].values[s+n]\n",
    "        td_sphere2 = df['td_sphere_2'].values[s+n]\n",
    "        td_sphere_loc = eval(df['loc_tx_td'].values[s+n])\n",
    "        \n",
    "        \n",
    "        adhd_sphere1 = df['adhd_sphere_1'].values[s]\n",
    "        adhd_sphere2 = df['adhd_sphere_2'].values[s]\n",
    "        adhd_sphere_loc = eval(df['loc_tx_adhd'].values[s])\n",
    "        \n",
    "        ofn_adhd = df['path'].values[s]\n",
    "        ofn_td = df['path'].values[s+n]\n",
    "        \n",
    "        if not (os.path.exists(ofn_adhd) and os.path.exists(ofn_td)):\n",
    "            \n",
    "            TD_brain = do_selective_tx(temp,coords = td_sphere_loc,sz1=td_sphere1,sz2=td_sphere2,do_plot=False,tmp_dir=tmp_dir)\n",
    "            ADHD_brain = do_selective_tx(TD_brain,coords = adhd_sphere_loc,sz1=adhd_sphere1,sz2=adhd_sphere2,do_plot=False,tmp_dir=tmp_dir)\n",
    "            \n",
    "            TD_brain.to_filename(ofn_td)\n",
    "            ADHD_brain.to_filename(ofn_adhd)\n",
    "            \n",
    "            if do_plot==True:\n",
    "                temp.plot_ortho(flat=True,title='template')\n",
    "                TD_brain.plot_ortho(flat=True,title='TD')\n",
    "                ADHD_brain.plot_ortho(flat=True,title='ADHD')\n",
    "            \n",
    "                print((adhd_sphere1,adhd_sphere2,adhd_sphere_loc))\n",
    "                print((td_sphere1,td_sphere2,td_sphere_loc))"
   ]
  },
  {
   "cell_type": "code",
   "execution_count": 15,
   "id": "1e41c4b6-8a95-4c29-a7ca-6f4b8a894a39",
   "metadata": {
    "papermill": {
     "duration": 0.595064,
     "end_time": "2023-10-23T17:30:14.350627",
     "exception": false,
     "start_time": "2023-10-23T17:30:13.755563",
     "status": "completed"
    },
    "tags": []
   },
   "outputs": [],
   "source": [
    "shutil.rmtree(tmp_dir)"
   ]
  },
  {
   "cell_type": "code",
   "execution_count": null,
   "id": "cf23e3e0-0c5b-4a90-99cd-c4b4121956c4",
   "metadata": {
    "papermill": {
     "duration": 0.013814,
     "end_time": "2023-10-23T17:30:14.380185",
     "exception": false,
     "start_time": "2023-10-23T17:30:14.366371",
     "status": "completed"
    },
    "tags": []
   },
   "outputs": [],
   "source": []
  },
  {
   "cell_type": "code",
   "execution_count": null,
   "id": "0120f820-34d0-441a-81dd-8264c1efe786",
   "metadata": {
    "papermill": {
     "duration": 0.013619,
     "end_time": "2023-10-23T17:30:14.407443",
     "exception": false,
     "start_time": "2023-10-23T17:30:14.393824",
     "status": "completed"
    },
    "tags": []
   },
   "outputs": [],
   "source": []
  },
  {
   "cell_type": "markdown",
   "id": "f47a805d-dddb-4d2e-beb6-81c3d7e313a8",
   "metadata": {
    "papermill": {
     "duration": 0.01376,
     "end_time": "2023-10-23T17:30:14.520695",
     "exception": false,
     "start_time": "2023-10-23T17:30:14.506935",
     "status": "completed"
    },
    "tags": []
   },
   "source": [
    "## Load Training data"
   ]
  },
  {
   "cell_type": "code",
   "execution_count": 18,
   "id": "8070be53-519b-4613-a5d4-550cd26ebfd4",
   "metadata": {
    "papermill": {
     "duration": 0.019282,
     "end_time": "2023-10-23T17:30:14.553682",
     "exception": false,
     "start_time": "2023-10-23T17:30:14.534400",
     "status": "completed"
    },
    "tags": []
   },
   "outputs": [
    {
     "name": "stdout",
     "output_type": "stream",
     "text": [
      "(500, 64, 64, 64)\n",
      "(500, 64, 64, 64)\n",
      "CPU times: user 6.06 s, sys: 1.05 s, total: 7.11 s\n",
      "Wall time: 8.91 s\n"
     ]
    }
   ],
   "source": [
    "%%time\n",
    "#n = 1000\n",
    "data_td = np.array([ants.image_read(f'../{ofdir}/ims/TD-sub-{s:04d}.nii.gz').numpy() for s in range(n)])\n",
    "data_adhd = np.array([ants.image_read(f'../{ofdir}/ims/ADHD-sub-{s:04d}.nii.gz').numpy() for s in range(n)])\n",
    "print(data_td.shape)\n",
    "print(data_adhd.shape)"
   ]
  },
  {
   "cell_type": "code",
   "execution_count": 19,
   "id": "8004bd11-4a23-4b1b-87ca-ad682bf4e761",
   "metadata": {
    "papermill": {
     "duration": 0.019266,
     "end_time": "2023-10-23T17:30:14.586652",
     "exception": false,
     "start_time": "2023-10-23T17:30:14.567386",
     "status": "completed"
    },
    "tags": []
   },
   "outputs": [],
   "source": [
    "np.save(file=f'../{ofdir}/data.npy',arr=np.concatenate((data_adhd,data_td),axis=0))"
   ]
  },
  {
   "cell_type": "code",
   "execution_count": null,
   "id": "26bf778c-26e3-40e5-bdcf-a3f343966b31",
   "metadata": {},
   "outputs": [],
   "source": [
    "# data = np.concatenate((data_adhd,data_td),axis=0)\n",
    "# new_idx = np.hstack((np.arange(0,500),np.arange(0+1000,500+1000)))\n",
    "# df2 = df.iloc[new_idx]\n",
    "# data2 = data[new_idx,:,:,:]\n",
    "\n",
    "# df2.to_csv('../Data/synth-data-03-N1000.csv')\n",
    "# np.save(file='../Data/synth-data-03-N1000.npy', arr=data2)"
   ]
  },
  {
   "cell_type": "code",
   "execution_count": null,
   "id": "901727ba-6d52-4b7e-97f2-e96b33c6b8e9",
   "metadata": {},
   "outputs": [],
   "source": []
  },
  {
   "cell_type": "code",
   "execution_count": null,
   "id": "062b8cf5-034a-46ba-99e2-acc1d6b7c723",
   "metadata": {},
   "outputs": [],
   "source": []
  },
  {
   "cell_type": "code",
   "execution_count": null,
   "id": "25e23efe-c2ec-4584-b77b-648cb984c702",
   "metadata": {
    "papermill": {
     "duration": 0.019212,
     "end_time": "2023-10-23T17:30:14.619646",
     "exception": false,
     "start_time": "2023-10-23T17:30:14.600434",
     "status": "completed"
    },
    "tags": []
   },
   "outputs": [],
   "source": [
    "# data = np.load(file='../Data/synth-data-02.npy')"
   ]
  },
  {
   "cell_type": "code",
   "execution_count": null,
   "id": "ce2f36a5-b71a-42f2-b8a3-a1407340c26c",
   "metadata": {
    "papermill": {
     "duration": 0.019513,
     "end_time": "2023-10-23T17:30:14.653082",
     "exception": false,
     "start_time": "2023-10-23T17:30:14.633569",
     "status": "completed"
    },
    "tags": []
   },
   "outputs": [],
   "source": [
    "# deform_adhd = np.load('../synth-data-02/tx_log_adhd2.npy')\n",
    "# deform_td = np.load('../synth-data-02/tx_log_td2.npy')\n",
    "# subtype = np.load('../synth-data-02/tx_log_subtype2.npy')"
   ]
  },
  {
   "cell_type": "code",
   "execution_count": null,
   "id": "2f3066c5-7f6a-40e6-ae4b-67b0548e96e4",
   "metadata": {
    "papermill": {
     "duration": 0.019495,
     "end_time": "2023-10-23T17:30:14.686557",
     "exception": false,
     "start_time": "2023-10-23T17:30:14.667062",
     "status": "completed"
    },
    "tags": []
   },
   "outputs": [],
   "source": [
    "# np.savez(file='../Data/data-subtypes-2-v1.npy',data=data,deform_adhd=deform_adhd,deform_td=deform_td,subtype=subtype)"
   ]
  },
  {
   "cell_type": "code",
   "execution_count": null,
   "id": "f437c89e-2446-4f82-b476-07d959bd87a7",
   "metadata": {
    "papermill": {
     "duration": 0.019482,
     "end_time": "2023-10-23T17:30:14.719809",
     "exception": false,
     "start_time": "2023-10-23T17:30:14.700327",
     "status": "completed"
    },
    "tags": []
   },
   "outputs": [],
   "source": [
    "# df = pd.DataFrame()\n",
    "# df['subID'] = np.hstack( ([f'sub-{s:04d}' for s in range(n)],[f'sub-{s:04d}' for s in range(n)]) )\n",
    "# df['dx'] = np.hstack( (np.repeat(1,n),np.repeat(0,n)) )\n",
    "# df['subtype'] = np.hstack((np.array([np.mod(s,2)+1 for s in range(n)]),np.zeros(n))).astype(int)\n",
    "# df['path'] = np.hstack( ([f'../synth-data-02/ADHD-sub-{s:04d}.nii.gz' for s in range(n)] , [f'../synth-data-01/TD-sub-{s:04d}.nii.gz' for s in range(n)]) )\n",
    "# df['td_sphere_1'] = np.hstack( (deform_td[:,0],deform_td[:,0]) )\n",
    "# df['td_sphere_2'] = np.hstack( (deform_td[:,1],deform_td[:,1]) )\n",
    "# df['adhd_sphere_1'] = np.hstack( (deform_adhd[:,0],np.repeat(0,n)) )\n",
    "# df['adhd_sphere_2'] = np.hstack( (deform_adhd[:,1],np.repeat(0,n)) )\n",
    "# df['td_tx'] = df['td_sphere_1']-df['td_sphere_2']\n",
    "# df['adhd_tx'] = df['adhd_sphere_1']-df['adhd_sphere_2']\n",
    "# #df[''] = np.hstack( (,) )\n",
    "# #df[''] = np.hstack( (,) )\n",
    "# df"
   ]
  },
  {
   "cell_type": "code",
   "execution_count": null,
   "id": "84fb991c-b6c5-4ee5-a9cb-fa46a9986117",
   "metadata": {
    "papermill": {
     "duration": 0.019302,
     "end_time": "2023-10-23T17:30:14.753075",
     "exception": false,
     "start_time": "2023-10-23T17:30:14.733773",
     "status": "completed"
    },
    "tags": []
   },
   "outputs": [],
   "source": [
    "# df.to_csv('../Data/synth-data-02.csv')"
   ]
  },
  {
   "cell_type": "code",
   "execution_count": null,
   "id": "9ddefae5-9be4-4cc8-aea5-1c2ec4c40036",
   "metadata": {
    "papermill": {
     "duration": 0.01388,
     "end_time": "2023-10-23T17:30:14.780784",
     "exception": false,
     "start_time": "2023-10-23T17:30:14.766904",
     "status": "completed"
    },
    "tags": []
   },
   "outputs": [],
   "source": []
  },
  {
   "cell_type": "code",
   "execution_count": null,
   "id": "2e3549f2-3a03-4567-b837-3b0a32c7365c",
   "metadata": {
    "papermill": {
     "duration": 0.014075,
     "end_time": "2023-10-23T17:30:14.808769",
     "exception": false,
     "start_time": "2023-10-23T17:30:14.794694",
     "status": "completed"
    },
    "tags": []
   },
   "outputs": [],
   "source": []
  },
  {
   "cell_type": "code",
   "execution_count": null,
   "id": "029500ac-bd22-4089-ae25-3e311c0d2476",
   "metadata": {
    "papermill": {
     "duration": 0.019139,
     "end_time": "2023-10-23T17:30:14.841772",
     "exception": false,
     "start_time": "2023-10-23T17:30:14.822633",
     "status": "completed"
    },
    "tags": []
   },
   "outputs": [],
   "source": [
    "# data_adhd_flat = data_adhd.reshape(n,-1)\n",
    "# idx = np.arange(n)\n",
    "# idx = np.arange(1,n,2)\n",
    "# data_adhd_flat = data_adhd_flat[idx]"
   ]
  },
  {
   "cell_type": "code",
   "execution_count": null,
   "id": "86295a7b-a611-4e6e-93fc-9d692d3abc21",
   "metadata": {
    "papermill": {
     "duration": 0.019287,
     "end_time": "2023-10-23T17:30:14.875207",
     "exception": false,
     "start_time": "2023-10-23T17:30:14.855920",
     "status": "completed"
    },
    "tags": []
   },
   "outputs": [],
   "source": [
    "# data_adhd_pca = PCA(n_components=10).fit_transform(data_adhd_flat)\n",
    "# data_adhd_pca.shape"
   ]
  },
  {
   "cell_type": "code",
   "execution_count": null,
   "id": "5f89a114-0b1d-481d-8c0c-417982c8b6a3",
   "metadata": {
    "papermill": {
     "duration": 0.019309,
     "end_time": "2023-10-23T17:30:14.908530",
     "exception": false,
     "start_time": "2023-10-23T17:30:14.889221",
     "status": "completed"
    },
    "tags": []
   },
   "outputs": [],
   "source": [
    "# rdm_pca = make_RDM(data_adhd_pca, data_scale='ratio', metric='euclidean')\n",
    "# rdm_pca.shape"
   ]
  },
  {
   "cell_type": "code",
   "execution_count": null,
   "id": "f4db0782-0c7c-41d2-97dc-3ca13d591204",
   "metadata": {
    "papermill": {
     "duration": 0.01932,
     "end_time": "2023-10-23T17:30:14.941887",
     "exception": false,
     "start_time": "2023-10-23T17:30:14.922567",
     "status": "completed"
    },
    "tags": []
   },
   "outputs": [],
   "source": [
    "# rdm_s = make_RDM(df.iloc[df['dx'].values==1]['adhd_tx'].values[idx],data_scale='ratio', metric='euclidean')\n",
    "# rdm_z = make_RDM(df.iloc[df['dx'].values==1]['td_tx'].values[idx],data_scale='ratio', metric='euclidean')\n",
    "# rdm_z.shape"
   ]
  },
  {
   "cell_type": "code",
   "execution_count": null,
   "id": "b8a02341-d339-45c1-9167-ea73eec263e8",
   "metadata": {
    "papermill": {
     "duration": 0.019474,
     "end_time": "2023-10-23T17:30:14.975517",
     "exception": false,
     "start_time": "2023-10-23T17:30:14.956043",
     "status": "completed"
    },
    "tags": []
   },
   "outputs": [],
   "source": [
    "# plt.figure(figsize=(15,5))\n",
    "# plt.subplot(1,3,1);plt.imshow(rdm_pca)\n",
    "# plt.subplot(1,3,2);plt.imshow(rdm_s)\n",
    "# plt.subplot(1,3,3);plt.imshow(rdm_z)"
   ]
  },
  {
   "cell_type": "code",
   "execution_count": null,
   "id": "1414bc50-ebd5-4ef9-b75d-67c894463cce",
   "metadata": {
    "papermill": {
     "duration": 0.019469,
     "end_time": "2023-10-23T17:30:15.009077",
     "exception": false,
     "start_time": "2023-10-23T17:30:14.989608",
     "status": "completed"
    },
    "tags": []
   },
   "outputs": [],
   "source": [
    "# xs = [0,1]\n",
    "# ys = [fit_rsa(rdm_pca,rdm_z),fit_rsa(rdm_pca,rdm_s)]\n",
    "# plt.bar(xs,ys)\n",
    "# plt.title('RSA fit: PCA')\n",
    "# plt.xticks(xs,['TD/ADHD\\nCommon Tx','ADHD\\nspecific TX'])"
   ]
  },
  {
   "cell_type": "code",
   "execution_count": null,
   "id": "a6b8971a-11c4-4726-938e-e77ac6bc3797",
   "metadata": {
    "papermill": {
     "duration": 0.013978,
     "end_time": "2023-10-23T17:30:15.037132",
     "exception": false,
     "start_time": "2023-10-23T17:30:15.023154",
     "status": "completed"
    },
    "tags": []
   },
   "outputs": [],
   "source": []
  },
  {
   "cell_type": "code",
   "execution_count": null,
   "id": "9c1994b8-596d-4135-8066-d563cc926615",
   "metadata": {
    "papermill": {
     "duration": 0.019606,
     "end_time": "2023-10-23T17:30:15.070874",
     "exception": false,
     "start_time": "2023-10-23T17:30:15.051268",
     "status": "completed"
    },
    "tags": []
   },
   "outputs": [],
   "source": [
    "# null_rdm_z = [fit_rsa(rdm_pca,make_RDM(np.random.permutation(df.iloc[df['dx'].values==1]['td_tx'].values[idx]),data_scale='ratio', metric='euclidean')) for _ in range(100)]\n",
    "# plt.hist(null_rdm_z)\n",
    "# yticks = plt.yticks()\n",
    "# v_xs = (fit_rsa(rdm_pca,rdm_z),fit_rsa(rdm_pca,rdm_z))\n",
    "# v_ys = (yticks[0].min(),yticks[0].max())\n",
    "# plt.plot(v_xs,v_ys,)\n",
    "# plt.legend(['effect','null'])\n",
    "# plt.title('Permutation test\\n Shared TX RSA')"
   ]
  },
  {
   "cell_type": "code",
   "execution_count": null,
   "id": "089278f4-fe6f-4f3c-ba06-90ebd1a4abf2",
   "metadata": {
    "papermill": {
     "duration": 0.019632,
     "end_time": "2023-10-23T17:30:15.104689",
     "exception": false,
     "start_time": "2023-10-23T17:30:15.085057",
     "status": "completed"
    },
    "tags": []
   },
   "outputs": [],
   "source": [
    "# null_rdm_s = [fit_rsa(rdm_pca,make_RDM(np.random.permutation(df.iloc[df['dx'].values==1]['adhd_tx'].values[idx]),data_scale='ratio', metric='euclidean')) for _ in range(100)]\n",
    "# plt.hist(null_rdm_s)\n",
    "# yticks = plt.yticks()\n",
    "# v_xs = (fit_rsa(rdm_pca,rdm_s),fit_rsa(rdm_pca,rdm_s))\n",
    "# v_ys = (yticks[0].min(),yticks[0].max())\n",
    "# plt.plot(v_xs,v_ys,)\n",
    "# plt.legend(['effect','null'])\n",
    "# plt.title('Permutation test\\n Specific TX RSA')"
   ]
  },
  {
   "cell_type": "code",
   "execution_count": null,
   "id": "e7083895-f050-47fb-bb87-043ec97ab312",
   "metadata": {
    "papermill": {
     "duration": 0.014153,
     "end_time": "2023-10-23T17:30:15.132931",
     "exception": false,
     "start_time": "2023-10-23T17:30:15.118778",
     "status": "completed"
    },
    "tags": []
   },
   "outputs": [],
   "source": []
  },
  {
   "cell_type": "code",
   "execution_count": null,
   "id": "dea032e5-cbe8-4c28-81a1-989a8403b49c",
   "metadata": {
    "papermill": {
     "duration": 0.014178,
     "end_time": "2023-10-23T17:30:15.161283",
     "exception": false,
     "start_time": "2023-10-23T17:30:15.147105",
     "status": "completed"
    },
    "tags": []
   },
   "outputs": [],
   "source": []
  },
  {
   "cell_type": "code",
   "execution_count": null,
   "id": "0a67327f-19e5-4bb5-8e3c-15b95c463442",
   "metadata": {
    "papermill": {
     "duration": 0.014139,
     "end_time": "2023-10-23T17:30:15.189675",
     "exception": false,
     "start_time": "2023-10-23T17:30:15.175536",
     "status": "completed"
    },
    "tags": []
   },
   "outputs": [],
   "source": []
  },
  {
   "cell_type": "code",
   "execution_count": null,
   "id": "b678ebef-ce66-49cf-9281-982cc3968c7d",
   "metadata": {
    "papermill": {
     "duration": 0.014212,
     "end_time": "2023-10-23T17:30:15.218204",
     "exception": false,
     "start_time": "2023-10-23T17:30:15.203992",
     "status": "completed"
    },
    "tags": []
   },
   "outputs": [],
   "source": []
  },
  {
   "cell_type": "code",
   "execution_count": null,
   "id": "5f4c82da-e343-40e1-9856-ed02a3f8854f",
   "metadata": {
    "papermill": {
     "duration": 0.014095,
     "end_time": "2023-10-23T17:30:15.246404",
     "exception": false,
     "start_time": "2023-10-23T17:30:15.232309",
     "status": "completed"
    },
    "tags": []
   },
   "outputs": [],
   "source": []
  }
 ],
 "metadata": {
  "kernelspec": {
   "display_name": "Python 3 (ipykernel)",
   "language": "python",
   "name": "python3"
  },
  "language_info": {
   "codemirror_mode": {
    "name": "ipython",
    "version": 3
   },
   "file_extension": ".py",
   "mimetype": "text/x-python",
   "name": "python",
   "nbconvert_exporter": "python",
   "pygments_lexer": "ipython3",
   "version": "3.8.17"
  },
  "papermill": {
   "default_parameters": {},
   "duration": 2002.546813,
   "end_time": "2023-10-23T17:30:18.809605",
   "environment_variables": {},
   "exception": null,
   "input_path": "08-gen-datsa-subtypes.ipynb",
   "output_path": "08-gen-datsa-subtypes_2.ipynb",
   "parameters": {},
   "start_time": "2023-10-23T16:56:56.262792",
   "version": "2.3.3"
  }
 },
 "nbformat": 4,
 "nbformat_minor": 5
}
