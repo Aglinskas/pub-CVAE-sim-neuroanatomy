{
 "cells": [
  {
   "cell_type": "code",
   "execution_count": null,
   "id": "d7a46067-6691-43f5-ad00-0175bad881bc",
   "metadata": {},
   "outputs": [],
   "source": []
  },
  {
   "cell_type": "code",
   "execution_count": 1,
   "id": "e358399a-7eb7-4d4a-a057-465fd1c57244",
   "metadata": {},
   "outputs": [],
   "source": [
    "import numpy as np\n",
    "from scipy.spatial.distance import pdist\n",
    "from scipy.spatial.distance import squareform\n",
    "from scipy.stats import kendalltau\n",
    "\n",
    "def fit_rsa(rdm_data,rdm_model,metric='kendalltau'):\n",
    "    # Takes in two similarity matrices (n x n), has to be square, symmetrical, and either 1s or 0s on the diagonal\n",
    "    # vectorizes them \n",
    "    # Calculates a correlation between them\n",
    "    # returns r value (between -1 and 1)\n",
    "\n",
    "    if metric=='kendalltau':\n",
    "        #print('metric==kendalltau') \n",
    "        return kendalltau(get_triu(rdm_data),get_triu(rdm_model))[0]\n",
    "    elif metric=='pearsonr':\n",
    "        #print('metric==pearsonr') \n",
    "        return np.corrcoef(get_triu(rdm_data),get_triu(rdm_model))[0,1]\n",
    "    else:\n",
    "        print('not implemented, wtf')\n",
    "        return np.nan\n",
    "        \n",
    "def make_RDM(inVec,data_scale='ratio',metric='euclidean'):\n",
    "    # Makes an similarity matrix\n",
    "    # Takes in a data matrix (n x p), subjects as rows, and abitrary number of features \n",
    "    # Whether you give it a 5x2 or a 5x10000 matrix, will give back a 5x5 similarity matrix\n",
    "    # \n",
    "    vec = inVec # Takes whatever data you give it \n",
    "    vec = (vec - min(vec.flatten())) / (max(vec.flatten())-min(vec.flatten())) # Normalizes between 0 and 1\n",
    "    \n",
    "    if np.ndim(inVec)==1: # must be at least 2D\n",
    "        vec = np.vstack((vec,np.zeros(vec.shape))).transpose() # this is... just... magic. so beautiful. I mean really. \n",
    "        # ^ ok ok lemme explain \n",
    "        # pdist function below, works on >=2D data\n",
    "        # this is a hack in case you want to use it on 1D data\n",
    "        # in case you pass it a 1D vector, it adds a column of zeros\n",
    "        # which doesnt change the distances, \n",
    "                   \n",
    "    mat = squareform(pdist(vec,metric=metric).transpose()) # Takes in calcs the distances, turns into a dissimilarity matrix\n",
    "\n",
    "    if data_scale=='ordinal': # In case the data is ordinal, makes into a same or differnt matrix or ones and zeros\n",
    "        mat[mat!=0]=1 # Make into zeros and ones\n",
    "        \n",
    "    return mat\n",
    "\n",
    "def get_triu(inMat):\n",
    "    # Nifty function that takes in a similarity matrix (nxn) and vectorizes it (returns the upper triangle values)\n",
    "    \n",
    "    assert np.ndim(inMat)==2, 'not 2 dim, wtf' # Check if some dummy passed a nd array instead of a simmmat\n",
    "    assert inMat.shape[0]==inMat.shape[1], 'not a square' # make sure it's a square\n",
    "\n",
    "    n = inMat.shape[0]\n",
    "    triu_vec = inMat[np.triu_indices(n=n,k=1)] # Takes the upper triangle values\n",
    "    \n",
    "    return triu_vec"
   ]
  },
  {
   "cell_type": "code",
   "execution_count": null,
   "id": "95a6eac5-c757-406c-afd9-fe28aab3bd00",
   "metadata": {},
   "outputs": [],
   "source": []
  },
  {
   "cell_type": "code",
   "execution_count": 2,
   "id": "2ba637a0-717c-45ee-a7ac-7cf2291474b9",
   "metadata": {},
   "outputs": [],
   "source": [
    "latents_base_s = np.load('../Data/repl_latents/baseline-s.npy')\n",
    "latents_base_z = np.load('../Data/repl_latents/baseline-z.npy')\n",
    "\n",
    "latents_repl_s = np.load('../Data/repl_latents/repl-same-s.npy')\n",
    "latents_repl_z = np.load('../Data/repl_latents/repl-same-z.npy')"
   ]
  },
  {
   "cell_type": "code",
   "execution_count": 3,
   "id": "4da9f06a-020f-4185-88c0-e78d6c6bd802",
   "metadata": {},
   "outputs": [
    {
     "data": {
      "text/plain": [
       "(5, 20, 500, 2)"
      ]
     },
     "execution_count": 3,
     "metadata": {},
     "output_type": "execute_result"
    }
   ],
   "source": [
    "latents_repl_z.shape"
   ]
  },
  {
   "cell_type": "code",
   "execution_count": null,
   "id": "40c24127-1d60-4ef8-93a6-e9caceb995b6",
   "metadata": {},
   "outputs": [],
   "source": []
  },
  {
   "cell_type": "code",
   "execution_count": null,
   "id": "55dbd925-2005-4b4b-b160-a4ba3205d6f7",
   "metadata": {},
   "outputs": [],
   "source": []
  },
  {
   "cell_type": "code",
   "execution_count": null,
   "id": "b20ece84-e8bb-4a0a-9c06-e88d9ee3cdc8",
   "metadata": {},
   "outputs": [],
   "source": []
  },
  {
   "cell_type": "code",
   "execution_count": null,
   "id": "7d3a88ea-d035-48ff-897c-e64ebbe8594f",
   "metadata": {},
   "outputs": [],
   "source": []
  }
 ],
 "metadata": {
  "kernelspec": {
   "display_name": "Python 3 (ipykernel)",
   "language": "python",
   "name": "python3"
  },
  "language_info": {
   "codemirror_mode": {
    "name": "ipython",
    "version": 3
   },
   "file_extension": ".py",
   "mimetype": "text/x-python",
   "name": "python",
   "nbconvert_exporter": "python",
   "pygments_lexer": "ipython3",
   "version": "3.8.17"
  }
 },
 "nbformat": 4,
 "nbformat_minor": 5
}
