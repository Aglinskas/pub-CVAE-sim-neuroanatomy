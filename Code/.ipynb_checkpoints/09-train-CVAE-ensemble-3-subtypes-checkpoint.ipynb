{
 "cells": [
  {
   "cell_type": "code",
   "execution_count": 2,
   "id": "d9ab4a27-3705-44ab-be6a-66ad05f604b7",
   "metadata": {
    "papermill": {
     "duration": 0.146635,
     "end_time": "2023-12-13T18:08:50.854666",
     "exception": false,
     "start_time": "2023-12-13T18:08:50.708031",
     "status": "completed"
    },
    "tags": []
   },
   "outputs": [
    {
     "name": "stdout",
     "output_type": "stream",
     "text": [
      "Fri Mar 22 13:34:51 EDT 2024\n"
     ]
    }
   ],
   "source": [
    "!date"
   ]
  },
  {
   "cell_type": "code",
   "execution_count": 3,
   "id": "08faf242-d404-4961-899c-fdd1961917fb",
   "metadata": {
    "papermill": {
     "duration": 0.009633,
     "end_time": "2023-12-13T18:08:50.866684",
     "exception": false,
     "start_time": "2023-12-13T18:08:50.857051",
     "status": "completed"
    },
    "tags": []
   },
   "outputs": [
    {
     "data": {
      "text/plain": [
       "'/mmfs1/data/aglinska/pub-CVAE-sim-neuroanatomy/Code'"
      ]
     },
     "execution_count": 3,
     "metadata": {},
     "output_type": "execute_result"
    }
   ],
   "source": [
    "pwd"
   ]
  },
  {
   "cell_type": "code",
   "execution_count": null,
   "id": "164932a7-db08-46ec-adf8-6185fedb52d2",
   "metadata": {
    "papermill": {
     "duration": 0.582902,
     "end_time": "2023-12-13T18:08:51.451691",
     "exception": false,
     "start_time": "2023-12-13T18:08:50.868789",
     "status": "completed"
    },
    "tags": []
   },
   "outputs": [],
   "source": [
    "import os\n",
    "import numpy as np\n",
    "from tqdm import tqdm"
   ]
  },
  {
   "cell_type": "code",
   "execution_count": null,
   "id": "95d42bfe-fda3-4cca-baac-e316c3abc9eb",
   "metadata": {
    "papermill": {
     "duration": 0.009336,
     "end_time": "2023-12-13T18:08:51.463240",
     "exception": false,
     "start_time": "2023-12-13T18:08:51.453904",
     "status": "completed"
    },
    "tags": []
   },
   "outputs": [],
   "source": [
    "def get_random_string():\n",
    "    import string\n",
    "    import random\n",
    "    return ''.join([random.choice(string.ascii_letters) for _ in range(10)])\n",
    "\n",
    "def safe_mkdir(dirpath):\n",
    "    if not os.path.exists(dirpath):\n",
    "        os.mkdir(dirpath)"
   ]
  },
  {
   "cell_type": "code",
   "execution_count": null,
   "id": "e4ce1e6e-e6b0-4c1a-abe7-6188dfaf9ea1",
   "metadata": {
    "papermill": {
     "duration": 0.008179,
     "end_time": "2023-12-13T18:08:51.473595",
     "exception": false,
     "start_time": "2023-12-13T18:08:51.465416",
     "status": "completed"
    },
    "tags": []
   },
   "outputs": [],
   "source": [
    "analysis_name = 'CVAE_3_subtype_N1000_'+get_random_string()\n",
    "print(analysis_name)"
   ]
  },
  {
   "cell_type": "code",
   "execution_count": null,
   "id": "667a8ffa-a997-4d43-ba87-8f1742fa0021",
   "metadata": {
    "papermill": {
     "duration": 0.091915,
     "end_time": "2023-12-13T18:08:51.567853",
     "exception": false,
     "start_time": "2023-12-13T18:08:51.475938",
     "status": "completed"
    },
    "tags": []
   },
   "outputs": [],
   "source": [
    "safe_mkdir(f'../scratch/{analysis_name}')"
   ]
  },
  {
   "cell_type": "code",
   "execution_count": null,
   "id": "729ccb91-1d5b-4c02-9668-53b1bacaa288",
   "metadata": {
    "papermill": {
     "duration": 0.00704,
     "end_time": "2023-12-13T18:08:51.577335",
     "exception": false,
     "start_time": "2023-12-13T18:08:51.570295",
     "status": "completed"
    },
    "tags": []
   },
   "outputs": [],
   "source": [
    "save_dir_stage1 = f'../scratch/{analysis_name}/stage_1'\n",
    "save_dir_stage2 = f'../scratch/{analysis_name}/stage_2'\n",
    "\n",
    "df_fn = '../Data/synth-data-03-N1000.csv'\n",
    "data_fn = '../Data/synth-data-03-N1000.npy'"
   ]
  },
  {
   "cell_type": "code",
   "execution_count": null,
   "id": "368e6756-6f02-4f0a-8ff6-087aad1581d3",
   "metadata": {},
   "outputs": [],
   "source": [
    "%%time\n",
    "for iter in tqdm(range(50)):\n",
    "    os.system(f'python initialize_CVAE.py {save_dir_stage1} {data_fn} {df_fn} {iter} 10 None')"
   ]
  },
  {
   "cell_type": "code",
   "execution_count": null,
   "id": "4d4f3c0a-ae8c-425a-b068-eac0e49ac473",
   "metadata": {
    "papermill": {
     "duration": 1.417941,
     "end_time": "2023-12-13T22:42:13.240430",
     "exception": false,
     "start_time": "2023-12-13T22:42:11.822489",
     "status": "completed"
    },
    "tags": []
   },
   "outputs": [],
   "source": [
    "files_varexp = [file for file in os.listdir(save_dir_stage1) if file.startswith('varexp_attmp_')];files_varexp.sort()\n",
    "\n",
    "varexps = np.array([np.load(os.path.join(save_dir_stage1,f))[-1] for f in files_varexp])\n",
    "\n",
    "file_nums = np.array([int(f.replace('varexp_attmp_','').replace('.npy','')) for f in files_varexp])\n",
    "ORD = np.argsort(varexps)[-1::-1]\n",
    "[print(f'{files_varexp[o]} {varexps[o]:.2f}') for o in ORD[0:20]];\n",
    "IDs_best = file_nums[ORD[0:20]]\n",
    "stage_2_weights = [os.path.join(save_dir_stage1,f'CVAE_init_attmp_{val}') for val in IDs_best]"
   ]
  },
  {
   "cell_type": "code",
   "execution_count": null,
   "id": "3e67fa84-4d3c-4443-8b61-41cc2191144d",
   "metadata": {},
   "outputs": [],
   "source": [
    "%%time\n",
    "for iter in tqdm(range(20)):\n",
    "    os.system(f'python initialize_CVAE.py {save_dir_stage2} {data_fn} {df_fn} {iter} 100 {stage_2_weights[iter]}')"
   ]
  },
  {
   "cell_type": "code",
   "execution_count": null,
   "id": "96577b10-57e9-4ae3-94dd-9b7301ea55a5",
   "metadata": {
    "papermill": {
     "duration": 0.023029,
     "end_time": "2023-12-14T18:25:44.263397",
     "exception": false,
     "start_time": "2023-12-14T18:25:44.240368",
     "status": "completed"
    },
    "tags": []
   },
   "outputs": [],
   "source": []
  },
  {
   "cell_type": "code",
   "execution_count": null,
   "id": "bddc92e8-fcca-4b5a-9b57-a10403d97da2",
   "metadata": {
    "papermill": {
     "duration": 0.023006,
     "end_time": "2023-12-14T18:25:44.309465",
     "exception": false,
     "start_time": "2023-12-14T18:25:44.286459",
     "status": "completed"
    },
    "tags": []
   },
   "outputs": [],
   "source": []
  },
  {
   "cell_type": "code",
   "execution_count": null,
   "id": "8b9b0392-294d-461f-9e27-9ee996dcc9b8",
   "metadata": {
    "papermill": {
     "duration": 0.022848,
     "end_time": "2023-12-14T18:25:44.355287",
     "exception": false,
     "start_time": "2023-12-14T18:25:44.332439",
     "status": "completed"
    },
    "tags": []
   },
   "outputs": [],
   "source": []
  },
  {
   "cell_type": "code",
   "execution_count": null,
   "id": "8ad078d3-b9a9-48b8-90d5-5109ffad6c8e",
   "metadata": {
    "papermill": {
     "duration": 0.022769,
     "end_time": "2023-12-14T18:25:44.401034",
     "exception": false,
     "start_time": "2023-12-14T18:25:44.378265",
     "status": "completed"
    },
    "tags": []
   },
   "outputs": [],
   "source": []
  }
 ],
 "metadata": {
  "kernelspec": {
   "display_name": "Python 3 (ipykernel)",
   "language": "python",
   "name": "python3"
  },
  "language_info": {
   "codemirror_mode": {
    "name": "ipython",
    "version": 3
   },
   "file_extension": ".py",
   "mimetype": "text/x-python",
   "name": "python",
   "nbconvert_exporter": "python",
   "pygments_lexer": "ipython3",
   "version": "3.8.17"
  },
  "papermill": {
   "default_parameters": {},
   "duration": 87415.845333,
   "end_time": "2023-12-14T18:25:44.645806",
   "environment_variables": {},
   "exception": null,
   "input_path": "15-new-cae-initialization.ipynb",
   "output_path": "15-new-cae-initialization_2type-2.ipynb",
   "parameters": {},
   "start_time": "2023-12-13T18:08:48.800473",
   "version": "2.4.0"
  }
 },
 "nbformat": 4,
 "nbformat_minor": 5
}
