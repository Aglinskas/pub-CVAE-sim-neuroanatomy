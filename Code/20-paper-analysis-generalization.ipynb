{
 "cells": [
  {
   "cell_type": "code",
   "execution_count": 1,
   "id": "31b74c2f-5a88-46da-82c9-cb33543264da",
   "metadata": {},
   "outputs": [
    {
     "name": "stdout",
     "output_type": "stream",
     "text": [
      "Wed Mar 27 11:34:19 EDT 2024\n"
     ]
    }
   ],
   "source": [
    "!date"
   ]
  },
  {
   "cell_type": "code",
   "execution_count": 2,
   "id": "eb24500f-ca08-4626-a1cc-aa517185ee11",
   "metadata": {},
   "outputs": [
    {
     "data": {
      "text/plain": [
       "'/mmfs1/data/aglinska/pub-CVAE-sim-neuroanatomy/Code'"
      ]
     },
     "execution_count": 2,
     "metadata": {},
     "output_type": "execute_result"
    }
   ],
   "source": [
    "pwd"
   ]
  },
  {
   "cell_type": "code",
   "execution_count": 3,
   "id": "d7a46067-6691-43f5-ad00-0175bad881bc",
   "metadata": {},
   "outputs": [],
   "source": [
    "import pandas as pd\n",
    "from tqdm import tqdm\n",
    "from matplotlib import pyplot as plt"
   ]
  },
  {
   "cell_type": "code",
   "execution_count": 4,
   "id": "e358399a-7eb7-4d4a-a057-465fd1c57244",
   "metadata": {},
   "outputs": [],
   "source": [
    "import numpy as np\n",
    "from scipy.spatial.distance import pdist\n",
    "from scipy.spatial.distance import squareform\n",
    "from scipy.stats import kendalltau\n",
    "from numpy import arctanh as fisher_z # https://stats.stackexchange.com/questions/109028/fishers-z-transform-in-python\n",
    "\n",
    "def fit_rsa(rdm_data,rdm_model,metric='kendalltau'):\n",
    "    # Takes in two similarity matrices (n x n), has to be square, symmetrical, and either 1s or 0s on the diagonal\n",
    "    # vectorizes them \n",
    "    # Calculates a correlation between them\n",
    "    # returns r value (between -1 and 1)\n",
    "\n",
    "    if metric=='kendalltau':\n",
    "        #print('metric==kendalltau') \n",
    "        return kendalltau(get_triu(rdm_data),get_triu(rdm_model))[0]\n",
    "    elif metric=='pearsonr':\n",
    "        #print('metric==pearsonr') \n",
    "        return np.corrcoef(get_triu(rdm_data),get_triu(rdm_model))[0,1]\n",
    "    else:\n",
    "        print('not implemented, wtf')\n",
    "        return np.nan\n",
    "        \n",
    "def make_RDM(inVec,data_scale='ratio',metric='euclidean'):\n",
    "    # Makes an similarity matrix\n",
    "    # Takes in a data matrix (n x p), subjects as rows, and abitrary number of features \n",
    "    # Whether you give it a 5x2 or a 5x10000 matrix, will give back a 5x5 similarity matrix\n",
    "    # \n",
    "    vec = inVec # Takes whatever data you give it \n",
    "    vec = (vec - min(vec.flatten())) / (max(vec.flatten())-min(vec.flatten())) # Normalizes between 0 and 1\n",
    "    \n",
    "    if np.ndim(inVec)==1: # must be at least 2D\n",
    "        vec = np.vstack((vec,np.zeros(vec.shape))).transpose() # this is... just... magic. so beautiful. I mean really. \n",
    "        # ^ ok ok lemme explain \n",
    "        # pdist function below, works on >=2D data\n",
    "        # this is a hack in case you want to use it on 1D data\n",
    "        # in case you pass it a 1D vector, it adds a column of zeros\n",
    "        # which doesnt change the distances, \n",
    "                   \n",
    "    mat = squareform(pdist(vec,metric=metric).transpose()) # Takes in calcs the distances, turns into a dissimilarity matrix\n",
    "\n",
    "    if data_scale=='ordinal': # In case the data is ordinal, makes into a same or differnt matrix or ones and zeros\n",
    "        mat[mat!=0]=1 # Make into zeros and ones\n",
    "        \n",
    "    return mat\n",
    "\n",
    "def get_triu(inMat):\n",
    "    # Nifty function that takes in a similarity matrix (nxn) and vectorizes it (returns the upper triangle values)\n",
    "    \n",
    "    assert np.ndim(inMat)==2, 'not 2 dim, wtf' # Check if some dummy passed a nd array instead of a simmmat\n",
    "    assert inMat.shape[0]==inMat.shape[1], 'not a square' # make sure it's a square\n",
    "\n",
    "    n = inMat.shape[0]\n",
    "    triu_vec = inMat[np.triu_indices(n=n,k=1)] # Takes the upper triangle values\n",
    "    \n",
    "    return triu_vec\n",
    "\n",
    "def get_descriptive(vec,decimals=2):\n",
    "    vec = np.array(vec)\n",
    "    if decimals==2:\n",
    "        print(f'M = {np.nanmean(vec):.2f}, SD = {np.nanstd(vec):.2f}, range {np.nanmin(vec):.2f}-{np.nanmax(vec):.2f}')\n",
    "    elif decimals==3:\n",
    "        print(f'M = {np.nanmean(vec):.3f}, SD = {np.nanstd(vec):.3f}, range {np.nanmin(vec):.3f}-{np.nanmax(vec):.3f}')\n",
    "\n",
    "def pretty_t_1sample(vec,popmean):\n",
    "    from scipy.stats import ttest_1samp\n",
    "    t,p = ttest_1samp(vec,popmean,alternative='two-sided')\n",
    "    if p < .001:\n",
    "        print(f't({len(vec)-1}) = {t:.2f}, p < .001')\n",
    "    else:\n",
    "        print(f't({len(vec)-1}) = {t:.2f}, p = {p:.3f}')\n",
    "        \n",
    "def pretty_t_ind(vec1,vec2):\n",
    "    from scipy.stats import ttest_ind\n",
    "    t,p = ttest_ind(vec1,vec2)\n",
    "    if p < .001:\n",
    "        print(f't({len(vec1)+len(vec2)-2}) = {t:.2f}, p < .001')\n",
    "    else:\n",
    "        print(f't({len(vec1)+len(vec2)-2}) = {t:.2f}, p = {p:.3f}')"
   ]
  },
  {
   "cell_type": "code",
   "execution_count": 5,
   "id": "2ba637a0-717c-45ee-a7ac-7cf2291474b9",
   "metadata": {},
   "outputs": [],
   "source": [
    "latents_base_s = np.load('../Data/repl_latents/baseline-s.npy')\n",
    "latents_base_z = np.load('../Data/repl_latents/baseline-z.npy')\n",
    "\n",
    "latents_repl_s = np.load('../Data/repl_latents/repl-same-s.npy')\n",
    "latents_repl_z = np.load('../Data/repl_latents/repl-same-z.npy')\n",
    "\n",
    "latents_n500_s = np.load('../Data/repl_latents/repl-N500-s.npy')\n",
    "latents_n500_z = np.load('../Data/repl_latents/repl-N500-z.npy')\n",
    "\n",
    "latents_n200_s = np.load('../Data/repl_latents/repl-N200-s.npy')\n",
    "latents_n200_z = np.load('../Data/repl_latents/repl-N200-z.npy')"
   ]
  },
  {
   "cell_type": "code",
   "execution_count": 6,
   "id": "4da9f06a-020f-4185-88c0-e78d6c6bd802",
   "metadata": {},
   "outputs": [
    {
     "data": {
      "text/plain": [
       "(5, 20, 500, 2)"
      ]
     },
     "execution_count": 6,
     "metadata": {},
     "output_type": "execute_result"
    }
   ],
   "source": [
    "latents_repl_z.shape"
   ]
  },
  {
   "cell_type": "code",
   "execution_count": 7,
   "id": "40c24127-1d60-4ef8-93a6-e9caceb995b6",
   "metadata": {},
   "outputs": [],
   "source": [
    "def get_rsa(data_csv_fn,latents_z,latents_s):\n",
    "\n",
    "    df = pd.read_csv(data_csv_fn)\n",
    "    n = df.shape[0]\n",
    "    patient_idx = np.nonzero(df['dx'].values==1)[0]\n",
    "    control_idx = np.nonzero(df['dx'].values==0)[0]\n",
    "    \n",
    "    rdm_tx_s = make_RDM(df.iloc[df['dx'].values==1]['adhd_tx'].values,data_scale='ratio', metric='euclidean')\n",
    "    rdm_tx_z = make_RDM(df.iloc[df['dx'].values==1]['td_tx'].values,data_scale='ratio', metric='euclidean')\n",
    "    triu = np.triu_indices(rdm_tx_s.shape[0],1)\n",
    "    vec_tx_s = rdm_tx_s[triu]\n",
    "    vec_tx_z = rdm_tx_z[triu]\n",
    "    \n",
    "    res_s = np.zeros((5,20))\n",
    "    res_z = np.zeros((5,20))\n",
    "    for i in tqdm(range(5)):\n",
    "        for j in range(20):\n",
    "            rdm_s = make_RDM(latents_s[i,j,:,:])\n",
    "            rdm_z = make_RDM(latents_z[i,j,:,:])\n",
    "            \n",
    "            res_s[i,j] = fit_rsa(rdm_tx_s,rdm_s)\n",
    "            res_z[i,j] = fit_rsa(rdm_tx_z,rdm_z)\n",
    "\n",
    "    res = {}\n",
    "    res['rsa_z'] = res_z\n",
    "    res['rsa_s'] = res_s\n",
    "\n",
    "    res['rsa_z_m'] = np.nanmean(res_z,axis=1)\n",
    "    res['rsa_s_m'] = np.nanmean(res_s,axis=1)\n",
    "    return res"
   ]
  },
  {
   "cell_type": "code",
   "execution_count": 8,
   "id": "b6e1d406-ad4c-4fd5-a87e-ceba6925f07b",
   "metadata": {},
   "outputs": [
    {
     "name": "stderr",
     "output_type": "stream",
     "text": [
      "100%|█████████████████████████████████████████████| 5/5 [00:05<00:00,  1.17s/it]\n"
     ]
    }
   ],
   "source": [
    "res_baseline = get_rsa('../Data/synth-data-01.csv',latents_base_z,latents_base_s)"
   ]
  },
  {
   "cell_type": "code",
   "execution_count": 9,
   "id": "8a236ec8-92c8-4f76-91e6-8be0ec297322",
   "metadata": {},
   "outputs": [
    {
     "name": "stderr",
     "output_type": "stream",
     "text": [
      "100%|█████████████████████████████████████████████| 5/5 [00:05<00:00,  1.15s/it]\n"
     ]
    }
   ],
   "source": [
    "res_repl = get_rsa('../Data/synth-data-01-repl.csv',latents_repl_z,latents_repl_s)"
   ]
  },
  {
   "cell_type": "code",
   "execution_count": 10,
   "id": "82b5e1bf-5728-4978-958a-6e106ce2587c",
   "metadata": {},
   "outputs": [
    {
     "name": "stderr",
     "output_type": "stream",
     "text": [
      "100%|█████████████████████████████████████████████| 5/5 [00:05<00:00,  1.16s/it]\n"
     ]
    }
   ],
   "source": [
    "res_n500 = get_rsa('../Data/synth-data-01-repl.csv',latents_n500_z,latents_n500_s)"
   ]
  },
  {
   "cell_type": "code",
   "execution_count": 11,
   "id": "1e98cf4b-282a-48f6-8d83-a96331113350",
   "metadata": {},
   "outputs": [
    {
     "name": "stderr",
     "output_type": "stream",
     "text": [
      "100%|█████████████████████████████████████████████| 5/5 [00:05<00:00,  1.16s/it]\n"
     ]
    }
   ],
   "source": [
    "res_n200 = get_rsa('../Data/synth-data-01-repl.csv',latents_n200_z,latents_n200_s)"
   ]
  },
  {
   "cell_type": "code",
   "execution_count": null,
   "id": "38e05e26-1b70-45b1-bfcb-dc825e660587",
   "metadata": {},
   "outputs": [],
   "source": []
  },
  {
   "cell_type": "code",
   "execution_count": 12,
   "id": "b20ece84-e8bb-4a0a-9c06-e88d9ee3cdc8",
   "metadata": {},
   "outputs": [
    {
     "name": "stdout",
     "output_type": "stream",
     "text": [
      "M = 0.48, SD = 0.01, range 0.47-0.49\n",
      "M = 0.21, SD = 0.01, range 0.19-0.23\n"
     ]
    }
   ],
   "source": [
    "get_descriptive(res_baseline['rsa_z_m'])\n",
    "get_descriptive(res_baseline['rsa_s_m'])"
   ]
  },
  {
   "cell_type": "code",
   "execution_count": 13,
   "id": "40ff4d8a-7aae-4a65-a0b3-eef80fff7698",
   "metadata": {},
   "outputs": [
    {
     "name": "stdout",
     "output_type": "stream",
     "text": [
      "M = 0.48, SD = 0.01, range 0.47-0.49\n",
      "M = 0.20, SD = 0.01, range 0.18-0.22\n"
     ]
    }
   ],
   "source": [
    "get_descriptive(res_repl['rsa_z_m'])\n",
    "get_descriptive(res_repl['rsa_s_m'])"
   ]
  },
  {
   "cell_type": "code",
   "execution_count": 14,
   "id": "8bd936e3-a592-4376-af1c-2c71aaa01b02",
   "metadata": {},
   "outputs": [
    {
     "name": "stdout",
     "output_type": "stream",
     "text": [
      "M = 0.46, SD = 0.01, range 0.46-0.47\n",
      "M = 0.16, SD = 0.02, range 0.14-0.20\n"
     ]
    }
   ],
   "source": [
    "get_descriptive(res_n500['rsa_z_m'])\n",
    "get_descriptive(res_n500['rsa_s_m'])"
   ]
  },
  {
   "cell_type": "code",
   "execution_count": 15,
   "id": "46f333c8-2faf-4660-acba-6ca77add52fa",
   "metadata": {},
   "outputs": [
    {
     "name": "stdout",
     "output_type": "stream",
     "text": [
      "M = 0.43, SD = 0.00, range 0.43-0.43\n",
      "M = 0.08, SD = 0.02, range 0.06-0.11\n"
     ]
    }
   ],
   "source": [
    "get_descriptive(res_n200['rsa_z_m'])\n",
    "get_descriptive(res_n200['rsa_s_m'])"
   ]
  },
  {
   "cell_type": "code",
   "execution_count": 16,
   "id": "50cb8bdb-d35e-4063-9cfd-f8d10b5a5808",
   "metadata": {},
   "outputs": [
    {
     "name": "stdout",
     "output_type": "stream",
     "text": [
      "Corr. with Specific effects, N1000-N1000_repl ΔM=0.01\n",
      "Corr. with Shared effects, N1000-N1000_repl ΔM=-0.003\n"
     ]
    }
   ],
   "source": [
    "print('Corr. with Specific effects, N1000-N1000_repl ΔM={:.2f}'.format((res_baseline['rsa_s_m'].mean()-res_repl['rsa_s_m'].mean()).round(2)))\n",
    "print('Corr. with Shared effects, N1000-N1000_repl ΔM={:.3f}'.format((res_baseline['rsa_z_m'].mean()-res_repl['rsa_z_m'].mean()).round(3)))"
   ]
  },
  {
   "cell_type": "code",
   "execution_count": 17,
   "id": "86e9cef8-587c-4dd6-b4ea-1a7217c2ab14",
   "metadata": {},
   "outputs": [
    {
     "name": "stdout",
     "output_type": "stream",
     "text": [
      "Corr. with Specific effects, N1000_repl-N500 ΔM=0.04\n",
      "Corr. with Shared effects, N1000_repl-N500 ΔM=0.01\n"
     ]
    }
   ],
   "source": [
    "#print((res_repl['rsa_s_m'].mean()-res_n500['rsa_s_m'].mean()).round(2))\n",
    "#print((res_repl['rsa_z_m'].mean()-res_n500['rsa_z_m'].mean()).round(3))\n",
    "print('Corr. with Specific effects, N1000_repl-N500 ΔM={:.2f}'.format((res_repl['rsa_s_m'].mean()-res_n500['rsa_s_m'].mean()).round(2)))\n",
    "print('Corr. with Shared effects, N1000_repl-N500 ΔM={:.2f}'.format((res_repl['rsa_z_m'].mean()-res_n500['rsa_z_m'].mean()).round(2)))"
   ]
  },
  {
   "cell_type": "code",
   "execution_count": 18,
   "id": "c32c227e-77c2-4f61-bcc0-e2735c1b2b93",
   "metadata": {},
   "outputs": [
    {
     "name": "stdout",
     "output_type": "stream",
     "text": [
      "Corr. with Specific effects, N500-N200 ΔM=0.09\n",
      "Corr. with Specific effects, N500-N200 ΔM=0.03\n"
     ]
    }
   ],
   "source": [
    "# print((res_n500['rsa_s_m'].mean()-res_n200['rsa_s_m'].mean()).round(2))\n",
    "# print((res_n500['rsa_z_m'].mean()-res_n200['rsa_z_m'].mean()).round(3))\n",
    "\n",
    "print('Corr. with Specific effects, N500-N200 ΔM={:.2f}'.format((res_n500['rsa_s_m'].mean()-res_n200['rsa_s_m'].mean()).round(2)))\n",
    "print('Corr. with Specific effects, N500-N200 ΔM={:.2f}'.format((res_n500['rsa_z_m'].mean()-res_n200['rsa_z_m'].mean()).round(2)))"
   ]
  },
  {
   "cell_type": "code",
   "execution_count": 19,
   "id": "60bb137b-ac4a-4e12-950a-259d467a18e7",
   "metadata": {},
   "outputs": [
    {
     "name": "stdout",
     "output_type": "stream",
     "text": [
      "N1000 vs N1000_repl\n",
      "ΔM=0.01\n",
      "t(8) = 1.08, p = 0.313\n",
      "ΔM=-0.003\n",
      "t(8) = -0.66, p = 0.525\n"
     ]
    }
   ],
   "source": [
    "print('N1000 vs N1000_repl')\n",
    "print('ΔM={:.2f}'.format(res_baseline['rsa_s_m'].mean()-res_repl['rsa_s_m'].mean()))\n",
    "pretty_t_ind(fisher_z(res_baseline['rsa_s_m']),fisher_z(res_repl['rsa_s_m']))\n",
    "\n",
    "print('ΔM={:.3f}'.format(res_baseline['rsa_z_m'].mean()-res_repl['rsa_z_m'].mean()))\n",
    "pretty_t_ind(fisher_z(res_baseline['rsa_z_m']),fisher_z(res_repl['rsa_z_m']))"
   ]
  },
  {
   "cell_type": "code",
   "execution_count": 20,
   "id": "e8746391-0bae-4268-9015-e241a1df4a4d",
   "metadata": {},
   "outputs": [
    {
     "name": "stdout",
     "output_type": "stream",
     "text": [
      "N1000_repl vs N500\n",
      "Specific\n",
      "ΔM=0.04\n",
      "t(8) = 3.14, p = 0.014\n",
      "Shared\n",
      "ΔM=0.01\n",
      "t(8) = 3.29, p = 0.011\n"
     ]
    }
   ],
   "source": [
    "print('N1000_repl vs N500')\n",
    "\n",
    "print('Specific')\n",
    "print('ΔM={:.2f}'.format(res_repl['rsa_s_m'].mean()-res_n500['rsa_s_m'].mean()))\n",
    "pretty_t_ind(fisher_z(res_repl['rsa_s_m']),fisher_z(res_n500['rsa_s_m']))\n",
    "\n",
    "print('Shared')\n",
    "print('ΔM={:.2f}'.format(res_repl['rsa_z_m'].mean()-res_n500['rsa_z_m'].mean()))\n",
    "pretty_t_ind(fisher_z(res_repl['rsa_z_m']),fisher_z(res_n500['rsa_z_m']))"
   ]
  },
  {
   "cell_type": "code",
   "execution_count": 21,
   "id": "350d5822-d776-4c6d-a56a-81d2e2d0513d",
   "metadata": {},
   "outputs": [
    {
     "name": "stdout",
     "output_type": "stream",
     "text": [
      "N1000_repl > N200\n",
      "Specific\n",
      "ΔM=0.13\n",
      "t(8) = 9.10, p < .001\n",
      "Shared\n",
      "ΔM=0.05\n",
      "t(8) = 13.18, p < .001\n"
     ]
    }
   ],
   "source": [
    "print('N1000_repl > N200')\n",
    "print('Specific')\n",
    "print('ΔM={:.2f}'.format(res_repl['rsa_s_m'].mean()-res_n200['rsa_s_m'].mean()))\n",
    "pretty_t_ind(fisher_z(res_repl['rsa_s_m']),fisher_z(res_n200['rsa_s_m']))\n",
    "\n",
    "print('Shared')\n",
    "print('ΔM={:.2f}'.format(res_repl['rsa_z_m'].mean()-res_n200['rsa_z_m'].mean()))\n",
    "pretty_t_ind(fisher_z(res_repl['rsa_z_m']),fisher_z(res_n200['rsa_z_m']))"
   ]
  },
  {
   "cell_type": "code",
   "execution_count": 22,
   "id": "70abeec5-6654-4fdd-b5cb-4b2970cf22af",
   "metadata": {},
   "outputs": [
    {
     "name": "stdout",
     "output_type": "stream",
     "text": [
      "N500 > N200\n",
      "Specific\n",
      "ΔM=0.09\n",
      "t(8) = 5.53, p < .001\n",
      "Shared\n",
      "ΔM=0.03\n",
      "t(8) = 10.63, p < .001\n"
     ]
    }
   ],
   "source": [
    "print('N500 > N200')\n",
    "print('Specific')\n",
    "print('ΔM={:.2f}'.format(res_n500['rsa_s_m'].mean()-res_n200['rsa_s_m'].mean()))\n",
    "pretty_t_ind(fisher_z(res_n500['rsa_s_m']),fisher_z(res_n200['rsa_s_m']))\n",
    "\n",
    "print('Shared')\n",
    "print('ΔM={:.2f}'.format(res_n500['rsa_z_m'].mean()-res_n200['rsa_z_m'].mean()))\n",
    "pretty_t_ind(fisher_z(res_n500['rsa_z_m']),fisher_z(res_n200['rsa_z_m']))"
   ]
  },
  {
   "cell_type": "code",
   "execution_count": null,
   "id": "5fb5e144-1d9c-4098-ab10-5c3e569840d8",
   "metadata": {},
   "outputs": [],
   "source": []
  },
  {
   "cell_type": "code",
   "execution_count": 32,
   "id": "21b74b96-69f7-416b-a238-200bec51fa1c",
   "metadata": {},
   "outputs": [
    {
     "data": {
      "text/plain": [
       "Text(0.5, 1.0, 'Specific features')"
      ]
     },
     "execution_count": 32,
     "metadata": {},
     "output_type": "execute_result"
    },
    {
     "data": {
      "image/png": "[encoded data removed]",
      "text/plain": [
       "<Figure size 1000x500 with 2 Axes>"
      ]
     },
     "metadata": {},
     "output_type": "display_data"
    }
   ],
   "source": [
    "plt.figure(figsize=(10,5))\n",
    "plt.subplot(1,2,1)\n",
    "\n",
    "#vecs = [res_baseline['rsa_z_m'],res_n500['rsa_z_m'],res_n200['rsa_z_m']]\n",
    "vecs = [res_repl['rsa_z_m'],res_n500['rsa_z_m'],res_n200['rsa_z_m']]\n",
    "for i in range(len(vecs)):\n",
    "    #vec = res_baseline['rsa_s_m']\n",
    "    vec = vecs[i]\n",
    "    x = i\n",
    "    randshift = x+(np.random.rand(5)-.5)*.25\n",
    "    \n",
    "    plt.bar(x,vec.mean(),alpha=.6,color=np.array([40,128,180])/255);\n",
    "    plt.plot(randshift,vec,'.',markersize=15,color=np.array([40,128,180])/255)\n",
    "    plt.xticks(np.arange(3),['N=1000','N=500','N=250'])\n",
    "    plt.ylim(.3,.5)\n",
    "    plt.yticks([.3,.4,.475])\n",
    "\n",
    "plt.plot([-.5,2.5],[res_baseline['rsa_z_m'].mean(),res_baseline['rsa_z_m'].mean()],linewidth=1)\n",
    "plt.title('Shared features')\n",
    "\n",
    "plt.subplot(1,2,2)\n",
    "#plt.figure(figsize=(5,5))\n",
    "#vecs = [res_baseline['rsa_s_m'],res_n500['rsa_s_m'],res_n200['rsa_s_m']]\n",
    "vecs = [res_repl['rsa_s_m'],res_n500['rsa_s_m'],res_n200['rsa_s_m']]\n",
    "for i in range(len(vecs)):\n",
    "    #vec = res_baseline['rsa_s_m']\n",
    "    vec = vecs[i]\n",
    "    x = i\n",
    "    randshift = x+(np.random.rand(5)-.5)*.25\n",
    "    \n",
    "    plt.bar(x,vec.mean(),alpha=.6,color=np.array([41,161,66])/255);\n",
    "    plt.plot(randshift,vec,'.',markersize=15,color=np.array([41,161,66])/255)\n",
    "    plt.xticks(np.arange(3),['N=1000','N=500','N=250'])\n",
    "    plt.yticks([.0,.1,.2],labels=['0.000','0.100','0.200'])\n",
    "plt.plot([-.5,2.5],[res_baseline['rsa_s_m'].mean(),res_baseline['rsa_s_m'].mean()],linewidth=1)\n",
    "plt.title('Specific features')\n",
    "#plt.suptitle('Generalization test')"
   ]
  },
  {
   "cell_type": "code",
   "execution_count": null,
   "id": "4d6a2e6c-0644-45cc-8f1a-eb9a2edc9f41",
   "metadata": {},
   "outputs": [],
   "source": []
  },
  {
   "cell_type": "code",
   "execution_count": null,
   "id": "3fc9b3a2-dc03-428a-87df-8a66edb800e7",
   "metadata": {},
   "outputs": [],
   "source": []
  }
 ],
 "metadata": {
  "kernelspec": {
   "display_name": "Python 3 (ipykernel)",
   "language": "python",
   "name": "python3"
  },
  "language_info": {
   "codemirror_mode": {
    "name": "ipython",
    "version": 3
   },
   "file_extension": ".py",
   "mimetype": "text/x-python",
   "name": "python",
   "nbconvert_exporter": "python",
   "pygments_lexer": "ipython3",
   "version": "3.8.17"
  }
 },
 "nbformat": 4,
 "nbformat_minor": 5
}
