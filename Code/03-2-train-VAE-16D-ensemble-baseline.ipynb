{
 "cells": [
  {
   "cell_type": "code",
   "execution_count": null,
   "id": "d9ab4a27-3705-44ab-be6a-66ad05f604b7",
   "metadata": {},
   "outputs": [],
   "source": [
    "!date"
   ]
  },
  {
   "cell_type": "code",
   "execution_count": null,
   "id": "08faf242-d404-4961-899c-fdd1961917fb",
   "metadata": {},
   "outputs": [],
   "source": [
    "pwd"
   ]
  },
  {
   "cell_type": "code",
   "execution_count": null,
   "id": "164932a7-db08-46ec-adf8-6185fedb52d2",
   "metadata": {},
   "outputs": [],
   "source": [
    "import os\n",
    "import numpy as np\n",
    "from tqdm import tqdm"
   ]
  },
  {
   "cell_type": "code",
   "execution_count": null,
   "id": "95d42bfe-fda3-4cca-baac-e316c3abc9eb",
   "metadata": {},
   "outputs": [],
   "source": [
    "def get_latent_corr(fn):\n",
    "    from scipy.spatial.distance import pdist,squareform\n",
    "    data = np.load(fn)\n",
    "    # cmat_z = np.corrcoef(data['z_patients'])\n",
    "    # cmat_s = np.corrcoef(data['z_patients'])\n",
    "    cmat_z = squareform(pdist(data['z_patients']))\n",
    "    cmat_s = squareform(pdist(data['s_patients']))\n",
    "    triu = np.triu_indices(cmat_z.shape[0],1)\n",
    "    return np.corrcoef(cmat_z[triu],cmat_s[triu])[0,1]\n",
    "\n",
    "def get_random_string():\n",
    "    import string\n",
    "    import random\n",
    "    return ''.join([random.choice(string.ascii_letters) for _ in range(10)])\n",
    "\n",
    "def safe_mkdir(dirpath):\n",
    "    if not os.path.exists(dirpath):\n",
    "        os.mkdir(dirpath)"
   ]
  },
  {
   "cell_type": "code",
   "execution_count": null,
   "id": "e4ce1e6e-e6b0-4c1a-abe7-6188dfaf9ea1",
   "metadata": {},
   "outputs": [],
   "source": [
    "analysis_name = 'VAE_1type_16D' + get_random_string()\n",
    "#analysis_name = 'VAE_test'\n",
    "#print(analysis_name)"
   ]
  },
  {
   "cell_type": "code",
   "execution_count": null,
   "id": "667a8ffa-a997-4d43-ba87-8f1742fa0021",
   "metadata": {},
   "outputs": [],
   "source": [
    "safe_mkdir(f'../scratch/{analysis_name}')"
   ]
  },
  {
   "cell_type": "code",
   "execution_count": null,
   "id": "729ccb91-1d5b-4c02-9668-53b1bacaa288",
   "metadata": {},
   "outputs": [],
   "source": [
    "save_dir_stage1 = f'../scratch/{analysis_name}/stage_1'\n",
    "save_dir_stage2 = f'../scratch/{analysis_name}/stage_2'\n",
    "save_dir_stage3 = f'../scratch/{analysis_name}/stage_3'\n",
    "\n",
    "data_fn = '../Data/synth-data-01.npy'\n",
    "df_fn = '../Data/synth-data-01.csv'\n",
    "\n",
    "#data_fn = '../Data/synth-data-02.npy'\n",
    "#df_fn = '../Data/synth-data-02.csv'"
   ]
  },
  {
   "cell_type": "code",
   "execution_count": null,
   "id": "b7883e5a-a080-4117-b189-93bde564b7e5",
   "metadata": {},
   "outputs": [],
   "source": [
    "%%time\n",
    "for iter in tqdm(range(50)):\n",
    "    os.system(f'python initialize_VAE-16D.py {save_dir_stage1} {data_fn} {df_fn} {iter} 10 None')"
   ]
  },
  {
   "cell_type": "code",
   "execution_count": null,
   "id": "4d4f3c0a-ae8c-425a-b068-eac0e49ac473",
   "metadata": {},
   "outputs": [],
   "source": [
    "files_varexp = [file for file in os.listdir(save_dir_stage1) if file.startswith('varexp_attmp_')];files_varexp.sort()\n",
    "#files_latents = [file for file in os.listdir(save_dir_stage1) if file.startswith('latents_attmp_')];files_latents.sort()\n",
    "\n",
    "varexps = np.array([np.load(os.path.join(save_dir_stage1,f))[-1] for f in files_varexp])\n",
    "#vals_latents_corr = np.array([get_latent_corr(os.path.join(save_dir_stage1,f)) for f in files_latents])\n",
    "\n",
    "file_nums = np.array([int(f.replace('varexp_attmp_','').replace('.npy','')) for f in files_varexp])\n",
    "ORD = np.argsort(varexps)[-1::-1]\n",
    "[print(f'{files_varexp[o]} {varexps[o]:.2f}') for o in ORD[0:20]];\n",
    "IDs_best = file_nums[ORD[0:20]]\n",
    "stage_2_weights = [os.path.join(save_dir_stage1,f'VAE_init_attmp_{val}') for val in IDs_best]"
   ]
  },
  {
   "cell_type": "code",
   "execution_count": null,
   "id": "16ac203a-b8be-4bf0-b407-345e86ae1d5b",
   "metadata": {},
   "outputs": [],
   "source": [
    "%%time\n",
    "for iter in tqdm(range(20)):\n",
    "    os.system(f'python initialize_VAE-16D.py {save_dir_stage2} {data_fn} {df_fn} {iter} 100 {stage_2_weights[iter]}')"
   ]
  },
  {
   "cell_type": "code",
   "execution_count": null,
   "id": "96577b10-57e9-4ae3-94dd-9b7301ea55a5",
   "metadata": {},
   "outputs": [],
   "source": []
  },
  {
   "cell_type": "code",
   "execution_count": null,
   "id": "bddc92e8-fcca-4b5a-9b57-a10403d97da2",
   "metadata": {},
   "outputs": [],
   "source": []
  },
  {
   "cell_type": "code",
   "execution_count": null,
   "id": "8b9b0392-294d-461f-9e27-9ee996dcc9b8",
   "metadata": {},
   "outputs": [],
   "source": []
  },
  {
   "cell_type": "code",
   "execution_count": null,
   "id": "8ad078d3-b9a9-48b8-90d5-5109ffad6c8e",
   "metadata": {},
   "outputs": [],
   "source": []
  }
 ],
 "metadata": {
  "kernelspec": {
   "display_name": "Python 3 (ipykernel)",
   "language": "python",
   "name": "python3"
  },
  "language_info": {
   "codemirror_mode": {
    "name": "ipython",
    "version": 3
   },
   "file_extension": ".py",
   "mimetype": "text/x-python",
   "name": "python",
   "nbconvert_exporter": "python",
   "pygments_lexer": "ipython3",
   "version": "3.8.17"
  }
 },
 "nbformat": 4,
 "nbformat_minor": 5
}
