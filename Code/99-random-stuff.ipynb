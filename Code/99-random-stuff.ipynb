{
 "cells": [
  {
   "cell_type": "code",
   "execution_count": 19,
   "id": "b100d14d-2c74-4a97-b7c4-94e8a01741f0",
   "metadata": {},
   "outputs": [
    {
     "name": "stderr",
     "output_type": "stream",
     "text": [
      "/data/aglinska/anaconda3/lib/python3.8/site-packages/statsmodels/tsa/base/tsa_model.py:7: FutureWarning: pandas.Int64Index is deprecated and will be removed from pandas in a future version. Use pandas.Index with the appropriate dtype instead.\n",
      "  from pandas import (to_datetime, Int64Index, DatetimeIndex, Period,\n",
      "/data/aglinska/anaconda3/lib/python3.8/site-packages/statsmodels/tsa/base/tsa_model.py:7: FutureWarning: pandas.Float64Index is deprecated and will be removed from pandas in a future version. Use pandas.Index with the appropriate dtype instead.\n",
      "  from pandas import (to_datetime, Int64Index, DatetimeIndex, Period,\n",
      "/data/aglinska/anaconda3/lib/python3.8/site-packages/paramiko/transport.py:219: CryptographyDeprecationWarning: Blowfish has been deprecated\n",
      "  \"class\": algorithms.Blowfish,\n"
     ]
    }
   ],
   "source": [
    "import os\n",
    "import numpy as np\n",
    "import pandas as pd\n",
    "from matplotlib import pyplot as plt\n",
    "import ants"
   ]
  },
  {
   "cell_type": "code",
   "execution_count": 38,
   "id": "fc930e07-63b3-4148-bc12-1e8ec57f827b",
   "metadata": {},
   "outputs": [
    {
     "data": {
      "text/html": [
       "<div>\n",
       "<style scoped>\n",
       "    .dataframe tbody tr th:only-of-type {\n",
       "        vertical-align: middle;\n",
       "    }\n",
       "\n",
       "    .dataframe tbody tr th {\n",
       "        vertical-align: top;\n",
       "    }\n",
       "\n",
       "    .dataframe thead th {\n",
       "        text-align: right;\n",
       "    }\n",
       "</style>\n",
       "<table border=\"1\" class=\"dataframe\">\n",
       "  <thead>\n",
       "    <tr style=\"text-align: right;\">\n",
       "      <th></th>\n",
       "      <th>Unnamed: 0</th>\n",
       "      <th>subID</th>\n",
       "      <th>dx</th>\n",
       "      <th>path</th>\n",
       "      <th>td_sphere_1</th>\n",
       "      <th>td_sphere_2</th>\n",
       "      <th>adhd_sphere_1</th>\n",
       "      <th>adhd_sphere_2</th>\n",
       "      <th>td_tx</th>\n",
       "      <th>adhd_tx</th>\n",
       "    </tr>\n",
       "  </thead>\n",
       "  <tbody>\n",
       "    <tr>\n",
       "      <th>0</th>\n",
       "      <td>0</td>\n",
       "      <td>sub-0000</td>\n",
       "      <td>1</td>\n",
       "      <td>../synth-data-01/ADHD-sub-0000.nii.gz</td>\n",
       "      <td>24.636458</td>\n",
       "      <td>20.592753</td>\n",
       "      <td>12.834489</td>\n",
       "      <td>10.035014</td>\n",
       "      <td>4.043705</td>\n",
       "      <td>2.799475</td>\n",
       "    </tr>\n",
       "    <tr>\n",
       "      <th>1</th>\n",
       "      <td>1</td>\n",
       "      <td>sub-0001</td>\n",
       "      <td>1</td>\n",
       "      <td>../synth-data-01/ADHD-sub-0001.nii.gz</td>\n",
       "      <td>15.945992</td>\n",
       "      <td>12.212052</td>\n",
       "      <td>11.011581</td>\n",
       "      <td>11.316208</td>\n",
       "      <td>3.733940</td>\n",
       "      <td>-0.304627</td>\n",
       "    </tr>\n",
       "    <tr>\n",
       "      <th>2</th>\n",
       "      <td>2</td>\n",
       "      <td>sub-0002</td>\n",
       "      <td>1</td>\n",
       "      <td>../synth-data-01/ADHD-sub-0002.nii.gz</td>\n",
       "      <td>19.401910</td>\n",
       "      <td>15.016307</td>\n",
       "      <td>12.606499</td>\n",
       "      <td>14.643771</td>\n",
       "      <td>4.385604</td>\n",
       "      <td>-2.037272</td>\n",
       "    </tr>\n",
       "    <tr>\n",
       "      <th>3</th>\n",
       "      <td>3</td>\n",
       "      <td>sub-0003</td>\n",
       "      <td>1</td>\n",
       "      <td>../synth-data-01/ADHD-sub-0003.nii.gz</td>\n",
       "      <td>31.737532</td>\n",
       "      <td>26.812256</td>\n",
       "      <td>10.869074</td>\n",
       "      <td>13.482636</td>\n",
       "      <td>4.925275</td>\n",
       "      <td>-2.613562</td>\n",
       "    </tr>\n",
       "    <tr>\n",
       "      <th>4</th>\n",
       "      <td>4</td>\n",
       "      <td>sub-0004</td>\n",
       "      <td>1</td>\n",
       "      <td>../synth-data-01/ADHD-sub-0004.nii.gz</td>\n",
       "      <td>24.533527</td>\n",
       "      <td>25.962776</td>\n",
       "      <td>6.159082</td>\n",
       "      <td>6.337349</td>\n",
       "      <td>-1.429249</td>\n",
       "      <td>-0.178267</td>\n",
       "    </tr>\n",
       "    <tr>\n",
       "      <th>...</th>\n",
       "      <td>...</td>\n",
       "      <td>...</td>\n",
       "      <td>...</td>\n",
       "      <td>...</td>\n",
       "      <td>...</td>\n",
       "      <td>...</td>\n",
       "      <td>...</td>\n",
       "      <td>...</td>\n",
       "      <td>...</td>\n",
       "      <td>...</td>\n",
       "    </tr>\n",
       "    <tr>\n",
       "      <th>995</th>\n",
       "      <td>995</td>\n",
       "      <td>sub-0495</td>\n",
       "      <td>0</td>\n",
       "      <td>../synth-data-01/TD-sub-0495.nii.gz</td>\n",
       "      <td>29.806246</td>\n",
       "      <td>31.775410</td>\n",
       "      <td>0.000000</td>\n",
       "      <td>0.000000</td>\n",
       "      <td>-1.969164</td>\n",
       "      <td>0.000000</td>\n",
       "    </tr>\n",
       "    <tr>\n",
       "      <th>996</th>\n",
       "      <td>996</td>\n",
       "      <td>sub-0496</td>\n",
       "      <td>0</td>\n",
       "      <td>../synth-data-01/TD-sub-0496.nii.gz</td>\n",
       "      <td>14.683680</td>\n",
       "      <td>13.065503</td>\n",
       "      <td>0.000000</td>\n",
       "      <td>0.000000</td>\n",
       "      <td>1.618177</td>\n",
       "      <td>0.000000</td>\n",
       "    </tr>\n",
       "    <tr>\n",
       "      <th>997</th>\n",
       "      <td>997</td>\n",
       "      <td>sub-0497</td>\n",
       "      <td>0</td>\n",
       "      <td>../synth-data-01/TD-sub-0497.nii.gz</td>\n",
       "      <td>18.065294</td>\n",
       "      <td>13.891190</td>\n",
       "      <td>0.000000</td>\n",
       "      <td>0.000000</td>\n",
       "      <td>4.174104</td>\n",
       "      <td>0.000000</td>\n",
       "    </tr>\n",
       "    <tr>\n",
       "      <th>998</th>\n",
       "      <td>998</td>\n",
       "      <td>sub-0498</td>\n",
       "      <td>0</td>\n",
       "      <td>../synth-data-01/TD-sub-0498.nii.gz</td>\n",
       "      <td>14.391185</td>\n",
       "      <td>19.336634</td>\n",
       "      <td>0.000000</td>\n",
       "      <td>0.000000</td>\n",
       "      <td>-4.945449</td>\n",
       "      <td>0.000000</td>\n",
       "    </tr>\n",
       "    <tr>\n",
       "      <th>999</th>\n",
       "      <td>999</td>\n",
       "      <td>sub-0499</td>\n",
       "      <td>0</td>\n",
       "      <td>../synth-data-01/TD-sub-0499.nii.gz</td>\n",
       "      <td>12.440938</td>\n",
       "      <td>8.076007</td>\n",
       "      <td>0.000000</td>\n",
       "      <td>0.000000</td>\n",
       "      <td>4.364931</td>\n",
       "      <td>0.000000</td>\n",
       "    </tr>\n",
       "  </tbody>\n",
       "</table>\n",
       "<p>1000 rows × 10 columns</p>\n",
       "</div>"
      ],
      "text/plain": [
       "     Unnamed: 0     subID  dx                                   path  \\\n",
       "0             0  sub-0000   1  ../synth-data-01/ADHD-sub-0000.nii.gz   \n",
       "1             1  sub-0001   1  ../synth-data-01/ADHD-sub-0001.nii.gz   \n",
       "2             2  sub-0002   1  ../synth-data-01/ADHD-sub-0002.nii.gz   \n",
       "3             3  sub-0003   1  ../synth-data-01/ADHD-sub-0003.nii.gz   \n",
       "4             4  sub-0004   1  ../synth-data-01/ADHD-sub-0004.nii.gz   \n",
       "..          ...       ...  ..                                    ...   \n",
       "995         995  sub-0495   0    ../synth-data-01/TD-sub-0495.nii.gz   \n",
       "996         996  sub-0496   0    ../synth-data-01/TD-sub-0496.nii.gz   \n",
       "997         997  sub-0497   0    ../synth-data-01/TD-sub-0497.nii.gz   \n",
       "998         998  sub-0498   0    ../synth-data-01/TD-sub-0498.nii.gz   \n",
       "999         999  sub-0499   0    ../synth-data-01/TD-sub-0499.nii.gz   \n",
       "\n",
       "     td_sphere_1  td_sphere_2  adhd_sphere_1  adhd_sphere_2     td_tx  \\\n",
       "0      24.636458    20.592753      12.834489      10.035014  4.043705   \n",
       "1      15.945992    12.212052      11.011581      11.316208  3.733940   \n",
       "2      19.401910    15.016307      12.606499      14.643771  4.385604   \n",
       "3      31.737532    26.812256      10.869074      13.482636  4.925275   \n",
       "4      24.533527    25.962776       6.159082       6.337349 -1.429249   \n",
       "..           ...          ...            ...            ...       ...   \n",
       "995    29.806246    31.775410       0.000000       0.000000 -1.969164   \n",
       "996    14.683680    13.065503       0.000000       0.000000  1.618177   \n",
       "997    18.065294    13.891190       0.000000       0.000000  4.174104   \n",
       "998    14.391185    19.336634       0.000000       0.000000 -4.945449   \n",
       "999    12.440938     8.076007       0.000000       0.000000  4.364931   \n",
       "\n",
       "      adhd_tx  \n",
       "0    2.799475  \n",
       "1   -0.304627  \n",
       "2   -2.037272  \n",
       "3   -2.613562  \n",
       "4   -0.178267  \n",
       "..        ...  \n",
       "995  0.000000  \n",
       "996  0.000000  \n",
       "997  0.000000  \n",
       "998  0.000000  \n",
       "999  0.000000  \n",
       "\n",
       "[1000 rows x 10 columns]"
      ]
     },
     "execution_count": 38,
     "metadata": {},
     "output_type": "execute_result"
    }
   ],
   "source": [
    "data_csv_fn = '../Data/synth-data-01.csv'\n",
    "df = pd.read_csv(data_csv_fn)\n",
    "patients = df['dx'].values==1\n",
    "controls = df['dx'].values==0\n",
    "df"
   ]
  },
  {
   "cell_type": "code",
   "execution_count": 4,
   "id": "45c0ff4a-fec8-4b9f-b10f-de3b22779d44",
   "metadata": {},
   "outputs": [],
   "source": [
    "data = np.load('../Data/synth-data-01.npy')"
   ]
  },
  {
   "cell_type": "code",
   "execution_count": 5,
   "id": "63144699-448f-46d8-8261-2302fa95a056",
   "metadata": {},
   "outputs": [
    {
     "data": {
      "text/plain": [
       "(1000, 64, 64, 64)"
      ]
     },
     "execution_count": 5,
     "metadata": {},
     "output_type": "execute_result"
    }
   ],
   "source": [
    "data.shape"
   ]
  },
  {
   "cell_type": "code",
   "execution_count": null,
   "id": "9e012afb-0e42-4b5a-ab48-08055915fbac",
   "metadata": {},
   "outputs": [],
   "source": []
  },
  {
   "cell_type": "code",
   "execution_count": 14,
   "id": "14527eea-b624-43e0-bc8f-d09d4e682acc",
   "metadata": {},
   "outputs": [
    {
     "data": {
      "text/plain": [
       "153.099"
      ]
     },
     "execution_count": 14,
     "metadata": {},
     "output_type": "execute_result"
    }
   ],
   "source": [
    "51033*3*0.001"
   ]
  },
  {
   "cell_type": "code",
   "execution_count": 28,
   "id": "84cb5a38-48ac-428e-a8f2-50e4bce2e181",
   "metadata": {},
   "outputs": [
    {
     "data": {
      "text/plain": [
       "(array([ 18.,  39.,  73., 264., 165., 192., 140.,  69.,  33.,   7.]),\n",
       " array([1331.932 , 1477.9268, 1623.9216, 1769.9164, 1915.9112, 2061.906 ,\n",
       "        2207.9008, 2353.8956, 2499.8904, 2645.8852, 2791.88  ]),\n",
       " <BarContainer object of 10 artists>)"
      ]
     },
     "execution_count": 28,
     "metadata": {},
     "output_type": "execute_result"
    },
    {
     "data": {
      "image/png": "[encoded data removed]",
      "text/plain": [
       "<Figure size 640x480 with 1 Axes>"
      ]
     },
     "metadata": {},
     "output_type": "display_data"
    }
   ],
   "source": [
    "volvec = (data[:,:,:,:]>.001).sum(axis=-1).sum(axis=-1).sum(axis=-1)*28*.001\n",
    "plt.hist(volvec)"
   ]
  },
  {
   "cell_type": "code",
   "execution_count": 40,
   "id": "4a296182-d7b8-4483-8320-398ac61a2d5d",
   "metadata": {},
   "outputs": [
    {
     "data": {
      "text/plain": [
       "(array([ 10.,  20.,  37., 133.,  80.,  95.,  70.,  29.,  21.,   5.]),\n",
       " array([1383.62 , 1524.446, 1665.272, 1806.098, 1946.924, 2087.75 ,\n",
       "        2228.576, 2369.402, 2510.228, 2651.054, 2791.88 ]),\n",
       " <BarContainer object of 10 artists>)"
      ]
     },
     "execution_count": 40,
     "metadata": {},
     "output_type": "execute_result"
    },
    {
     "data": {
      "image/png": "[encoded data removed]",
      "text/plain": [
       "<Figure size 640x480 with 1 Axes>"
      ]
     },
     "metadata": {},
     "output_type": "display_data"
    }
   ],
   "source": [
    "plt.hist((data[controls,:,:,:]>.001).sum(axis=-1).sum(axis=-1).sum(axis=-1)*28*.001,alpha=.5)\n",
    "plt.hist((data[patients,:,:,:]>.001).sum(axis=-1).sum(axis=-1).sum(axis=-1)*28*.001,alpha=.5)"
   ]
  },
  {
   "cell_type": "code",
   "execution_count": null,
   "id": "53c5617e-3946-4934-9adf-222727dc15cb",
   "metadata": {},
   "outputs": [],
   "source": []
  },
  {
   "cell_type": "code",
   "execution_count": 30,
   "id": "3a8b0107-b04a-43fb-a343-b1283ee02bd7",
   "metadata": {},
   "outputs": [
    {
     "data": {
      "text/plain": [
       "2029.0288199999998"
      ]
     },
     "execution_count": 30,
     "metadata": {},
     "output_type": "execute_result"
    }
   ],
   "source": [
    "volvec.mean()"
   ]
  },
  {
   "cell_type": "code",
   "execution_count": 31,
   "id": "ee2e22fa-3c2b-4ca2-83f7-d64d68b6918f",
   "metadata": {},
   "outputs": [
    {
     "data": {
      "text/plain": [
       "1331.932"
      ]
     },
     "execution_count": 31,
     "metadata": {},
     "output_type": "execute_result"
    }
   ],
   "source": [
    "volvec.min()"
   ]
  },
  {
   "cell_type": "code",
   "execution_count": 32,
   "id": "27d10cd4-90ad-4627-ac71-d178ff1fbd5e",
   "metadata": {},
   "outputs": [
    {
     "data": {
      "text/plain": [
       "2791.88"
      ]
     },
     "execution_count": 32,
     "metadata": {},
     "output_type": "execute_result"
    }
   ],
   "source": [
    "volvec.max()"
   ]
  },
  {
   "cell_type": "code",
   "execution_count": null,
   "id": "41089d3a-4519-4061-bcd1-470e59ddcc2f",
   "metadata": {},
   "outputs": [],
   "source": []
  },
  {
   "cell_type": "code",
   "execution_count": 20,
   "id": "173e8087-7b81-45e3-a409-f3708b51435e",
   "metadata": {},
   "outputs": [
    {
     "data": {
      "text/plain": [
       "ANTsImage (RPI)\n",
       "\t Pixel Type : float (float32)\n",
       "\t Components : 1\n",
       "\t Dimensions : (64, 64, 64)\n",
       "\t Spacing    : (2.8571, 3.4286, 2.8571)\n",
       "\t Origin     : (-90.0, 126.0, -72.0)\n",
       "\t Direction  : [ 1.  0.  0.  0. -1.  0.  0.  0.  1.]"
      ]
     },
     "execution_count": 20,
     "metadata": {},
     "output_type": "execute_result"
    }
   ],
   "source": [
    "ants.image_read('../Misc/Atlas_brain_2mm_64iso.nii')"
   ]
  },
  {
   "cell_type": "code",
   "execution_count": null,
   "id": "0819b95e-8110-42a5-ac51-85ccb5386ec4",
   "metadata": {},
   "outputs": [],
   "source": []
  },
  {
   "cell_type": "code",
   "execution_count": null,
   "id": "646715e1-2579-4b59-b136-0e3608ea9701",
   "metadata": {},
   "outputs": [],
   "source": []
  }
 ],
 "metadata": {
  "kernelspec": {
   "display_name": "Python 3 (ipykernel)",
   "language": "python",
   "name": "python3"
  },
  "language_info": {
   "codemirror_mode": {
    "name": "ipython",
    "version": 3
   },
   "file_extension": ".py",
   "mimetype": "text/x-python",
   "name": "python",
   "nbconvert_exporter": "python",
   "pygments_lexer": "ipython3",
   "version": "3.8.17"
  }
 },
 "nbformat": 4,
 "nbformat_minor": 5
}
