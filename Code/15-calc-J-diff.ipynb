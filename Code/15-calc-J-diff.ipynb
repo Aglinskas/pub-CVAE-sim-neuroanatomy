{
 "cells": [
  {
   "cell_type": "code",
   "execution_count": 1,
   "id": "9b036fb6-9abf-459e-bd77-cf97acae7361",
   "metadata": {},
   "outputs": [
    {
     "name": "stdout",
     "output_type": "stream",
     "text": [
      "Tue Jan  2 08:11:20 EST 2024\n"
     ]
    }
   ],
   "source": [
    "!date"
   ]
  },
  {
   "cell_type": "code",
   "execution_count": 2,
   "id": "5c5a3b95-785a-41c0-8ddc-25c056bc623d",
   "metadata": {},
   "outputs": [
    {
     "data": {
      "text/plain": [
       "'/mmfs1/data/aglinska/BC-sim/Code'"
      ]
     },
     "execution_count": 2,
     "metadata": {},
     "output_type": "execute_result"
    }
   ],
   "source": [
    "pwd"
   ]
  },
  {
   "cell_type": "code",
   "execution_count": 3,
   "id": "2b66c077-24b7-4dd5-99df-f45493cb3e74",
   "metadata": {},
   "outputs": [
    {
     "name": "stderr",
     "output_type": "stream",
     "text": [
      "/data/aglinska/anaconda3/lib/python3.8/site-packages/statsmodels/tsa/base/tsa_model.py:7: FutureWarning: pandas.Int64Index is deprecated and will be removed from pandas in a future version. Use pandas.Index with the appropriate dtype instead.\n",
      "  from pandas import (to_datetime, Int64Index, DatetimeIndex, Period,\n",
      "/data/aglinska/anaconda3/lib/python3.8/site-packages/statsmodels/tsa/base/tsa_model.py:7: FutureWarning: pandas.Float64Index is deprecated and will be removed from pandas in a future version. Use pandas.Index with the appropriate dtype instead.\n",
      "  from pandas import (to_datetime, Int64Index, DatetimeIndex, Period,\n",
      "/data/aglinska/anaconda3/lib/python3.8/site-packages/paramiko/transport.py:219: CryptographyDeprecationWarning: Blowfish has been deprecated\n",
      "  \"class\": algorithms.Blowfish,\n"
     ]
    }
   ],
   "source": [
    "import pandas\n",
    "import numpy as np\n",
    "import os\n",
    "import ants\n",
    "from matplotlib import pyplot as plt\n",
    "from tqdm import tqdm"
   ]
  },
  {
   "cell_type": "code",
   "execution_count": 4,
   "id": "64954c7b-035c-449b-aeeb-e861f269b008",
   "metadata": {},
   "outputs": [
    {
     "data": {
      "text/plain": [
       "ANTsImage (RPI)\n",
       "\t Pixel Type : float (float32)\n",
       "\t Components : 1\n",
       "\t Dimensions : (64, 64, 64)\n",
       "\t Spacing    : (2.8571, 3.4286, 2.8571)\n",
       "\t Origin     : (-90.0, 126.0, -72.0)\n",
       "\t Direction  : [ 1.  0.  0.  0. -1.  0.  0.  0.  1.]"
      ]
     },
     "execution_count": 4,
     "metadata": {},
     "output_type": "execute_result"
    }
   ],
   "source": [
    "temp = ants.image_read('../Misc/Atlas_brain_2mm_64iso.nii')\n",
    "temp"
   ]
  },
  {
   "cell_type": "code",
   "execution_count": 5,
   "id": "b7ae3257-89d8-4969-b391-d149b654d7a1",
   "metadata": {},
   "outputs": [],
   "source": [
    "def get_J_sum_TD(s):\n",
    "    sub = f'{s:04d}'\n",
    "    im = ants.image_read(f'../synth-data-01/TD-sub-{sub}.nii.gz')\n",
    "    tx = ants.registration(fixed=temp,moving=im,type_of_transform='SyN',outprefix='/scratch/aglinska/')\n",
    "    J = ants.create_jacobian_determinant_image(domain_image=temp,tx=tx['fwdtransforms'][0])\n",
    "    return abs(J.numpy()-1).sum()"
   ]
  },
  {
   "cell_type": "code",
   "execution_count": 6,
   "id": "1eb4586b-0502-4e43-b57f-052c6e35c79e",
   "metadata": {},
   "outputs": [],
   "source": [
    "def get_J_sum_ADHD(s):\n",
    "    sub = f'{s:04d}'\n",
    "    im_TD = ants.image_read(f'../synth-data-01/TD-sub-{sub}.nii.gz')\n",
    "    im_ADHD = ants.image_read(f'../synth-data-01/ADHD-sub-{sub}.nii.gz')\n",
    "    tx = ants.registration(fixed=im_TD,moving=im_ADHD,type_of_transform='SyN',outprefix='/scratch/aglinska/')\n",
    "    J = ants.create_jacobian_determinant_image(domain_image=temp,tx=tx['fwdtransforms'][0])\n",
    "    return abs(J.numpy()-1).sum()"
   ]
  },
  {
   "cell_type": "code",
   "execution_count": 7,
   "id": "8a2b380b-0e8d-4d9d-816e-49a1ff431e80",
   "metadata": {},
   "outputs": [
    {
     "name": "stderr",
     "output_type": "stream",
     "text": [
      "100%|█████████████████████████████████████████| 500/500 [29:09<00:00,  3.50s/it]\n"
     ]
    }
   ],
   "source": [
    "Js_TD = [get_J_sum_TD(s) for s in tqdm(range(500))]\n",
    "Js_TD = np.array(Js_TD)\n",
    "np.save('../Misc/Js_TD.npy', Js_TD)"
   ]
  },
  {
   "cell_type": "code",
   "execution_count": 8,
   "id": "319c8be3-a357-4f4a-9be4-1ad0381942df",
   "metadata": {},
   "outputs": [
    {
     "name": "stderr",
     "output_type": "stream",
     "text": [
      "100%|█████████████████████████████████████████| 500/500 [27:47<00:00,  3.33s/it]\n"
     ]
    }
   ],
   "source": [
    "Js_ADHD = [get_J_sum_ADHD(s) for s in tqdm(range(500))]\n",
    "Js_ADHD = np.array(Js_ADHD)\n",
    "np.save('../Misc/Js_ADHD.npy', Js_ADHD)"
   ]
  },
  {
   "cell_type": "code",
   "execution_count": 10,
   "id": "7135d537-8033-4801-a0b9-ed3e9da45ed1",
   "metadata": {},
   "outputs": [
    {
     "data": {
      "text/plain": [
       "2.3853438"
      ]
     },
     "execution_count": 10,
     "metadata": {},
     "output_type": "execute_result"
    }
   ],
   "source": [
    "# Average ratio between the magnitude of shared and disorder-specific deformations\n",
    "(Js_TD/Js_ADHD).mean()"
   ]
  },
  {
   "cell_type": "code",
   "execution_count": 15,
   "id": "53d6bad4-bc88-4103-aac0-0153f88421e9",
   "metadata": {},
   "outputs": [
    {
     "data": {
      "text/plain": [
       "(array([ 23., 114., 104.,  82.,  64.,  47.,  36.,  18.,   6.,   6.]),\n",
       " array([1946.1068, 2527.6074, 3109.108 , 3690.6086, 4272.1094, 4853.61  ,\n",
       "        5435.1104, 6016.611 , 6598.112 , 7179.6123, 7761.113 ],\n",
       "       dtype=float32),\n",
       " <BarContainer object of 10 artists>)"
      ]
     },
     "execution_count": 15,
     "metadata": {},
     "output_type": "execute_result"
    },
    {
     "data": {
      "image/png": "[encoded data removed]",
      "text/plain": [
       "<Figure size 640x480 with 1 Axes>"
      ]
     },
     "metadata": {},
     "output_type": "display_data"
    }
   ],
   "source": [
    "plt.hist(Js_TD)\n",
    "plt.hist(Js_ADHD)"
   ]
  },
  {
   "cell_type": "code",
   "execution_count": null,
   "id": "69fb84ea-972e-4598-8f85-d7d14921d93b",
   "metadata": {},
   "outputs": [],
   "source": []
  },
  {
   "cell_type": "code",
   "execution_count": null,
   "id": "37a99229-07dc-4f1d-a555-2701295b7e6f",
   "metadata": {},
   "outputs": [],
   "source": []
  },
  {
   "cell_type": "code",
   "execution_count": null,
   "id": "1a57a2ba-916b-47b7-8ab0-1cd4715883e3",
   "metadata": {},
   "outputs": [],
   "source": []
  },
  {
   "cell_type": "code",
   "execution_count": null,
   "id": "b84429fe-2c40-4d93-b489-a5b4cda61d87",
   "metadata": {},
   "outputs": [],
   "source": []
  }
 ],
 "metadata": {
  "kernelspec": {
   "display_name": "Python 3 (ipykernel)",
   "language": "python",
   "name": "python3"
  },
  "language_info": {
   "codemirror_mode": {
    "name": "ipython",
    "version": 3
   },
   "file_extension": ".py",
   "mimetype": "text/x-python",
   "name": "python",
   "nbconvert_exporter": "python",
   "pygments_lexer": "ipython3",
   "version": "3.9.7"
  }
 },
 "nbformat": 4,
 "nbformat_minor": 5
}
