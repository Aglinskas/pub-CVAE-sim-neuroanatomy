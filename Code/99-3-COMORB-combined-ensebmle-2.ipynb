{
 "cells": [
  {
   "cell_type": "code",
   "execution_count": 1,
   "id": "63889978-beab-409b-bf43-7df1b0ee804e",
   "metadata": {},
   "outputs": [
    {
     "name": "stdout",
     "output_type": "stream",
     "text": [
      "Wed Mar 27 16:38:16 EDT 2024\n"
     ]
    }
   ],
   "source": [
    "!date"
   ]
  },
  {
   "cell_type": "code",
   "execution_count": 2,
   "id": "7025eafc-929a-45e9-ac77-700c72889462",
   "metadata": {},
   "outputs": [
    {
     "data": {
      "text/plain": [
       "'/mmfs1/data/aglinska/BC-COMORB-CVAE/Code'"
      ]
     },
     "execution_count": 2,
     "metadata": {},
     "output_type": "execute_result"
    }
   ],
   "source": [
    "pwd"
   ]
  },
  {
   "cell_type": "code",
   "execution_count": 3,
   "id": "63dfbad2-9ab4-4dbb-83ae-c0128be7100d",
   "metadata": {},
   "outputs": [],
   "source": [
    "import os\n",
    "import numpy as np\n",
    "from matplotlib import pyplot as plt\n",
    "import pandas as pd"
   ]
  },
  {
   "cell_type": "code",
   "execution_count": 4,
   "id": "71b47c1a-b40e-47f7-9286-df9fd7740cd2",
   "metadata": {},
   "outputs": [],
   "source": [
    "# %%time\n",
    "# data_td = np.load('../Data/synth-data-01-TD.npy')\n",
    "# data_asd = np.load('../Data/synth-data-01-ASD.npy')\n",
    "# data_adhd = np.load('../Data/synth-data-01-ADHD.npy')\n",
    "# data_asd_adhd = np.load('../Data/synth-data-01-ADHD_ASD.npy')\n",
    "# data_comorb = np.load('../Data/synth-data-01-COMORB.npy')"
   ]
  },
  {
   "cell_type": "code",
   "execution_count": 5,
   "id": "b42d26b0-b69e-4800-83fd-ff6d290a53ba",
   "metadata": {},
   "outputs": [],
   "source": [
    "# data_td_mean = data_td.mean(axis=0)\n",
    "# data_asd_mean = data_asd.mean(axis=0)\n",
    "# data_adhd_mean = data_adhd.mean(axis=0)\n",
    "# data_asd_adhd_mean = data_asd_adhd.mean(axis=0)\n",
    "# data_comorb_mean = data_comorb.mean(axis=0)\n",
    "# #data_comorb_mean = (data_comorb-data_td).mean(axis=0)"
   ]
  },
  {
   "cell_type": "code",
   "execution_count": 6,
   "id": "47cbec8e-5ede-42c9-b0be-08b18d86ab86",
   "metadata": {},
   "outputs": [],
   "source": [
    "# array(['tg1_2_z_features', 'tg1_2_s_features', 'tg1_2_s1_features',\n",
    "#        'tg1_2_s2_features', 'tg1_z_features', 'tg1_s_features',\n",
    "#        'tg1_s1_features', 'tg1_s2_features', 'tg2_z_features',\n",
    "#        'tg2_s_features', 'tg2_s1_features', 'tg2_s2_features', 'recon',\n",
    "#        'twins', 'recon_onlyASD', 'recon_onlyADHD', 'recon_onlyComorb',\n",
    "#        'r_comorb_minus_ASD', 'r_comorb_minus_ADHD', 'mse_comorb',\n",
    "#        'mse_recon', 'mse_asd', 'mse_adhd', 'corr_z_s', 'corr_s1_s',\n",
    "#        'corr_s2_s', 'corr_s1_s2'], dtype='<U19')"
   ]
  },
  {
   "cell_type": "code",
   "execution_count": 7,
   "id": "2f012d02-15bc-4592-93f2-a6aa5b939f8e",
   "metadata": {},
   "outputs": [
    {
     "data": {
      "text/plain": [
       "['baseline_VaytLnZDIU',\n",
       " 'baseline_haleAXJnVs',\n",
       " 'D4B1_ApwpAmfLQD',\n",
       " 'V1_XHKFpcYZbl']"
      ]
     },
     "execution_count": 7,
     "metadata": {},
     "output_type": "execute_result"
    }
   ],
   "source": [
    "analyses = [a for a in os.listdir('../tf_weights/') if not a.startswith('.')]\n",
    "analyses"
   ]
  },
  {
   "cell_type": "code",
   "execution_count": 8,
   "id": "fa566a76-8367-4159-b39f-5eb76570a8fe",
   "metadata": {},
   "outputs": [
    {
     "name": "stdout",
     "output_type": "stream",
     "text": [
      "20\n"
     ]
    }
   ],
   "source": [
    "analysis_name = 'D4B1_ApwpAmfLQD'\n",
    "indir = f'../tf_weights/{analysis_name}/stage_2/'\n",
    "n = len([f for f in os.listdir(indir) if f.startswith('latent_recons')])\n",
    "print(n)"
   ]
  },
  {
   "cell_type": "code",
   "execution_count": 9,
   "id": "b6b1c623-5d54-4783-9f56-451e5e164718",
   "metadata": {},
   "outputs": [],
   "source": [
    "mse_recon = [np.load(os.path.join(indir,f'latent_recons_{i}.npz'))['mse_recon'][-1] for i in range(n)]\n",
    "mse_asd = [np.load(os.path.join(indir,f'latent_recons_{i}.npz'))['mse_asd'][-1] for i in range(n)]\n",
    "mse_adhd = [np.load(os.path.join(indir,f'latent_recons_{i}.npz'))['mse_adhd'][-1] for i in range(n)]\n",
    "mse_comorb = [np.load(os.path.join(indir,f'latent_recons_{i}.npz'))['mse_comorb'][-1] for i in range(n)]\n",
    "corr_z_s = [np.load(os.path.join(indir,f'latent_recons_{i}.npz'))['corr_z_s'][-1] for i in range(n)]\n",
    "corr_s1_s = [np.load(os.path.join(indir,f'latent_recons_{i}.npz'))['corr_s1_s'][-1] for i in range(n)]\n",
    "corr_s2_s = [np.load(os.path.join(indir,f'latent_recons_{i}.npz'))['corr_s2_s'][-1] for i in range(n)]\n",
    "corr_s1_s2 = [np.load(os.path.join(indir,f'latent_recons_{i}.npz'))['corr_s1_s2'][-1] for i in range(n)]"
   ]
  },
  {
   "cell_type": "code",
   "execution_count": 10,
   "id": "70d8de05-d2c2-4d81-ac82-aa48564a21e0",
   "metadata": {},
   "outputs": [],
   "source": [
    "corrs = np.array([corr_z_s,corr_s1_s,corr_s2_s,corr_s1_s2]).transpose()"
   ]
  },
  {
   "cell_type": "code",
   "execution_count": 11,
   "id": "63a3cb71-7022-45a7-894d-f3e216ccbbf5",
   "metadata": {},
   "outputs": [],
   "source": [
    "arr = np.array([mse_recon,mse_asd,mse_adhd,mse_comorb,corr_z_s,corr_s1_s,corr_s2_s,corr_s1_s2]).transpose()\n",
    "cols = ['mse_recon','mse_asd','mse_adhd','mse_comorb','corr_z_s','corr_s1_s','corr_s2_s','corr_s1_s2']\n",
    "df = pd.DataFrame(arr.round(2),columns=cols)"
   ]
  },
  {
   "cell_type": "code",
   "execution_count": 12,
   "id": "d5b764e8-242a-4ea5-b994-d968927d7af7",
   "metadata": {},
   "outputs": [
    {
     "name": "stdout",
     "output_type": "stream",
     "text": [
      "5\n"
     ]
    }
   ],
   "source": [
    "idx = (np.array(corr_s1_s)<.1) * (np.array(corr_s2_s)<.1) * (np.array(corr_s1_s2)<.1)\n",
    "df['idx'] = idx\n",
    "idx = np.nonzero(idx)[0]\n",
    "print(len(idx))"
   ]
  },
  {
   "cell_type": "code",
   "execution_count": 13,
   "id": "a1c3bc00-20af-4d93-a698-7674bbee78d7",
   "metadata": {},
   "outputs": [],
   "source": [
    "idx = np.arange(n)"
   ]
  },
  {
   "cell_type": "code",
   "execution_count": 14,
   "id": "a5762c33-b8b8-4500-9aac-a5179b0811e1",
   "metadata": {},
   "outputs": [
    {
     "data": {
      "text/html": [
       "<div>\n",
       "<style scoped>\n",
       "    .dataframe tbody tr th:only-of-type {\n",
       "        vertical-align: middle;\n",
       "    }\n",
       "\n",
       "    .dataframe tbody tr th {\n",
       "        vertical-align: top;\n",
       "    }\n",
       "\n",
       "    .dataframe thead th {\n",
       "        text-align: right;\n",
       "    }\n",
       "</style>\n",
       "<table border=\"1\" class=\"dataframe\">\n",
       "  <thead>\n",
       "    <tr style=\"text-align: right;\">\n",
       "      <th></th>\n",
       "      <th>mse_recon</th>\n",
       "      <th>mse_asd</th>\n",
       "      <th>mse_adhd</th>\n",
       "      <th>mse_comorb</th>\n",
       "      <th>corr_z_s</th>\n",
       "      <th>corr_s1_s</th>\n",
       "      <th>corr_s2_s</th>\n",
       "      <th>corr_s1_s2</th>\n",
       "      <th>idx</th>\n",
       "    </tr>\n",
       "  </thead>\n",
       "  <tbody>\n",
       "    <tr>\n",
       "      <th>0</th>\n",
       "      <td>0.96</td>\n",
       "      <td>0.70</td>\n",
       "      <td>0.75</td>\n",
       "      <td>0.67</td>\n",
       "      <td>0.09</td>\n",
       "      <td>0.08</td>\n",
       "      <td>0.12</td>\n",
       "      <td>-0.01</td>\n",
       "      <td>False</td>\n",
       "    </tr>\n",
       "    <tr>\n",
       "      <th>1</th>\n",
       "      <td>0.96</td>\n",
       "      <td>0.68</td>\n",
       "      <td>0.75</td>\n",
       "      <td>0.64</td>\n",
       "      <td>0.03</td>\n",
       "      <td>0.01</td>\n",
       "      <td>0.10</td>\n",
       "      <td>-0.02</td>\n",
       "      <td>False</td>\n",
       "    </tr>\n",
       "    <tr>\n",
       "      <th>2</th>\n",
       "      <td>0.96</td>\n",
       "      <td>0.75</td>\n",
       "      <td>0.79</td>\n",
       "      <td>0.72</td>\n",
       "      <td>-0.04</td>\n",
       "      <td>-0.01</td>\n",
       "      <td>0.02</td>\n",
       "      <td>-0.01</td>\n",
       "      <td>True</td>\n",
       "    </tr>\n",
       "    <tr>\n",
       "      <th>3</th>\n",
       "      <td>0.96</td>\n",
       "      <td>0.74</td>\n",
       "      <td>0.77</td>\n",
       "      <td>0.68</td>\n",
       "      <td>0.06</td>\n",
       "      <td>0.05</td>\n",
       "      <td>0.13</td>\n",
       "      <td>-0.00</td>\n",
       "      <td>False</td>\n",
       "    </tr>\n",
       "    <tr>\n",
       "      <th>4</th>\n",
       "      <td>0.96</td>\n",
       "      <td>0.71</td>\n",
       "      <td>0.76</td>\n",
       "      <td>0.64</td>\n",
       "      <td>0.03</td>\n",
       "      <td>0.04</td>\n",
       "      <td>0.27</td>\n",
       "      <td>0.06</td>\n",
       "      <td>False</td>\n",
       "    </tr>\n",
       "    <tr>\n",
       "      <th>5</th>\n",
       "      <td>0.96</td>\n",
       "      <td>0.77</td>\n",
       "      <td>0.83</td>\n",
       "      <td>0.71</td>\n",
       "      <td>-0.00</td>\n",
       "      <td>0.05</td>\n",
       "      <td>0.15</td>\n",
       "      <td>0.01</td>\n",
       "      <td>False</td>\n",
       "    </tr>\n",
       "    <tr>\n",
       "      <th>6</th>\n",
       "      <td>0.96</td>\n",
       "      <td>0.75</td>\n",
       "      <td>0.80</td>\n",
       "      <td>0.70</td>\n",
       "      <td>0.01</td>\n",
       "      <td>0.03</td>\n",
       "      <td>0.04</td>\n",
       "      <td>-0.01</td>\n",
       "      <td>True</td>\n",
       "    </tr>\n",
       "    <tr>\n",
       "      <th>7</th>\n",
       "      <td>0.96</td>\n",
       "      <td>0.71</td>\n",
       "      <td>0.73</td>\n",
       "      <td>0.65</td>\n",
       "      <td>0.18</td>\n",
       "      <td>0.03</td>\n",
       "      <td>0.12</td>\n",
       "      <td>0.01</td>\n",
       "      <td>False</td>\n",
       "    </tr>\n",
       "    <tr>\n",
       "      <th>8</th>\n",
       "      <td>0.96</td>\n",
       "      <td>0.76</td>\n",
       "      <td>0.79</td>\n",
       "      <td>0.76</td>\n",
       "      <td>-0.01</td>\n",
       "      <td>0.05</td>\n",
       "      <td>0.04</td>\n",
       "      <td>0.04</td>\n",
       "      <td>True</td>\n",
       "    </tr>\n",
       "    <tr>\n",
       "      <th>9</th>\n",
       "      <td>0.96</td>\n",
       "      <td>0.72</td>\n",
       "      <td>0.79</td>\n",
       "      <td>0.63</td>\n",
       "      <td>0.09</td>\n",
       "      <td>0.01</td>\n",
       "      <td>0.11</td>\n",
       "      <td>0.07</td>\n",
       "      <td>False</td>\n",
       "    </tr>\n",
       "    <tr>\n",
       "      <th>10</th>\n",
       "      <td>0.96</td>\n",
       "      <td>0.73</td>\n",
       "      <td>0.75</td>\n",
       "      <td>0.69</td>\n",
       "      <td>0.17</td>\n",
       "      <td>0.06</td>\n",
       "      <td>0.19</td>\n",
       "      <td>-0.00</td>\n",
       "      <td>False</td>\n",
       "    </tr>\n",
       "    <tr>\n",
       "      <th>11</th>\n",
       "      <td>0.96</td>\n",
       "      <td>0.79</td>\n",
       "      <td>0.84</td>\n",
       "      <td>0.71</td>\n",
       "      <td>0.08</td>\n",
       "      <td>0.18</td>\n",
       "      <td>0.21</td>\n",
       "      <td>0.03</td>\n",
       "      <td>False</td>\n",
       "    </tr>\n",
       "    <tr>\n",
       "      <th>12</th>\n",
       "      <td>0.95</td>\n",
       "      <td>0.73</td>\n",
       "      <td>0.76</td>\n",
       "      <td>0.63</td>\n",
       "      <td>0.18</td>\n",
       "      <td>0.16</td>\n",
       "      <td>0.13</td>\n",
       "      <td>0.02</td>\n",
       "      <td>False</td>\n",
       "    </tr>\n",
       "    <tr>\n",
       "      <th>13</th>\n",
       "      <td>0.96</td>\n",
       "      <td>0.74</td>\n",
       "      <td>0.77</td>\n",
       "      <td>0.72</td>\n",
       "      <td>0.00</td>\n",
       "      <td>0.04</td>\n",
       "      <td>0.12</td>\n",
       "      <td>0.09</td>\n",
       "      <td>False</td>\n",
       "    </tr>\n",
       "    <tr>\n",
       "      <th>14</th>\n",
       "      <td>0.96</td>\n",
       "      <td>0.81</td>\n",
       "      <td>0.87</td>\n",
       "      <td>0.75</td>\n",
       "      <td>0.02</td>\n",
       "      <td>0.09</td>\n",
       "      <td>0.03</td>\n",
       "      <td>-0.00</td>\n",
       "      <td>True</td>\n",
       "    </tr>\n",
       "    <tr>\n",
       "      <th>15</th>\n",
       "      <td>0.96</td>\n",
       "      <td>0.68</td>\n",
       "      <td>0.73</td>\n",
       "      <td>0.69</td>\n",
       "      <td>0.09</td>\n",
       "      <td>0.06</td>\n",
       "      <td>0.14</td>\n",
       "      <td>0.06</td>\n",
       "      <td>False</td>\n",
       "    </tr>\n",
       "    <tr>\n",
       "      <th>16</th>\n",
       "      <td>0.95</td>\n",
       "      <td>0.75</td>\n",
       "      <td>0.79</td>\n",
       "      <td>0.71</td>\n",
       "      <td>-0.01</td>\n",
       "      <td>0.06</td>\n",
       "      <td>0.10</td>\n",
       "      <td>0.08</td>\n",
       "      <td>True</td>\n",
       "    </tr>\n",
       "    <tr>\n",
       "      <th>17</th>\n",
       "      <td>0.96</td>\n",
       "      <td>0.68</td>\n",
       "      <td>0.73</td>\n",
       "      <td>0.79</td>\n",
       "      <td>0.32</td>\n",
       "      <td>0.14</td>\n",
       "      <td>0.12</td>\n",
       "      <td>0.02</td>\n",
       "      <td>False</td>\n",
       "    </tr>\n",
       "    <tr>\n",
       "      <th>18</th>\n",
       "      <td>0.94</td>\n",
       "      <td>0.71</td>\n",
       "      <td>0.76</td>\n",
       "      <td>0.62</td>\n",
       "      <td>0.20</td>\n",
       "      <td>0.10</td>\n",
       "      <td>0.15</td>\n",
       "      <td>0.00</td>\n",
       "      <td>False</td>\n",
       "    </tr>\n",
       "    <tr>\n",
       "      <th>19</th>\n",
       "      <td>0.96</td>\n",
       "      <td>0.72</td>\n",
       "      <td>0.77</td>\n",
       "      <td>0.75</td>\n",
       "      <td>0.15</td>\n",
       "      <td>0.02</td>\n",
       "      <td>0.11</td>\n",
       "      <td>0.06</td>\n",
       "      <td>False</td>\n",
       "    </tr>\n",
       "  </tbody>\n",
       "</table>\n",
       "</div>"
      ],
      "text/plain": [
       "    mse_recon  mse_asd  mse_adhd  mse_comorb  corr_z_s  corr_s1_s  corr_s2_s  \\\n",
       "0        0.96     0.70      0.75        0.67      0.09       0.08       0.12   \n",
       "1        0.96     0.68      0.75        0.64      0.03       0.01       0.10   \n",
       "2        0.96     0.75      0.79        0.72     -0.04      -0.01       0.02   \n",
       "3        0.96     0.74      0.77        0.68      0.06       0.05       0.13   \n",
       "4        0.96     0.71      0.76        0.64      0.03       0.04       0.27   \n",
       "5        0.96     0.77      0.83        0.71     -0.00       0.05       0.15   \n",
       "6        0.96     0.75      0.80        0.70      0.01       0.03       0.04   \n",
       "7        0.96     0.71      0.73        0.65      0.18       0.03       0.12   \n",
       "8        0.96     0.76      0.79        0.76     -0.01       0.05       0.04   \n",
       "9        0.96     0.72      0.79        0.63      0.09       0.01       0.11   \n",
       "10       0.96     0.73      0.75        0.69      0.17       0.06       0.19   \n",
       "11       0.96     0.79      0.84        0.71      0.08       0.18       0.21   \n",
       "12       0.95     0.73      0.76        0.63      0.18       0.16       0.13   \n",
       "13       0.96     0.74      0.77        0.72      0.00       0.04       0.12   \n",
       "14       0.96     0.81      0.87        0.75      0.02       0.09       0.03   \n",
       "15       0.96     0.68      0.73        0.69      0.09       0.06       0.14   \n",
       "16       0.95     0.75      0.79        0.71     -0.01       0.06       0.10   \n",
       "17       0.96     0.68      0.73        0.79      0.32       0.14       0.12   \n",
       "18       0.94     0.71      0.76        0.62      0.20       0.10       0.15   \n",
       "19       0.96     0.72      0.77        0.75      0.15       0.02       0.11   \n",
       "\n",
       "    corr_s1_s2    idx  \n",
       "0        -0.01  False  \n",
       "1        -0.02  False  \n",
       "2        -0.01   True  \n",
       "3        -0.00  False  \n",
       "4         0.06  False  \n",
       "5         0.01  False  \n",
       "6        -0.01   True  \n",
       "7         0.01  False  \n",
       "8         0.04   True  \n",
       "9         0.07  False  \n",
       "10       -0.00  False  \n",
       "11        0.03  False  \n",
       "12        0.02  False  \n",
       "13        0.09  False  \n",
       "14       -0.00   True  \n",
       "15        0.06  False  \n",
       "16        0.08   True  \n",
       "17        0.02  False  \n",
       "18        0.00  False  \n",
       "19        0.06  False  "
      ]
     },
     "execution_count": 14,
     "metadata": {},
     "output_type": "execute_result"
    }
   ],
   "source": [
    "df"
   ]
  },
  {
   "cell_type": "code",
   "execution_count": 29,
   "id": "2b7f7f40-621e-47fd-bd19-7c9fe0563150",
   "metadata": {},
   "outputs": [],
   "source": [
    "calc_or_load = 'load'\n",
    "if calc_or_load == 'calc':\n",
    "    print('0/5')\n",
    "    recons = np.array([np.load(os.path.join(indir,f'latent_recons_{i}.npz'))['recon'].mean(axis=0) for i in idx]).mean(axis=0)\n",
    "    print('1/5')\n",
    "    twins = np.array([np.load(os.path.join(indir,f'latent_recons_{i}.npz'))['twins'].mean(axis=0) for i in idx]).mean(axis=0)\n",
    "    print('2/5')\n",
    "    recon_onlyASD = np.array([np.load(os.path.join(indir,f'latent_recons_{i}.npz'))['recon_onlyASD'].mean(axis=0) for i in idx]).mean(axis=0)\n",
    "    print('3/5')\n",
    "    recon_onlyADHD = np.array([np.load(os.path.join(indir,f'latent_recons_{i}.npz'))['recon_onlyADHD'].mean(axis=0) for i in idx]).mean(axis=0)\n",
    "    print('4/5')\n",
    "    recon_onlyComorb = np.array([np.load(os.path.join(indir,f'latent_recons_{i}.npz'))['recon_onlyComorb'].mean(axis=0) for i in idx]).mean(axis=0)\n",
    "    print('5/5')\n",
    "    \n",
    "    np.save('../Data/CVAE-comorb-recons.npy',recons)\n",
    "    np.save('../Data/CVAE-comorb-twins.npy',twins)\n",
    "    np.save('../Data/CVAE-comorb-recon_onlyASD.npy',recon_onlyASD)\n",
    "    np.save('../Data/CVAE-comorb-recon_onlyADHD.npy',recon_onlyADHD)\n",
    "    np.save('../Data/CVAE-comorb-recon_onlyComorb.npy',recon_onlyComorb)\n",
    "else:\n",
    "    recons = np.load('../Data/CVAE-comorb-recons.npy')\n",
    "    twins = np.load('../Data/CVAE-comorb-twins.npy')\n",
    "    recon_onlyASD = np.load('../Data/CVAE-comorb-recon_onlyASD.npy')\n",
    "    recon_onlyADHD = np.load('../Data/CVAE-comorb-recon_onlyADHD.npy')\n",
    "    recon_onlyComorb = np.load('../Data/CVAE-comorb-recon_onlyComorb.npy')"
   ]
  },
  {
   "cell_type": "code",
   "execution_count": 30,
   "id": "cdeda9d0-6658-431a-8ca0-cf82488bfce4",
   "metadata": {},
   "outputs": [
    {
     "data": {
      "image/png": "[encoded data removed]",
      "text/plain": [
       "<Figure size 700x1000 with 12 Axes>"
      ]
     },
     "metadata": {},
     "output_type": "display_data"
    }
   ],
   "source": [
    "cmap = 'bwr'\n",
    "vmin = -.4\n",
    "vmax = .4\n",
    "\n",
    "plt.figure(figsize=(7,10))\n",
    "\n",
    "mat = (recons-twins)#.mean(axis=0)\n",
    "plt.subplot(4,3,1)\n",
    "plt.imshow(np.rot90(mat[:,:,32]),cmap=cmap,vmin=vmin,vmax=vmax);plt.xticks([]);plt.yticks([])\n",
    "plt.ylabel('Reconstruction')\n",
    "\n",
    "plt.subplot(4,3,2)\n",
    "plt.imshow(np.rot90(mat[:,32,:]),cmap=cmap,vmin=vmin,vmax=vmax);plt.xticks([]);plt.yticks([])\n",
    "\n",
    "plt.subplot(4,3,3)\n",
    "plt.imshow(np.rot90(mat[32,:,:]),cmap=cmap,vmin=vmin,vmax=vmax);plt.xticks([]);plt.yticks([])\n",
    "\n",
    "\n",
    "mat = (recon_onlyASD-twins)#.mean(axis=0)\n",
    "plt.subplot(4,3,4)\n",
    "plt.imshow(np.rot90(mat[:,:,32]),cmap=cmap,vmin=vmin,vmax=vmax);plt.xticks([]);plt.yticks([])\n",
    "plt.ylabel('ASD only')\n",
    "\n",
    "plt.subplot(4,3,5)\n",
    "plt.imshow(np.rot90(mat[:,32,:]),cmap=cmap,vmin=vmin,vmax=vmax);plt.xticks([]);plt.yticks([])\n",
    "\n",
    "plt.subplot(4,3,6)\n",
    "plt.imshow(np.rot90(mat[32,:,:]),cmap=cmap,vmin=vmin,vmax=vmax);plt.xticks([]);plt.yticks([])\n",
    "\n",
    "mat = (recon_onlyADHD-twins)#.mean(axis=0)\n",
    "plt.subplot(4,3,7)\n",
    "plt.imshow(np.rot90(mat[:,:,32]),cmap=cmap,vmin=vmin,vmax=vmax);plt.xticks([]);plt.yticks([])\n",
    "plt.ylabel('ADHD only')\n",
    "\n",
    "plt.subplot(4,3,8)\n",
    "plt.imshow(np.rot90(mat[:,32,:]),cmap=cmap,vmin=vmin,vmax=vmax);plt.xticks([]);plt.yticks([])\n",
    "\n",
    "plt.subplot(4,3,9)\n",
    "plt.imshow(np.rot90(mat[32,:,:]),cmap=cmap,vmin=vmin,vmax=vmax);plt.xticks([]);plt.yticks([])\n",
    "\n",
    "mat = (recon_onlyComorb-twins)#.mean(axis=0)\n",
    "plt.subplot(4,3,10)\n",
    "plt.imshow(np.rot90(mat[:,:,32]),cmap=cmap,vmin=vmin,vmax=vmax);plt.xticks([]);plt.yticks([])\n",
    "plt.ylabel('COMORB only')\n",
    "\n",
    "plt.subplot(4,3,11)\n",
    "plt.imshow(np.rot90(mat[:,32,:]),cmap=cmap,vmin=vmin,vmax=vmax);plt.xticks([]);plt.yticks([])\n",
    "\n",
    "plt.subplot(4,3,12)\n",
    "plt.imshow(np.rot90(mat[32,:,:]),cmap=cmap,vmin=vmin,vmax=vmax);plt.xticks([]);plt.yticks([])\n",
    "\n",
    "plt.tight_layout()\n",
    "#plt.savefig(os.path.join(save_dir,f'neuroplots_{iter}.png'))"
   ]
  },
  {
   "cell_type": "code",
   "execution_count": null,
   "id": "659ba0dc-02ce-4cbe-995d-42f89b2ba4cc",
   "metadata": {},
   "outputs": [],
   "source": []
  },
  {
   "cell_type": "code",
   "execution_count": null,
   "id": "20ebcc8d-9a4e-422e-b0e3-9d1f2c043eeb",
   "metadata": {},
   "outputs": [],
   "source": []
  },
  {
   "cell_type": "code",
   "execution_count": 31,
   "id": "a0d12341-eeee-4907-a69e-472b4e8a3f9a",
   "metadata": {},
   "outputs": [
    {
     "data": {
      "text/plain": [
       "([], [])"
      ]
     },
     "execution_count": 31,
     "metadata": {},
     "output_type": "execute_result"
    },
    {
     "data": {
      "image/png": "[encoded data removed]",
      "text/plain": [
       "<Figure size 640x480 with 1 Axes>"
      ]
     },
     "metadata": {},
     "output_type": "display_data"
    },
    {
     "data": {
      "image/png": "[encoded data removed]",
      "text/plain": [
       "<Figure size 640x480 with 1 Axes>"
      ]
     },
     "metadata": {},
     "output_type": "display_data"
    }
   ],
   "source": [
    "mat = (recon_onlyASD-twins)#.mean(axis=0)\n",
    "plt.figure()\n",
    "plt.imshow(np.rot90(mat[:,32,:]),cmap=cmap,vmin=vmin,vmax=vmax);plt.xticks([]);plt.yticks([])\n",
    "\n",
    "plt.figure()\n",
    "plt.imshow(np.rot90(mat[32,:,:]),cmap=cmap,vmin=vmin,vmax=vmax);plt.xticks([]);plt.yticks([])"
   ]
  },
  {
   "cell_type": "code",
   "execution_count": 32,
   "id": "875797d7-a51e-47bc-8d76-480a37763b7d",
   "metadata": {},
   "outputs": [
    {
     "data": {
      "text/plain": [
       "([], [])"
      ]
     },
     "execution_count": 32,
     "metadata": {},
     "output_type": "execute_result"
    },
    {
     "data": {
      "image/png": "[encoded data removed]",
      "text/plain": [
       "<Figure size 640x480 with 1 Axes>"
      ]
     },
     "metadata": {},
     "output_type": "display_data"
    },
    {
     "data": {
      "image/png": "[encoded data removed]",
      "text/plain": [
       "<Figure size 640x480 with 1 Axes>"
      ]
     },
     "metadata": {},
     "output_type": "display_data"
    }
   ],
   "source": [
    "mat = (recon_onlyADHD-twins)#.mean(axis=0)\n",
    "plt.figure()\n",
    "plt.imshow(np.rot90(mat[:,32,:]),cmap=cmap,vmin=vmin,vmax=vmax);plt.xticks([]);plt.yticks([])\n",
    "\n",
    "plt.figure()\n",
    "plt.imshow(np.rot90(mat[32,:,:]),cmap=cmap,vmin=vmin,vmax=vmax);plt.xticks([]);plt.yticks([])"
   ]
  },
  {
   "cell_type": "code",
   "execution_count": 33,
   "id": "413025d9-b4c1-4acc-8c2d-8bb2a9f7fdf0",
   "metadata": {},
   "outputs": [
    {
     "data": {
      "text/plain": [
       "([], [])"
      ]
     },
     "execution_count": 33,
     "metadata": {},
     "output_type": "execute_result"
    },
    {
     "data": {
      "image/png": "[encoded data removed]",
      "text/plain": [
       "<Figure size 640x480 with 1 Axes>"
      ]
     },
     "metadata": {},
     "output_type": "display_data"
    },
    {
     "data": {
      "image/png": "[encoded data removed]",
      "text/plain": [
       "<Figure size 640x480 with 1 Axes>"
      ]
     },
     "metadata": {},
     "output_type": "display_data"
    }
   ],
   "source": [
    "mat = (recon_onlyComorb-twins)#.mean(axis=0)\n",
    "plt.figure()\n",
    "plt.imshow(np.rot90(mat[:,32,:]),cmap=cmap,vmin=vmin,vmax=vmax);plt.xticks([]);plt.yticks([])\n",
    "\n",
    "plt.figure()\n",
    "plt.imshow(np.rot90(mat[32,:,:]),cmap=cmap,vmin=vmin,vmax=vmax);plt.xticks([]);plt.yticks([])"
   ]
  },
  {
   "cell_type": "code",
   "execution_count": null,
   "id": "e5ab4734-3256-4566-967d-2ff625c17800",
   "metadata": {},
   "outputs": [],
   "source": []
  },
  {
   "cell_type": "code",
   "execution_count": null,
   "id": "554309c3-7438-41e5-b10b-bb4b2e613cf7",
   "metadata": {},
   "outputs": [],
   "source": []
  },
  {
   "cell_type": "code",
   "execution_count": null,
   "id": "ffe56fb2-28d6-42e7-b1aa-5579a3783e8b",
   "metadata": {},
   "outputs": [],
   "source": []
  },
  {
   "cell_type": "code",
   "execution_count": null,
   "id": "f994a312-a98c-41da-95c5-e2b8792fa698",
   "metadata": {},
   "outputs": [],
   "source": []
  },
  {
   "cell_type": "code",
   "execution_count": null,
   "id": "977d58cd-212c-49a8-94df-6069c8d3b3ee",
   "metadata": {},
   "outputs": [],
   "source": []
  },
  {
   "cell_type": "code",
   "execution_count": null,
   "id": "19894520-c7df-44bf-acbf-9c2b36075628",
   "metadata": {},
   "outputs": [],
   "source": []
  }
 ],
 "metadata": {
  "kernelspec": {
   "display_name": "Python 3 (ipykernel)",
   "language": "python",
   "name": "python3"
  },
  "language_info": {
   "codemirror_mode": {
    "name": "ipython",
    "version": 3
   },
   "file_extension": ".py",
   "mimetype": "text/x-python",
   "name": "python",
   "nbconvert_exporter": "python",
   "pygments_lexer": "ipython3",
   "version": "3.8.17"
  }
 },
 "nbformat": 4,
 "nbformat_minor": 5
}
