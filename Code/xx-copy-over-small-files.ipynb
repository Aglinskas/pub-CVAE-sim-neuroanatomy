{
 "cells": [
  {
   "cell_type": "code",
   "execution_count": 86,
   "id": "9f7a41a8-853a-476d-9a99-95e05849b50f",
   "metadata": {},
   "outputs": [],
   "source": [
    "import os\n",
    "import shutil\n",
    "from tqdm import tqdm\n",
    "import numpy as np"
   ]
  },
  {
   "cell_type": "code",
   "execution_count": 2,
   "id": "d62c8379-042a-4e5d-b957-601f40c05e00",
   "metadata": {},
   "outputs": [
    {
     "data": {
      "text/plain": [
       "'/mmfs1/data/aglinska/BC-sim/Code'"
      ]
     },
     "execution_count": 2,
     "metadata": {},
     "output_type": "execute_result"
    }
   ],
   "source": [
    "pwd"
   ]
  },
  {
   "cell_type": "code",
   "execution_count": 64,
   "id": "34f9a723-ae92-4cca-ac9c-46ee54982230",
   "metadata": {},
   "outputs": [],
   "source": [
    "def safe_mkdir(path):\n",
    "    if not os.path.exists(path):\n",
    "        os.mkdir(path)"
   ]
  },
  {
   "cell_type": "code",
   "execution_count": 65,
   "id": "59823a17-d882-4764-b804-db238f728218",
   "metadata": {},
   "outputs": [],
   "source": [
    "#'../scratch/2type-8DJABcJFCtwb/stage_1/'"
   ]
  },
  {
   "cell_type": "code",
   "execution_count": 97,
   "id": "59b569dc-f7bd-4ae9-8afc-197867b62b53",
   "metadata": {},
   "outputs": [],
   "source": [
    "safe_mkdir('../scratch2')"
   ]
  },
  {
   "cell_type": "code",
   "execution_count": 98,
   "id": "ce984971-28ae-481f-a54c-8f4cc63d197f",
   "metadata": {},
   "outputs": [],
   "source": [
    "folders1 = [f for f in os.listdir('../scratch/') if not f.startswith('.')]\n",
    "folders1.sort()"
   ]
  },
  {
   "cell_type": "code",
   "execution_count": 103,
   "id": "24bcf1ce-a189-4cae-bdb8-dceebbc931b1",
   "metadata": {},
   "outputs": [
    {
     "name": "stderr",
     "output_type": "stream",
     "text": [
      "100%|█████████████████████████████████████████| 122/122 [05:51<00:00,  2.88s/it]\n"
     ]
    }
   ],
   "source": [
    "for f in tqdm(range(len(folders1))):\n",
    "    for stage in ['stage_1','stage_2']:\n",
    "        path1 = os.path.join('../scratch/',folders1[f],stage)\n",
    "        if os.path.exists(path1):\n",
    "            path2 = os.path.join('../scratch2/',folders1[f],stage)\n",
    "            safe_mkdir(os.path.join('../scratch2/',folders1[f]))\n",
    "            safe_mkdir(os.path.join('../scratch2/',folders1[f],stage))\n",
    "            files = [file for file in os.listdir(path1) if not file.startswith('CVAE_')]\n",
    "            files = [file for file in files if not file.startswith('VAE_')]\n",
    "            files = [file for file in files if not file.startswith('patient_td_twins_')]\n",
    "            files = [file for file in files if not file.startswith('patient_recons_')]\n",
    "            files = [file for file in files if not file.startswith('.')]\n",
    "            if len(files)>0:\n",
    "                small_idx = np.array([(os.path.getsize(os.path.join(path1,file))/1024/1024)<100 for file in files])\n",
    "                files = list(np.array(files)[small_idx])\n",
    "        \n",
    "            #assert not any([(os.path.getsize(os.path.join(path1,file))/1024/1024)>500 for file in files]), 'large file detected' # Check for files larger than 500MB\n",
    "            files.sort()\n",
    "            \n",
    "            [shutil.copyfile(src=os.path.join(path1,file), dst=os.path.join(path2,file)) for file in files];"
   ]
  },
  {
   "cell_type": "code",
   "execution_count": 102,
   "id": "3df6cf62-bdbb-41d2-b858-f0272f2d282c",
   "metadata": {},
   "outputs": [
    {
     "data": {
      "text/plain": [
       "0"
      ]
     },
     "execution_count": 102,
     "metadata": {},
     "output_type": "execute_result"
    }
   ],
   "source": []
  },
  {
   "cell_type": "code",
   "execution_count": null,
   "id": "78eacb72-a952-46fb-9271-e84202cbc0bc",
   "metadata": {},
   "outputs": [],
   "source": []
  },
  {
   "cell_type": "code",
   "execution_count": null,
   "id": "8f5b503c-0e38-44c6-90e8-9e4d321960f9",
   "metadata": {},
   "outputs": [],
   "source": []
  }
 ],
 "metadata": {
  "kernelspec": {
   "display_name": "Python 3 (ipykernel)",
   "language": "python",
   "name": "python3"
  },
  "language_info": {
   "codemirror_mode": {
    "name": "ipython",
    "version": 3
   },
   "file_extension": ".py",
   "mimetype": "text/x-python",
   "name": "python",
   "nbconvert_exporter": "python",
   "pygments_lexer": "ipython3",
   "version": "3.8.17"
  }
 },
 "nbformat": 4,
 "nbformat_minor": 5
}
